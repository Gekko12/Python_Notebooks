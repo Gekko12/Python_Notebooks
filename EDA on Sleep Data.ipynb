{
 "cells": [
  {
   "cell_type": "markdown",
   "id": "e60f7f08",
   "metadata": {},
   "source": [
    "# <font color=\"hotpink\"> Exploratory Data Analysis on Sleep Data </font>\n",
    "\n",
    "* Data collected from a survey-based study of the sleeping habits of individuals within the US. Here is a description of each of the variables contained within the dataset:\n",
    "    1. Enough = Do you think that you get enough sleep?\n",
    "    2. Hours = On average, how many hours of sleep do you get on a weeknight?\n",
    "    3. PhoneReach = Do you sleep with your phone within arms reach?\n",
    "    4. PhoneTime = Do you use your phone within 30 minutes of falling asleep?\n",
    "    5. Tired = On a scale from 1 to 5, how tired are you throughout the day? (1 being not tired, 5 being very tired)\n",
    "    6. Breakfast = Do you typically eat breakfast?\n",
    "\n",
    "Source: [Kaggle](https://www.kaggle.com/datasets/mlomuscio/sleepstudypilot)"
   ]
  },
  {
   "cell_type": "markdown",
   "id": "101cb14c",
   "metadata": {},
   "source": [
    "## <font color=\"#fe741\"> Importing required packages </font> "
   ]
  },
  {
   "cell_type": "code",
   "execution_count": 1,
   "id": "8a1a683e",
   "metadata": {
    "scrolled": true
   },
   "outputs": [
    {
     "name": "stdout",
     "output_type": "stream",
     "text": [
      "Python 3.10.5\n"
     ]
    }
   ],
   "source": [
    "! python --version"
   ]
  },
  {
   "cell_type": "code",
   "execution_count": 2,
   "id": "9a453036",
   "metadata": {},
   "outputs": [
    {
     "name": "stdout",
     "output_type": "stream",
     "text": [
      "--- Versions ---\n",
      "numpy 1.24.0\n",
      "pandas 1.5.2\n",
      "seaborn 0.12.1\n"
     ]
    }
   ],
   "source": [
    "import numpy as np\n",
    "import pandas as pd\n",
    "from scipy import stats\n",
    "import statistics\n",
    "import warnings\n",
    "import matplotlib.pyplot as plt\n",
    "import seaborn as sns\n",
    "\n",
    "# This will hide all Jupyter Notebook warnings.\n",
    "warnings.filterwarnings('ignore')\n",
    "\n",
    "print(\" Versions \".center(16, \"-\"))\n",
    "print(\"numpy\", np.__version__)\n",
    "print(\"pandas\", pd.__version__)\n",
    "print(\"seaborn\", sns.__version__)\n",
    "\n",
    "# magic command to show matplotlib o/p into the same shell that we are running and not in a separate output window. \n",
    "%matplotlib inline"
   ]
  },
  {
   "cell_type": "markdown",
   "id": "e42939a6",
   "metadata": {},
   "source": [
    "## <font color=\"#fe7401\"> Importing Dataset </font>"
   ]
  },
  {
   "cell_type": "code",
   "execution_count": 3,
   "id": "6e2c42ff",
   "metadata": {},
   "outputs": [
    {
     "data": {
      "text/html": [
       "<div>\n",
       "<style scoped>\n",
       "    .dataframe tbody tr th:only-of-type {\n",
       "        vertical-align: middle;\n",
       "    }\n",
       "\n",
       "    .dataframe tbody tr th {\n",
       "        vertical-align: top;\n",
       "    }\n",
       "\n",
       "    .dataframe thead th {\n",
       "        text-align: right;\n",
       "    }\n",
       "</style>\n",
       "<table border=\"1\" class=\"dataframe\">\n",
       "  <thead>\n",
       "    <tr style=\"text-align: right;\">\n",
       "      <th></th>\n",
       "      <th>Enough</th>\n",
       "      <th>Hours</th>\n",
       "      <th>PhoneReach</th>\n",
       "      <th>PhoneTime</th>\n",
       "      <th>Tired</th>\n",
       "      <th>Breakfast</th>\n",
       "    </tr>\n",
       "  </thead>\n",
       "  <tbody>\n",
       "    <tr>\n",
       "      <th>0</th>\n",
       "      <td>Yes</td>\n",
       "      <td>8.0</td>\n",
       "      <td>Yes</td>\n",
       "      <td>Yes</td>\n",
       "      <td>3</td>\n",
       "      <td>Yes</td>\n",
       "    </tr>\n",
       "    <tr>\n",
       "      <th>1</th>\n",
       "      <td>No</td>\n",
       "      <td>6.0</td>\n",
       "      <td>Yes</td>\n",
       "      <td>Yes</td>\n",
       "      <td>3</td>\n",
       "      <td>No</td>\n",
       "    </tr>\n",
       "    <tr>\n",
       "      <th>2</th>\n",
       "      <td>Yes</td>\n",
       "      <td>6.0</td>\n",
       "      <td>Yes</td>\n",
       "      <td>Yes</td>\n",
       "      <td>2</td>\n",
       "      <td>Yes</td>\n",
       "    </tr>\n",
       "    <tr>\n",
       "      <th>3</th>\n",
       "      <td>No</td>\n",
       "      <td>7.0</td>\n",
       "      <td>Yes</td>\n",
       "      <td>Yes</td>\n",
       "      <td>4</td>\n",
       "      <td>No</td>\n",
       "    </tr>\n",
       "    <tr>\n",
       "      <th>4</th>\n",
       "      <td>No</td>\n",
       "      <td>7.0</td>\n",
       "      <td>Yes</td>\n",
       "      <td>Yes</td>\n",
       "      <td>2</td>\n",
       "      <td>Yes</td>\n",
       "    </tr>\n",
       "  </tbody>\n",
       "</table>\n",
       "</div>"
      ],
      "text/plain": [
       "  Enough  Hours PhoneReach PhoneTime  Tired Breakfast\n",
       "0    Yes    8.0        Yes       Yes      3       Yes\n",
       "1     No    6.0        Yes       Yes      3        No\n",
       "2    Yes    6.0        Yes       Yes      2       Yes\n",
       "3     No    7.0        Yes       Yes      4        No\n",
       "4     No    7.0        Yes       Yes      2       Yes"
      ]
     },
     "execution_count": 3,
     "metadata": {},
     "output_type": "execute_result"
    }
   ],
   "source": [
    "df = pd.read_csv(\"./sleep data/SleepStudyData.csv\")\n",
    "df.head()"
   ]
  },
  {
   "cell_type": "code",
   "execution_count": 4,
   "id": "28f3f6f7",
   "metadata": {},
   "outputs": [
    {
     "data": {
      "text/html": [
       "<div>\n",
       "<style scoped>\n",
       "    .dataframe tbody tr th:only-of-type {\n",
       "        vertical-align: middle;\n",
       "    }\n",
       "\n",
       "    .dataframe tbody tr th {\n",
       "        vertical-align: top;\n",
       "    }\n",
       "\n",
       "    .dataframe thead th {\n",
       "        text-align: right;\n",
       "    }\n",
       "</style>\n",
       "<table border=\"1\" class=\"dataframe\">\n",
       "  <thead>\n",
       "    <tr style=\"text-align: right;\">\n",
       "      <th></th>\n",
       "      <th>Enough</th>\n",
       "      <th>Hours</th>\n",
       "      <th>PhoneReach</th>\n",
       "      <th>PhoneTime</th>\n",
       "      <th>Tired</th>\n",
       "      <th>Breakfast</th>\n",
       "    </tr>\n",
       "  </thead>\n",
       "  <tbody>\n",
       "    <tr>\n",
       "      <th>99</th>\n",
       "      <td>No</td>\n",
       "      <td>7.0</td>\n",
       "      <td>Yes</td>\n",
       "      <td>Yes</td>\n",
       "      <td>2</td>\n",
       "      <td>Yes</td>\n",
       "    </tr>\n",
       "    <tr>\n",
       "      <th>100</th>\n",
       "      <td>No</td>\n",
       "      <td>7.0</td>\n",
       "      <td>No</td>\n",
       "      <td>Yes</td>\n",
       "      <td>3</td>\n",
       "      <td>Yes</td>\n",
       "    </tr>\n",
       "    <tr>\n",
       "      <th>101</th>\n",
       "      <td>Yes</td>\n",
       "      <td>8.0</td>\n",
       "      <td>Yes</td>\n",
       "      <td>Yes</td>\n",
       "      <td>3</td>\n",
       "      <td>Yes</td>\n",
       "    </tr>\n",
       "    <tr>\n",
       "      <th>102</th>\n",
       "      <td>Yes</td>\n",
       "      <td>7.0</td>\n",
       "      <td>Yes</td>\n",
       "      <td>Yes</td>\n",
       "      <td>2</td>\n",
       "      <td>Yes</td>\n",
       "    </tr>\n",
       "    <tr>\n",
       "      <th>103</th>\n",
       "      <td>Yes</td>\n",
       "      <td>6.0</td>\n",
       "      <td>Yes</td>\n",
       "      <td>Yes</td>\n",
       "      <td>3</td>\n",
       "      <td>Yes</td>\n",
       "    </tr>\n",
       "  </tbody>\n",
       "</table>\n",
       "</div>"
      ],
      "text/plain": [
       "    Enough  Hours PhoneReach PhoneTime  Tired Breakfast\n",
       "99      No    7.0        Yes       Yes      2       Yes\n",
       "100     No    7.0         No       Yes      3       Yes\n",
       "101    Yes    8.0        Yes       Yes      3       Yes\n",
       "102    Yes    7.0        Yes       Yes      2       Yes\n",
       "103    Yes    6.0        Yes       Yes      3       Yes"
      ]
     },
     "execution_count": 4,
     "metadata": {},
     "output_type": "execute_result"
    }
   ],
   "source": [
    "df.tail()"
   ]
  },
  {
   "cell_type": "markdown",
   "id": "9ef932b7",
   "metadata": {},
   "source": [
    "## <font color=\"#fe7401\"> Getting insights about the dataset </font>"
   ]
  },
  {
   "cell_type": "code",
   "execution_count": 5,
   "id": "c7a1f613",
   "metadata": {},
   "outputs": [
    {
     "data": {
      "text/plain": [
       "(104, 6)"
      ]
     },
     "execution_count": 5,
     "metadata": {},
     "output_type": "execute_result"
    }
   ],
   "source": [
    "# shape of dataset -> (rows, cols)\n",
    "df.shape"
   ]
  },
  {
   "cell_type": "code",
   "execution_count": 6,
   "id": "f77b0659",
   "metadata": {
    "scrolled": true
   },
   "outputs": [
    {
     "data": {
      "text/html": [
       "<div>\n",
       "<style scoped>\n",
       "    .dataframe tbody tr th:only-of-type {\n",
       "        vertical-align: middle;\n",
       "    }\n",
       "\n",
       "    .dataframe tbody tr th {\n",
       "        vertical-align: top;\n",
       "    }\n",
       "\n",
       "    .dataframe thead th {\n",
       "        text-align: right;\n",
       "    }\n",
       "</style>\n",
       "<table border=\"1\" class=\"dataframe\">\n",
       "  <thead>\n",
       "    <tr style=\"text-align: right;\">\n",
       "      <th></th>\n",
       "      <th>Hours</th>\n",
       "      <th>Tired</th>\n",
       "    </tr>\n",
       "  </thead>\n",
       "  <tbody>\n",
       "    <tr>\n",
       "      <th>count</th>\n",
       "      <td>102.000000</td>\n",
       "      <td>104.000000</td>\n",
       "    </tr>\n",
       "    <tr>\n",
       "      <th>mean</th>\n",
       "      <td>6.656863</td>\n",
       "      <td>3.076923</td>\n",
       "    </tr>\n",
       "    <tr>\n",
       "      <th>std</th>\n",
       "      <td>1.417676</td>\n",
       "      <td>1.011510</td>\n",
       "    </tr>\n",
       "    <tr>\n",
       "      <th>min</th>\n",
       "      <td>2.000000</td>\n",
       "      <td>1.000000</td>\n",
       "    </tr>\n",
       "    <tr>\n",
       "      <th>25%</th>\n",
       "      <td>6.000000</td>\n",
       "      <td>2.000000</td>\n",
       "    </tr>\n",
       "    <tr>\n",
       "      <th>50%</th>\n",
       "      <td>7.000000</td>\n",
       "      <td>3.000000</td>\n",
       "    </tr>\n",
       "    <tr>\n",
       "      <th>75%</th>\n",
       "      <td>7.000000</td>\n",
       "      <td>4.000000</td>\n",
       "    </tr>\n",
       "    <tr>\n",
       "      <th>max</th>\n",
       "      <td>10.000000</td>\n",
       "      <td>5.000000</td>\n",
       "    </tr>\n",
       "  </tbody>\n",
       "</table>\n",
       "</div>"
      ],
      "text/plain": [
       "            Hours       Tired\n",
       "count  102.000000  104.000000\n",
       "mean     6.656863    3.076923\n",
       "std      1.417676    1.011510\n",
       "min      2.000000    1.000000\n",
       "25%      6.000000    2.000000\n",
       "50%      7.000000    3.000000\n",
       "75%      7.000000    4.000000\n",
       "max     10.000000    5.000000"
      ]
     },
     "execution_count": 6,
     "metadata": {},
     "output_type": "execute_result"
    }
   ],
   "source": [
    "# showing statistical data like percentile, mean, etc. of numerical data.\n",
    "df.describe()"
   ]
  },
  {
   "cell_type": "code",
   "execution_count": 7,
   "id": "6959dc3b",
   "metadata": {},
   "outputs": [
    {
     "name": "stdout",
     "output_type": "stream",
     "text": [
      "<class 'pandas.core.frame.DataFrame'>\n",
      "RangeIndex: 104 entries, 0 to 103\n",
      "Data columns (total 6 columns):\n",
      " #   Column      Non-Null Count  Dtype  \n",
      "---  ------      --------------  -----  \n",
      " 0   Enough      104 non-null    object \n",
      " 1   Hours       102 non-null    float64\n",
      " 2   PhoneReach  104 non-null    object \n",
      " 3   PhoneTime   104 non-null    object \n",
      " 4   Tired       104 non-null    int64  \n",
      " 5   Breakfast   104 non-null    object \n",
      "dtypes: float64(1), int64(1), object(4)\n",
      "memory usage: 5.0+ KB\n"
     ]
    }
   ],
   "source": [
    "# columns and their data types\n",
    "df.info()"
   ]
  },
  {
   "cell_type": "code",
   "execution_count": 8,
   "id": "dda26543",
   "metadata": {},
   "outputs": [
    {
     "data": {
      "text/plain": [
       "Enough        0\n",
       "Hours         2\n",
       "PhoneReach    0\n",
       "PhoneTime     0\n",
       "Tired         0\n",
       "Breakfast     0\n",
       "dtype: int64"
      ]
     },
     "execution_count": 8,
     "metadata": {},
     "output_type": "execute_result"
    }
   ],
   "source": [
    "# check if there are any missing values in our dataset or not.\n",
    "df.isnull().sum()"
   ]
  },
  {
   "cell_type": "markdown",
   "id": "fe0ac97f",
   "metadata": {},
   "source": [
    "We can see that there are two null values in `Hours` column. Let's check the mean, median and mode of the `Hours` feature."
   ]
  },
  {
   "cell_type": "code",
   "execution_count": 9,
   "id": "8fefa72b",
   "metadata": {},
   "outputs": [
    {
     "name": "stdout",
     "output_type": "stream",
     "text": [
      "Number of rows in 'Hours' feature: 102\n",
      "Mean: 6.7\n",
      "Median: 7.0\n",
      "Mode: 7.0 and values count: 35\n"
     ]
    }
   ],
   "source": [
    "print(\"Number of rows in 'Hours' feature:\", df[\"Hours\"].count())\n",
    "print(\"Mean:\", round(np.mean(df[\"Hours\"]), 1))\n",
    "print(\"Median:\", statistics.median(df[\"Hours\"]))\n",
    "print(\"Mode: %.1f and values count: %d\" % (stats.mode(df[\"Hours\"])))"
   ]
  },
  {
   "cell_type": "markdown",
   "id": "0e7b54bc",
   "metadata": {},
   "source": [
    "As we can see that, about 34% of the Hour values is 7 ie. the mode value and mean is also very close to 7. Let’s try to fill the missing values of Hours with the float value 7.0."
   ]
  },
  {
   "cell_type": "code",
   "execution_count": 10,
   "id": "62948d80",
   "metadata": {},
   "outputs": [
    {
     "data": {
      "text/plain": [
       "dtype('float64')"
      ]
     },
     "execution_count": 10,
     "metadata": {},
     "output_type": "execute_result"
    }
   ],
   "source": [
    "df[\"Hours\"].dtype"
   ]
  },
  {
   "cell_type": "code",
   "execution_count": 11,
   "id": "2faf517a",
   "metadata": {
    "scrolled": true
   },
   "outputs": [
    {
     "data": {
      "text/plain": [
       "Enough        0\n",
       "Hours         0\n",
       "PhoneReach    0\n",
       "PhoneTime     0\n",
       "Tired         0\n",
       "Breakfast     0\n",
       "dtype: int64"
      ]
     },
     "execution_count": 11,
     "metadata": {},
     "output_type": "execute_result"
    }
   ],
   "source": [
    "df[\"Hours\"].fillna(7.0, inplace = True) \n",
    "df.isnull().sum()"
   ]
  },
  {
   "cell_type": "markdown",
   "id": "dcea5862",
   "metadata": {},
   "source": [
    "## <font color=\"#fe7401\"> Visualizing the relations </font>"
   ]
  },
  {
   "cell_type": "code",
   "execution_count": 12,
   "id": "3824b190",
   "metadata": {},
   "outputs": [],
   "source": [
    "sns.set_theme(style='white', font_scale=0.8)"
   ]
  },
  {
   "cell_type": "code",
   "execution_count": 13,
   "id": "b6760cdc",
   "metadata": {},
   "outputs": [
    {
     "data": {
      "image/png": "[encoded data removed]",
      "text/plain": [
       "<Figure size 640x480 with 1 Axes>"
      ]
     },
     "metadata": {},
     "output_type": "display_data"
    }
   ],
   "source": [
    "sns.boxplot(x='Tired', y='Hours', data=df)\n",
    "plt.show()"
   ]
  },
  {
   "cell_type": "markdown",
   "id": "c6043994",
   "metadata": {},
   "source": [
    "Above plot shows that person who sleeps 6 to 8 hours has less tired rate and people who sleep more than that and less than that have more tired rate."
   ]
  },
  {
   "cell_type": "code",
   "execution_count": 14,
   "id": "0a783da7",
   "metadata": {
    "scrolled": false
   },
   "outputs": [
    {
     "data": {
      "image/png": "[encoded data removed]",
      "text/plain": [
       "<Figure size 1087.28x500 with 2 Axes>"
      ]
     },
     "metadata": {},
     "output_type": "display_data"
    }
   ],
   "source": [
    "# swarm plot used which is kind of strip plot but with non-overlapping points\n",
    "sns.catplot(x=\"Enough\", y=\"Tired\", col=\"PhoneTime\", hue=\"PhoneReach\", data=df, kind=\"swarm\")\n",
    "\n",
    "# Display all open figures\n",
    "plt.show()"
   ]
  },
  {
   "cell_type": "markdown",
   "id": "53910fdc",
   "metadata": {},
   "source": [
    "* As we can see, relation between using phone before 30 min falling asleep and phone is in reach doesn't very correlate to tiredness and enough sleep.\n",
    "* Now let's try to visualize with breakfast. "
   ]
  },
  {
   "cell_type": "code",
   "execution_count": 15,
   "id": "7ce9912c",
   "metadata": {},
   "outputs": [
    {
     "data": {
      "image/png": "[encoded data removed]",
      "text/plain": [
       "<Figure size 566.778x500 with 1 Axes>"
      ]
     },
     "metadata": {},
     "output_type": "display_data"
    }
   ],
   "source": [
    "# Relational Plot (relplot) allows us to visualise how variables within a dataset relate to each other.\n",
    "sns.relplot(x=\"Hours\", y=\"Tired\", ci=None, kind=\"line\", hue=\"Breakfast\", data=df)\n",
    "plt.show()"
   ]
  },
  {
   "cell_type": "markdown",
   "id": "6b31a562",
   "metadata": {},
   "source": [
    "### <font color=\"red\"> Conclusion: </font>\n",
    "* Individuals who eat breakfast and have 7-8 hours of sleep, feels less tired in comparison with individuals who doesn't eat breakfast.\n",
    "* Person who sleeps 6 to 8 hours has less Tired Rate\n",
    "* And People who sleep more than that and less than that have more Tired Rate."
   ]
  }
 ],
 "metadata": {
  "kernelspec": {
   "display_name": "Python 3 (ipykernel)",
   "language": "python",
   "name": "python3"
  },
  "language_info": {
   "codemirror_mode": {
    "name": "ipython",
    "version": 3
   },
   "file_extension": ".py",
   "mimetype": "text/x-python",
   "name": "python",
   "nbconvert_exporter": "python",
   "pygments_lexer": "ipython3",
   "version": "3.10.5"
  }
 },
 "nbformat": 4,
 "nbformat_minor": 5
}
