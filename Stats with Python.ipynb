{
 "cells": [
  {
   "cell_type": "markdown",
   "id": "2c28ef6f",
   "metadata": {},
   "source": [
    "# <font color=\"hotpink\"> Statistics with Python</font>"
   ]
  },
  {
   "cell_type": "markdown",
   "id": "df2934ec",
   "metadata": {},
   "source": [
    "## <font color=\"#fe7401\"> Permutation and Combination </font>\n",
    "\n",
    "* Permutation means arrange ie. order matters.\n",
    "* Combinations means select ie. order doesn't matter.\n",
    "<img src=\"background/permu_comb.png\" width=\"300\">"
   ]
  },
  {
   "cell_type": "code",
   "execution_count": 1,
   "id": "0757df80",
   "metadata": {},
   "outputs": [],
   "source": [
    "import numpy as np\n",
    "import pandas as pd\n",
    "import matplotlib.pyplot as plt\n",
    "import seaborn as sns\n",
    "import itertools\n",
    "import math\n",
    "import warnings\n",
    "import statistics\n",
    "from scipy import stats\n",
    "\n",
    "warnings.filterwarnings('ignore')\n",
    "%matplotlib inline\n",
    "\n",
    "# help(itertools)\n",
    "# help(statistics)"
   ]
  },
  {
   "cell_type": "code",
   "execution_count": 2,
   "id": "da5d7400",
   "metadata": {},
   "outputs": [
    {
     "name": "stdout",
     "output_type": "stream",
     "text": [
      "10\n",
      "20\n"
     ]
    }
   ],
   "source": [
    "arr = np.array([ch for ch in \"HORSE\"])\n",
    "print(len(list(itertools.combinations(arr, 2))))\n",
    "print(len(list(itertools.permutations(arr, 2))))"
   ]
  },
  {
   "cell_type": "code",
   "execution_count": 3,
   "id": "2f2a724c",
   "metadata": {},
   "outputs": [
    {
     "name": "stdout",
     "output_type": "stream",
     "text": [
      "[(1, 2), (1, 3), (2, 1), (2, 3), (3, 1), (3, 2)]\n",
      "[(1, 2), (1, 3), (2, 3)]\n"
     ]
    }
   ],
   "source": [
    "print(list(itertools.permutations([1,2,3], 2)))\n",
    "print(list(itertools.combinations([1,2,3], 2)))"
   ]
  },
  {
   "cell_type": "code",
   "execution_count": 4,
   "id": "9ec9134d",
   "metadata": {},
   "outputs": [
    {
     "name": "stdout",
     "output_type": "stream",
     "text": [
      "6720.0\n"
     ]
    }
   ],
   "source": [
    "def nCr(n, r):\n",
    "    return math.factorial(n) / (math.factorial(r)*math.factorial(n-r))\n",
    "\n",
    "# how many ways can 10 balls be picked from 7 red out of 10, and 3 blue out of 8\n",
    "print(nCr(10, 7) * nCr(8, 3))"
   ]
  },
  {
   "cell_type": "markdown",
   "id": "e6c43622",
   "metadata": {},
   "source": [
    "## <font color=\"#fe7401\">Descriptive Statistics</font>\n",
    "* Measures of Dispersion provide insights on the spread of given dataset.\n",
    "* Major measures of dispersion are: range, percentile, inter-quartile range, standard deviation, variance, skewness, and kurtosis.\n",
    "* **Range** is the difference between maximum and minimum values of the dataset.\n",
    "* **Percentile** refers to a value, below which lies given the percentage of data points.\n",
    "* E.g., 45th percentile refers to a value below which 45% of data points are found.\n",
    "* `percentile` function of numpy can be used to compute a single or multiple percentiles.\n",
    "* Three **Quartiles** namely, Q1 Q2 and Q3, split the entire dataset into four equal parts. Each part contains 25% of data.\n",
    "* **Inter quartile range** refers to difference between third quartile (Q3) and first quartile (Q1).\n",
    "* `iqr` method from scipy.stats can be used for calculating it.\n",
    "* **Variance** is defined as the average of squared differences, of each data point from dataset's mean.\n",
    "* **Standard Deviation** is square root of variance.\n",
    "* `var` and `std` functions of numpy can be used for computing variance and standard deviation respectively.\n",
    "* By default, the functions assume that the dataset represents entire population. To represent a sample, derived from a population, `ddof` parameter is set to 1.\n",
    "* **skewness** determines whether the majority of data points are present on one side of the distribution.\n",
    "* A positive value represents right skewed distribution; a negative value represents left skewed one, zero represent unskewed distribution.\n",
    "* **Positively skewed** (or right-skewed) distribution is a type of distribution in which most values are clustered around the left tail of the distribution while the right tail of the distribution is longer.\n",
    "* **Kurtosis** indicates how much of data is concentrated around mean or shape of the probability distribution.\n",
    "* It can be estimated using `kurtosis` function of scipy.stats module.\n",
    "* By default, it uses Fisher’s definition. This can be changed to Pearson by setting fisher parameter to False."
   ]
  },
  {
   "cell_type": "code",
   "execution_count": 5,
   "id": "e606ad79",
   "metadata": {
    "scrolled": true
   },
   "outputs": [
    {
     "name": "stdout",
     "output_type": "stream",
     "text": [
      "Mean: 2.75\n",
      "Median: 3.0\n",
      "Mode: 4\n",
      "Population stddev: 1.299038105676658\n",
      "Population variance: 1.6875\n"
     ]
    }
   ],
   "source": [
    "arr = [1,2,4,4]\n",
    "print(\"Mean:\", statistics.mean(arr))\n",
    "print(\"Median:\", statistics.median(arr))\n",
    "print(\"Mode:\", statistics.mode(arr))\n",
    "print(\"Population stddev:\", statistics.pstdev(arr))\n",
    "print(\"Population variance:\", statistics.pvariance(arr))"
   ]
  },
  {
   "cell_type": "code",
   "execution_count": 6,
   "id": "b7d72325",
   "metadata": {},
   "outputs": [
    {
     "name": "stdout",
     "output_type": "stream",
     "text": [
      "4.0\n",
      "4.5\n",
      "ModeResult(mode=array([5]), count=array([3]))\n"
     ]
    }
   ],
   "source": [
    "arr = np.array([2,3,4,5,5,5])\n",
    "print(np.mean(arr))\n",
    "print(np.median(arr)) # (4+5)/2 -> 4.5\n",
    "print(stats.mode(arr))"
   ]
  },
  {
   "cell_type": "code",
   "execution_count": 7,
   "id": "0c0e84a1",
   "metadata": {},
   "outputs": [
    {
     "name": "stdout",
     "output_type": "stream",
     "text": [
      "46\n"
     ]
    }
   ],
   "source": [
    "s1 = np.array([86, 47, 45, 47, 40])\n",
    "print(np.ptp(s1))  # range or peak to peak"
   ]
  },
  {
   "cell_type": "code",
   "execution_count": 8,
   "id": "29113eab",
   "metadata": {},
   "outputs": [
    {
     "name": "stdout",
     "output_type": "stream",
     "text": [
      "65\n"
     ]
    },
    {
     "data": {
      "text/plain": [
       "array([40, 45, 47, 47, 65, 75, 83, 86, 97, 98])"
      ]
     },
     "execution_count": 8,
     "metadata": {},
     "output_type": "execute_result"
    }
   ],
   "source": [
    "s2 = np.array([86, 47, 45, 47, 40, 97, 98, 75, 65, 83])\n",
    "print(np.percentile(s2, 45, interpolation=\"lower\"))\n",
    "s2.sort()\n",
    "s2"
   ]
  },
  {
   "cell_type": "code",
   "execution_count": 9,
   "id": "e4e6aa72",
   "metadata": {},
   "outputs": [
    {
     "data": {
      "text/plain": [
       "array([47, 65, 83])"
      ]
     },
     "execution_count": 9,
     "metadata": {},
     "output_type": "execute_result"
    }
   ],
   "source": [
    "# interpolation keyword is going to be deprecated in numpy\n",
    "np.percentile(s2, [25,50,75], method=\"lower\")   # Q1, Q2 and Q3 quartiles"
   ]
  },
  {
   "cell_type": "code",
   "execution_count": 10,
   "id": "10a3b48f",
   "metadata": {},
   "outputs": [
    {
     "data": {
      "text/plain": [
       "36"
      ]
     },
     "execution_count": 10,
     "metadata": {},
     "output_type": "execute_result"
    }
   ],
   "source": [
    "stats.iqr(s2, rng=[25,75], interpolation=\"lower\")    # Q3 - Q1 -> 83 - 47 -> 36"
   ]
  },
  {
   "cell_type": "code",
   "execution_count": 11,
   "id": "b3a85c6d",
   "metadata": {},
   "outputs": [
    {
     "name": "stdout",
     "output_type": "stream",
     "text": [
      "454.21000000000004\n",
      "21.312203077110542\n",
      "504.6777777777778\n",
      "22.46503455990615\n"
     ]
    }
   ],
   "source": [
    "print(np.var(s2))   # for population\n",
    "print(np.std(s2))\n",
    "print(np.var(s2, ddof=1))   # for sample ie. N - 1\n",
    "print(np.std(s2, ddof=1))"
   ]
  },
  {
   "cell_type": "code",
   "execution_count": 12,
   "id": "ff710ac0",
   "metadata": {},
   "outputs": [
    {
     "name": "stdout",
     "output_type": "stream",
     "text": [
      "1.7661328409045185\n"
     ]
    },
    {
     "data": {
      "image/png": "[encoded data removed]",
      "text/plain": [
       "<Figure size 640x480 with 1 Axes>"
      ]
     },
     "metadata": {},
     "output_type": "display_data"
    }
   ],
   "source": [
    "s3 = [1,2,3,4,5,6,7,8,9,10,99,98]\n",
    "print(stats.skew(s3))    # positive skew, most values around left tail\n",
    "\n",
    "sns.distplot(s3, bins=3)   # distribution plot, depicts the variation in the data distribution.\n",
    "plt.show()"
   ]
  },
  {
   "cell_type": "code",
   "execution_count": 13,
   "id": "3fea24c9",
   "metadata": {},
   "outputs": [
    {
     "name": "stdout",
     "output_type": "stream",
     "text": [
      "[1, 2, 3, 4, 5, 6, 7, 8, 9, 10, 99, 98]\n",
      "Mean: 21.0\n",
      "Kurtosis: 1.1599354083897495\n"
     ]
    }
   ],
   "source": [
    "print(s3)\n",
    "print(\"Mean:\", np.mean(s3))\n",
    "print(\"Kurtosis:\", stats.kurtosis(s3))  # an example of positive kurtosis, most of the data around the mean"
   ]
  },
  {
   "cell_type": "markdown",
   "id": "fd992e36",
   "metadata": {},
   "source": [
    "### Kurtosis\n",
    "![Kurtosis](./background/kurtosis.webp)"
   ]
  },
  {
   "cell_type": "markdown",
   "id": "b77c64cf",
   "metadata": {},
   "source": [
    "## <font color=\"#fe7401\"> Random Numbers, Variables and Distributions </font>\n",
    "* A random number is a number, chosen by chance from a distribution.\n",
    "* Python provides a lot of modules, which deal with random numbers.\n",
    "    1. random module of python standard library.\n",
    "    2. random module of Numpy\n",
    "    3. stats module of Scipy\n"
   ]
  },
  {
   "cell_type": "markdown",
   "id": "bf9d311b",
   "metadata": {},
   "source": [
    "### <font color=\"blue\"> numpy's random module </font>\n",
    "* `random` module of `numpy` has utilities, which generate arrays of random numbers.\n",
    "* E.g.: rand function generates uniformly distributed numbers from range [0, 1]\n",
    "* rand function with no arguments generate a single random value.\n",
    "* By passing arguments, it generates a random array of specified size."
   ]
  },
  {
   "cell_type": "code",
   "execution_count": 14,
   "id": "edc66566",
   "metadata": {},
   "outputs": [
    {
     "name": "stdout",
     "output_type": "stream",
     "text": [
      "0.5160629912059577\n",
      "[[0.08436813 0.64816336 0.46767813]\n",
      " [0.50761331 0.62441817 0.74315   ]]\n",
      "5\n"
     ]
    }
   ],
   "source": [
    "print(np.random.rand())\n",
    "print(np.random.rand(2,3))\n",
    "print(np.random.randint(1,10))"
   ]
  },
  {
   "cell_type": "code",
   "execution_count": 15,
   "id": "56c14167",
   "metadata": {},
   "outputs": [
    {
     "name": "stdout",
     "output_type": "stream",
     "text": [
      "[11 22]\n"
     ]
    }
   ],
   "source": [
    "# two items are selected randomly, without replacement.\n",
    "print(np.random.choice([11, 22, 33], 2, replace=False))"
   ]
  },
  {
   "cell_type": "markdown",
   "id": "c343c2e7",
   "metadata": {},
   "source": [
    "#### <font color=\"grey\">random.seed()</font>\n",
    "* **seed** is a number that sets the initial state of random number generator.\n",
    "* setting a seed, helps in generating the same sequence of random numbers, repeatedly.\n",
    "* seed method of a random module can be used to set a seed as shown in below example."
   ]
  },
  {
   "cell_type": "code",
   "execution_count": 16,
   "id": "517fc496",
   "metadata": {},
   "outputs": [
    {
     "name": "stdout",
     "output_type": "stream",
     "text": [
      "0.5434049417909654\n"
     ]
    }
   ],
   "source": [
    "np.random.seed(100)\n",
    "print(np.random.rand())"
   ]
  },
  {
   "cell_type": "code",
   "execution_count": 17,
   "id": "eabb9ebc",
   "metadata": {
    "scrolled": true
   },
   "outputs": [
    {
     "name": "stdout",
     "output_type": "stream",
     "text": [
      "0.5434049417909654\n"
     ]
    }
   ],
   "source": [
    "# we got same value even after applying random bcs of seed\n",
    "np.random.seed(100)\n",
    "print(np.random.rand())"
   ]
  },
  {
   "cell_type": "markdown",
   "id": "6345c0b0",
   "metadata": {},
   "source": [
    "### <font color=\"blue\"> Random Distributions </font>\n",
    "* `scipy.stats` module provide a lot of methods for created discrete and continuous random variables.<br>\n",
    "* Commonly used methods are described below.\n",
    "    * **pdf / pmf** : Probability distribution function (continuous) or probability mass function (discrete).\n",
    "    * **cdf** : Cumulative distribution function.\n",
    "    * **sf** : Survival function (1 – cdf).\n",
    "    * **rvs** : Creating random samples from a distribution."
   ]
  },
  {
   "cell_type": "code",
   "execution_count": 18,
   "id": "d61ec7e3",
   "metadata": {},
   "outputs": [
    {
     "name": "stdout",
     "output_type": "stream",
     "text": [
      "[0.00895781 0.02159639 0.04436833]\n",
      "[0.00819754 0.02275013 0.05479929]\n",
      "[[3.59590311 0.87730624 5.88668613]\n",
      " [3.03483917 4.42031951 5.5199392 ]]\n"
     ]
    }
   ],
   "source": [
    "# defines a normal continuous random variable of mean (bell curve's peak) 1.0 and std dev. (flatness) 2.5.\n",
    "x = stats.norm(loc=5, scale=2.5)\n",
    "\n",
    "# It also estimates probabilities and cumulative probabilities at -1, 0 and 1.\n",
    "print(x.pdf([-1, 0, 1]))\n",
    "print(x.cdf([-1, 0, 1]))\n",
    "\n",
    "# generates six random numbers from defined normal distribution.\n",
    "print(x.rvs((2,3)))"
   ]
  },
  {
   "cell_type": "code",
   "execution_count": 19,
   "id": "f845a2ba",
   "metadata": {},
   "outputs": [
    {
     "data": {
      "image/png": "[encoded data removed]",
      "text/plain": [
       "<Figure size 640x480 with 1 Axes>"
      ]
     },
     "metadata": {},
     "output_type": "display_data"
    }
   ],
   "source": [
    "# check loc/mean and scale/std dev\n",
    "sns.distplot(x.rvs(10000,10000), bins=50)\n",
    "plt.show()"
   ]
  },
  {
   "cell_type": "markdown",
   "id": "17ac189b",
   "metadata": {},
   "source": [
    "## <font color=\"#fe7401\">Hypothesis Testing</font>\n",
    "* Hypothesis Testing is a methodology for evaluating if a claim is acceptable or not, based on data.\n",
    "* In a Hypothesis Testing, a **Null Hypothesis (Ho)** represents currently accepted the state of knowledge, and an **Alternative Hypothesis (Ha)** represents a new claim which challenges the currently accepted state of knowledge.\n",
    "* The null hypothesis and the alternative hypothesis are mutually exclusive.\n",
    "* Steps Involved in Hypothesis Testing\n",
    "    1. Define the null hypothesis and the alternative hypothesis.\n",
    "    2. Select a test statistics whose probability distribution function can be found under the null hypothesis.\n",
    "    3. Collect data.\n",
    "    4. Compute the test statistics from the data and calculate its p-value under the null hypothesis.\n",
    "    5. Null hypothesis is rejected if the p-value is lower than predetermined significance value.\n",
    "* The methods used for performing t-test are shown below.\n",
    "    * `stats.ttest_1samp`: Tests if the mean of a population is a given value.\n",
    "    * `stats.ttest_ind`: Tests if the means of two independent samples are equal.\n",
    "    * `stats.ttest_rel`: Tests if the means of two paired samples are equal."
   ]
  },
  {
   "cell_type": "code",
   "execution_count": 20,
   "id": "2b03b547",
   "metadata": {},
   "outputs": [
    {
     "name": "stdout",
     "output_type": "stream",
     "text": [
      "-4.6096766186175335 1.2053870608536614e-05\n"
     ]
    }
   ],
   "source": [
    "# Example 1\n",
    "'''\n",
    "Consider a normal population with mean 0.8 and standard deviation 0.5.\n",
    "Define the null hypothesis as Mean of the population is 1.0.\n",
    "Let's calculate t-statistic and p-value\n",
    "'''\n",
    "mu, sigma = 0.8, 0.5\n",
    "X = stats.norm(mu, sigma)\n",
    "\n",
    "# Deriving a sample\n",
    "n = 100\n",
    "X_sample = X.rvs(n)\n",
    "\n",
    "# Computing test statistic\n",
    "t, p = stats.ttest_1samp(X_sample, 1.0)\n",
    "print(t, p)\n",
    "\n",
    "# Since p-value is very low and less than the significance level 0.05, \n",
    "# we can reject the null hypothesis and infer that the mean of the population is not 1."
   ]
  },
  {
   "cell_type": "code",
   "execution_count": 21,
   "id": "81918edd",
   "metadata": {},
   "outputs": [
    {
     "name": "stdout",
     "output_type": "stream",
     "text": [
      "-1.734695496476908 0.08435093505384637\n"
     ]
    }
   ],
   "source": [
    "# Example 2\n",
    "'''\n",
    "Let's consider another problem, where the null hypothesis states that the population means of two random variables are equal.\n",
    "The below example derives two samples from different populations and verifies the claim that their population means are equal.\n",
    "'''\n",
    "X1 = stats.norm(0.25, 1.0)\n",
    "X2 = stats.norm(0.50, 1.0)\n",
    "\n",
    "X1_sample = X1.rvs(100)\n",
    "X2_sample = X2.rvs(100)\n",
    "\n",
    "t, p = stats.ttest_ind(X1_sample, X2_sample)\n",
    "print(t, p)\n",
    "\n",
    "# Since p-value is very low and less than the significance level 0.05, \n",
    "# we can reject the null hypothesis and state that population means of both samples differ."
   ]
  },
  {
   "cell_type": "markdown",
   "id": "003ab7c7",
   "metadata": {},
   "source": [
    "## <font color=\"#fe7401\"> Statistical Modelling </font>\n",
    "* A Statistical Model is a mathematical equation, which explains the relationship between dependent variables (Y) and independent variables (X).\n",
    "* In general, a model is written as `Y = f(X)`\n",
    "* However, in reality, an element of uncertainty is expected due to factors such as measurement noise. Hence the aforementioned equation can be rewritten as `Y = f(X) + e` where 'e' is residual error\n",
    "* The simplest model is a *linear model* represented as `Y = B0 + B1*X + e`, where the coefficients, B0 and B1 are the parameters of the model and e is normally distributed residual error.\n",
    "* A linear regression model assumes that residuals are independent and normally distributed.\n",
    "* The model is fitted to data using ordinary least squares approach.\n",
    "* Once a model is chosen, **design matrices** y and X are constructed, and the regression problem is written, in matrix form, as `y = XB + e`, where y is the vector of dependent variables, X is the vector of independent variables, B is a vector of coefficients, and e is the residual (error)."
   ]
  },
  {
   "cell_type": "code",
   "execution_count": 22,
   "id": "2952f205",
   "metadata": {},
   "outputs": [
    {
     "name": "stdout",
     "output_type": "stream",
     "text": [
      "[1 2 3 4 5]\n",
      "[[  1.   6.  11.  66.]\n",
      " [  1.   7.  12.  84.]\n",
      " [  1.   8.  13. 104.]\n",
      " [  1.   9.  14. 126.]\n",
      " [  1.  10.  15. 150.]]\n"
     ]
    }
   ],
   "source": [
    "# The below example shows calculation of design matrices, y, and X, \n",
    "# for the considered linear model Y = B0 + B1*X1 + B2*X2 + B3*X1*X2.\n",
    "\n",
    "y = np.array([1, 2, 3, 4, 5])\n",
    "x1 = np.array([6, 7, 8, 9, 10])\n",
    "x2 = np.array([11, 12, 13, 14, 15])\n",
    "X = np.vstack([np.ones(5), x1, x2, x1*x2]).T  # here T is for transpose\n",
    "\n",
    "print(y)\n",
    "print(X)"
   ]
  },
  {
   "cell_type": "code",
   "execution_count": 23,
   "id": "e4792a9e",
   "metadata": {},
   "outputs": [
    {
     "name": "stdout",
     "output_type": "stream",
     "text": [
      "[[5. 6.]\n",
      " [1. 1.]]\n",
      "Transpose:\n",
      " [[5. 1.]\n",
      " [6. 1.]]\n"
     ]
    }
   ],
   "source": [
    "# vstack stacks arrays vertically and returns np.ndarray\n",
    "\n",
    "a = np.array([5,6])\n",
    "b = np.ones(2)\n",
    "c = np.vstack([a, b])\n",
    "\n",
    "print(c)\n",
    "print(\"Transpose:\\n\", c.T)"
   ]
  },
  {
   "cell_type": "markdown",
   "id": "80def414",
   "metadata": {},
   "source": [
    "### <font color=\"blue\"> Design Matrices with patsy </font>\n",
    "\n",
    "* `patsy`, a python library, allows defining a model in simpler easily.\n",
    "* It also constructs relevant design matrices, automatically, using `patsy.dmatrices` function.\n",
    "* patsy.dmatrices takes a formula (in string form) as a *first argument*, and a dictionary-like object with data arrays for the response variables as *second arguments*.\n",
    "* Let's understand few patsy formulae provided below.\n",
    "    * `y ~ x` : y is linearly dependent on x. ~ symbol separates dependent variable from independent variable terms. It is also equivalent to `y ~ 1 + x`.\n",
    "    * `y ~ x1 + x2` : y is a linear combination of x1 and x2. + sign is used to denote the union of terms.\n",
    "    * `y ~ x1*x2` : `x1*x2` is an interaction term that includes all lower order terms. Hence formula is equivalent to `y ~ 1 + x1 + x2 + x1*x2`.\n",
    "    * `y ~ np.log(x1)`: Often numpy functions can be used to transform terms in the expression.\n",
    "    * `y ~ I(x1 + x2)`: `I` is the identify function, used to escape arithmetic expressions and are evaluated.\n",
    "    * `y ~ C(x1)`: Treats the variable x1 as a categorical variable."
   ]
  },
  {
   "cell_type": "code",
   "execution_count": 24,
   "id": "2fafe5b5",
   "metadata": {},
   "outputs": [
    {
     "name": "stdout",
     "output_type": "stream",
     "text": [
      "[[1.]\n",
      " [2.]\n",
      " [3.]\n",
      " [4.]\n",
      " [5.]]\n",
      "[[  1.   6.  11.  66.]\n",
      " [  1.   7.  12.  84.]\n",
      " [  1.   8.  13. 104.]\n",
      " [  1.   9.  14. 126.]\n",
      " [  1.  10.  15. 150.]]\n"
     ]
    }
   ],
   "source": [
    "import patsy\n",
    "\n",
    "y = np.array([1, 2, 3, 4, 5])\n",
    "x1 = np.array([6, 7, 8, 9, 10])\n",
    "x2 = np.array([11, 12, 13, 14, 15])\n",
    "data = {'y':y, 'x1':x1, 'x2':x2}\n",
    "\n",
    "y, X = patsy.dmatrices('y ~ 1 + x1 + x2 + x1*x2', data)\n",
    "\n",
    "print(y)\n",
    "print(X)"
   ]
  },
  {
   "cell_type": "markdown",
   "id": "bec75a79",
   "metadata": {},
   "source": [
    "### <font color=\"blue\"> Example Datasets </font>\n",
    "* `statsmodels` contain few popular example datasets, which can be used to explore various utilities of the package.\n",
    "* The example data sets are available in `datasets` module.\n",
    "* Each dataset is associated with special variables like SOURCE, DESCSHORT, DESCLONG, that provide more info about the dataset.\n",
    "* A dataset can be loaded using `load` function, and its data can be accessed using `dat`a attribute in the form of Numpy's recarray.\n",
    "* The data can be accessed in from of pandas data frame, if it is loaded with function `load_pandas`."
   ]
  },
  {
   "cell_type": "code",
   "execution_count": 25,
   "id": "dc616b78",
   "metadata": {},
   "outputs": [
    {
     "name": "stdout",
     "output_type": "stream",
     "text": [
      "<class 'pandas.core.frame.DataFrame'>\n"
     ]
    },
    {
     "data": {
      "text/html": [
       "<div>\n",
       "<style scoped>\n",
       "    .dataframe tbody tr th:only-of-type {\n",
       "        vertical-align: middle;\n",
       "    }\n",
       "\n",
       "    .dataframe tbody tr th {\n",
       "        vertical-align: top;\n",
       "    }\n",
       "\n",
       "    .dataframe thead th {\n",
       "        text-align: right;\n",
       "    }\n",
       "</style>\n",
       "<table border=\"1\" class=\"dataframe\">\n",
       "  <thead>\n",
       "    <tr style=\"text-align: right;\">\n",
       "      <th></th>\n",
       "      <th>cancer</th>\n",
       "      <th>population</th>\n",
       "    </tr>\n",
       "  </thead>\n",
       "  <tbody>\n",
       "    <tr>\n",
       "      <th>0</th>\n",
       "      <td>1.0</td>\n",
       "      <td>445.0</td>\n",
       "    </tr>\n",
       "    <tr>\n",
       "      <th>1</th>\n",
       "      <td>0.0</td>\n",
       "      <td>559.0</td>\n",
       "    </tr>\n",
       "  </tbody>\n",
       "</table>\n",
       "</div>"
      ],
      "text/plain": [
       "   cancer  population\n",
       "0     1.0       445.0\n",
       "1     0.0       559.0"
      ]
     },
     "execution_count": 25,
     "metadata": {},
     "output_type": "execute_result"
    }
   ],
   "source": [
    "import statsmodels.api as sm\n",
    "import statsmodels.formula.api as smf\n",
    "\n",
    "bc_cancer_set = sm.datasets.cancer\n",
    "bc_cancer = bc_cancer_set.load()\n",
    "bc_cancer_data = bc_cancer.data\n",
    "\n",
    "print(type(bc_cancer_data))\n",
    "bc_cancer_data.head(2)"
   ]
  },
  {
   "cell_type": "markdown",
   "id": "c552bb7e",
   "metadata": {},
   "source": [
    "### <font color=\"blue\"> Linear Regression with statsmodels </font>\n",
    "* Let's understand how to fit a linear regression model for Icecream dataset available from R Data Repository.\n",
    "* The icecream_data dataset is a pandas data frame. It contains four variables: cons (consumption), income, price, and temp (temperature)."
   ]
  },
  {
   "cell_type": "code",
   "execution_count": 26,
   "id": "a7b23a79",
   "metadata": {},
   "outputs": [
    {
     "name": "stdout",
     "output_type": "stream",
     "text": [
      "Index(['cons', 'income', 'price', 'temp'], dtype='object')\n"
     ]
    }
   ],
   "source": [
    "icecream = sm.datasets.get_rdataset(\"Icecream\", \"Ecdat\")\n",
    "icecream_data = icecream.data\n",
    "\n",
    "print(icecream_data.columns)"
   ]
  },
  {
   "cell_type": "code",
   "execution_count": 27,
   "id": "56581791",
   "metadata": {},
   "outputs": [
    {
     "name": "stdout",
     "output_type": "stream",
     "text": [
      "                            OLS Regression Results                            \n",
      "==============================================================================\n",
      "Dep. Variable:                   cons   R-squared:                       0.633\n",
      "Model:                            OLS   Adj. R-squared:                  0.606\n",
      "Method:                 Least Squares   F-statistic:                     23.27\n",
      "Date:                Tue, 27 Dec 2022   Prob (F-statistic):           1.34e-06\n",
      "Time:                        17:43:49   Log-Likelihood:                 54.607\n",
      "No. Observations:                  30   AIC:                            -103.2\n",
      "Df Residuals:                      27   BIC:                            -99.01\n",
      "Df Model:                           2                                         \n",
      "Covariance Type:            nonrobust                                         \n",
      "==============================================================================\n",
      "                 coef    std err          t      P>|t|      [0.025      0.975]\n",
      "------------------------------------------------------------------------------\n",
      "Intercept      0.5966      0.258      2.309      0.029       0.067       1.127\n",
      "price         -1.4018      0.925     -1.515      0.141      -3.300       0.496\n",
      "temp           0.0030      0.000      6.448      0.000       0.002       0.004\n",
      "==============================================================================\n",
      "Omnibus:                        0.991   Durbin-Watson:                   0.656\n",
      "Prob(Omnibus):                  0.609   Jarque-Bera (JB):                0.220\n",
      "Skew:                          -0.107   Prob(JB):                        0.896\n",
      "Kurtosis:                       3.361   Cond. No.                     6.58e+03\n",
      "==============================================================================\n",
      "\n",
      "Notes:\n",
      "[1] Standard Errors assume that the covariance matrix of the errors is correctly specified.\n",
      "[2] The condition number is large, 6.58e+03. This might indicate that there are\n",
      "strong multicollinearity or other numerical problems.\n"
     ]
    }
   ],
   "source": [
    "# Initially, let's model consumption with price and temperature, as a linear model.\n",
    "# The patsy formula for assumed model is: cons ~ price + temp\n",
    "\n",
    "# Creating a Model with Ordinary Least Square Regression (ols)\n",
    "linear_model1 = smf.ols('cons ~ price + temp', icecream_data)\n",
    "\n",
    "# Fitting the Model\n",
    "linear_result1 = linear_model1.fit()\n",
    "\n",
    "# Viewing Model Summary\n",
    "print(linear_result1.summary())"
   ]
  },
  {
   "cell_type": "markdown",
   "id": "8f8fe792",
   "metadata": {},
   "source": [
    "* The R-squared value of 0.633 suggests that model is not a proper fit.\n",
    "* The probability value of coefficient price is high, i.e., 0.141. This accepts the null-hypothesis: the value of price coefficient is equal to zero.\n",
    "* Hence, the variable price does not affect cons variable."
   ]
  },
  {
   "cell_type": "code",
   "execution_count": 28,
   "id": "a2004986",
   "metadata": {},
   "outputs": [
    {
     "name": "stdout",
     "output_type": "stream",
     "text": [
      "                            OLS Regression Results                            \n",
      "==============================================================================\n",
      "Dep. Variable:                   cons   R-squared:                       0.702\n",
      "Model:                            OLS   Adj. R-squared:                  0.680\n",
      "Method:                 Least Squares   F-statistic:                     31.81\n",
      "Date:                Tue, 27 Dec 2022   Prob (F-statistic):           7.96e-08\n",
      "Time:                        17:43:49   Log-Likelihood:                 57.742\n",
      "No. Observations:                  30   AIC:                            -109.5\n",
      "Df Residuals:                      27   BIC:                            -105.3\n",
      "Df Model:                           2                                         \n",
      "Covariance Type:            nonrobust                                         \n",
      "==============================================================================\n",
      "                 coef    std err          t      P>|t|      [0.025      0.975]\n",
      "------------------------------------------------------------------------------\n",
      "Intercept     -0.1132      0.108     -1.045      0.305      -0.335       0.109\n",
      "income         0.0035      0.001      3.017      0.006       0.001       0.006\n",
      "temp           0.0035      0.000      7.963      0.000       0.003       0.004\n",
      "==============================================================================\n",
      "Omnibus:                        2.264   Durbin-Watson:                   1.003\n",
      "Prob(Omnibus):                  0.322   Jarque-Bera (JB):                1.094\n",
      "Skew:                           0.386   Prob(JB):                        0.579\n",
      "Kurtosis:                       3.528   Cond. No.                     1.56e+03\n",
      "==============================================================================\n",
      "\n",
      "Notes:\n",
      "[1] Standard Errors assume that the covariance matrix of the errors is correctly specified.\n",
      "[2] The condition number is large, 1.56e+03. This might indicate that there are\n",
      "strong multicollinearity or other numerical problems.\n"
     ]
    }
   ],
   "source": [
    "# Now let's create a new model by considered income and temp dependent variables.\n",
    "linear_model2 = smf.ols('cons ~ income + temp', icecream_data)\n",
    "linear_result2 = linear_model2.fit()\n",
    "\n",
    "print(linear_result2.summary())"
   ]
  },
  {
   "cell_type": "markdown",
   "id": "4f21d5ed",
   "metadata": {},
   "source": [
    "* R-squared value improved to 0.702, suggesting this is a better model than previous one.\n",
    "* Probability values of income and temp are low, indicating they are highly significant to cons.\n",
    "* The probability value of Intercept is too high."
   ]
  },
  {
   "cell_type": "code",
   "execution_count": 29,
   "id": "b556ae76",
   "metadata": {},
   "outputs": [
    {
     "name": "stdout",
     "output_type": "stream",
     "text": [
      "                                 OLS Regression Results                                \n",
      "=======================================================================================\n",
      "Dep. Variable:                   cons   R-squared (uncentered):                   0.990\n",
      "Model:                            OLS   Adj. R-squared (uncentered):              0.990\n",
      "Method:                 Least Squares   F-statistic:                              1426.\n",
      "Date:                Tue, 27 Dec 2022   Prob (F-statistic):                    6.77e-29\n",
      "Time:                        17:43:49   Log-Likelihood:                          57.146\n",
      "No. Observations:                  30   AIC:                                     -110.3\n",
      "Df Residuals:                      28   BIC:                                     -107.5\n",
      "Df Model:                           2                                                  \n",
      "Covariance Type:            nonrobust                                                  \n",
      "==============================================================================\n",
      "                 coef    std err          t      P>|t|      [0.025      0.975]\n",
      "------------------------------------------------------------------------------\n",
      "income         0.0023      0.000      9.906      0.000       0.002       0.003\n",
      "temp           0.0033      0.000      8.571      0.000       0.003       0.004\n",
      "==============================================================================\n",
      "Omnibus:                        3.584   Durbin-Watson:                   0.887\n",
      "Prob(Omnibus):                  0.167   Jarque-Bera (JB):                2.089\n",
      "Skew:                           0.508   Prob(JB):                        0.352\n",
      "Kurtosis:                       3.798   Cond. No.                         6.45\n",
      "==============================================================================\n",
      "\n",
      "Notes:\n",
      "[1] R² is computed without centering (uncentered) since the model does not contain a constant.\n",
      "[2] Standard Errors assume that the covariance matrix of the errors is correctly specified.\n"
     ]
    }
   ],
   "source": [
    "# Now let's create a new model without considering intercept term.\n",
    "linear_model3 = smf.ols('cons ~ -1 + income + temp', icecream_data)\n",
    "linear_result3 = linear_model3.fit()\n",
    "\n",
    "print(linear_result3.summary())"
   ]
  },
  {
   "cell_type": "markdown",
   "id": "8a3f1580",
   "metadata": {},
   "source": [
    "* R-squared value increased to 0.990, which suggests the model could best describe the relationship of cons with income and temp variables."
   ]
  },
  {
   "cell_type": "markdown",
   "id": "8cd4fd51",
   "metadata": {},
   "source": [
    "### <font color=\"blue\"> Logistic Regression with statsmodels </font>\n",
    "* Logistic regression is a classification algorithm.\n",
    "* `statsmodels` provide the following classes to work with discrete regression problems.\n",
    "    * `Logit`: for Logistic Regression\n",
    "    * `MNLogit`: for Multinomial Logistic Regression\n",
    "    * `Poisson`: for Poisson Regression\n",
    "* Now, let's understand how to perform logistic regression using statsmodels with the following steps:\n",
    "    1. Download the popular iris data set (containing data of 3 species) from R repository.\n",
    "    2. Subset the data of only two species.\n",
    "    3. Perform transformations, if required.\n",
    "    4. Define a patsy formula and create a model using logit.\n",
    "    5. Fit the model with supplied data.\n",
    "    6. View summary of the model."
   ]
  },
  {
   "cell_type": "code",
   "execution_count": 30,
   "id": "9466bca4",
   "metadata": {},
   "outputs": [
    {
     "data": {
      "text/plain": [
       "array(['setosa', 'versicolor', 'virginica'], dtype=object)"
      ]
     },
     "execution_count": 30,
     "metadata": {},
     "output_type": "execute_result"
    }
   ],
   "source": [
    "df = sm.datasets.get_rdataset(\"iris\").data \n",
    "\n",
    "# df.info()\n",
    "df.Species.unique() "
   ]
  },
  {
   "cell_type": "code",
   "execution_count": 31,
   "id": "4f31bc84",
   "metadata": {
    "scrolled": true
   },
   "outputs": [
    {
     "name": "stdout",
     "output_type": "stream",
     "text": [
      "['versicolor' 'virginica']\n"
     ]
    }
   ],
   "source": [
    "# Selecting Required Data\n",
    "\n",
    "df_subset = df[(df.Species == \"versicolor\") | (df.Species == \"virginica\")].copy()\n",
    "print(df_subset.Species.unique())"
   ]
  },
  {
   "cell_type": "code",
   "execution_count": 32,
   "id": "d31ad0fd",
   "metadata": {},
   "outputs": [],
   "source": [
    "# A binary variable corresponding to two species is created using map function as shown below.\n",
    "df_subset.Species = df_subset.Species.map({\"versicolor\": 1, \"virginica\": 0}) \n",
    "\n",
    "# period characters, present in column names are replaced with underscore characters.\n",
    "df_subset.rename(columns={\"Sepal.Length\": \"Sepal_Length\", \"Sepal.Width\": \"Sepal_Width\",\t\"Petal.Length\": \"Petal_Length\", \"Petal.Width\": \"Petal_Width\"}, inplace=True) "
   ]
  },
  {
   "cell_type": "code",
   "execution_count": 33,
   "id": "4f4f4f9d",
   "metadata": {},
   "outputs": [
    {
     "name": "stdout",
     "output_type": "stream",
     "text": [
      "Optimization terminated successfully.\n",
      "         Current function value: 0.102818\n",
      "         Iterations 10\n"
     ]
    },
    {
     "data": {
      "text/html": [
       "<table class=\"simpletable\">\n",
       "<caption>Logit Regression Results</caption>\n",
       "<tr>\n",
       "  <th>Dep. Variable:</th>        <td>Species</td>     <th>  No. Observations:  </th>  <td>   100</td>  \n",
       "</tr>\n",
       "<tr>\n",
       "  <th>Model:</th>                 <td>Logit</td>      <th>  Df Residuals:      </th>  <td>    97</td>  \n",
       "</tr>\n",
       "<tr>\n",
       "  <th>Method:</th>                 <td>MLE</td>       <th>  Df Model:          </th>  <td>     2</td>  \n",
       "</tr>\n",
       "<tr>\n",
       "  <th>Date:</th>            <td>Tue, 27 Dec 2022</td> <th>  Pseudo R-squ.:     </th>  <td>0.8517</td>  \n",
       "</tr>\n",
       "<tr>\n",
       "  <th>Time:</th>                <td>17:43:52</td>     <th>  Log-Likelihood:    </th> <td> -10.282</td> \n",
       "</tr>\n",
       "<tr>\n",
       "  <th>converged:</th>             <td>True</td>       <th>  LL-Null:           </th> <td> -69.315</td> \n",
       "</tr>\n",
       "<tr>\n",
       "  <th>Covariance Type:</th>     <td>nonrobust</td>    <th>  LLR p-value:       </th> <td>2.303e-26</td>\n",
       "</tr>\n",
       "</table>\n",
       "<table class=\"simpletable\">\n",
       "<tr>\n",
       "        <td></td>          <th>coef</th>     <th>std err</th>      <th>z</th>      <th>P>|z|</th>  <th>[0.025</th>    <th>0.975]</th>  \n",
       "</tr>\n",
       "<tr>\n",
       "  <th>Intercept</th>    <td>   45.2723</td> <td>   13.612</td> <td>    3.326</td> <td> 0.001</td> <td>   18.594</td> <td>   71.951</td>\n",
       "</tr>\n",
       "<tr>\n",
       "  <th>Petal_Length</th> <td>   -5.7545</td> <td>    2.306</td> <td>   -2.496</td> <td> 0.013</td> <td>  -10.274</td> <td>   -1.235</td>\n",
       "</tr>\n",
       "<tr>\n",
       "  <th>Petal_Width</th>  <td>  -10.4467</td> <td>    3.756</td> <td>   -2.782</td> <td> 0.005</td> <td>  -17.808</td> <td>   -3.086</td>\n",
       "</tr>\n",
       "</table><br/><br/>Possibly complete quasi-separation: A fraction 0.34 of observations can be<br/>perfectly predicted. This might indicate that there is complete<br/>quasi-separation. In this case some parameters will not be identified."
      ],
      "text/plain": [
       "<class 'statsmodels.iolib.summary.Summary'>\n",
       "\"\"\"\n",
       "                           Logit Regression Results                           \n",
       "==============================================================================\n",
       "Dep. Variable:                Species   No. Observations:                  100\n",
       "Model:                          Logit   Df Residuals:                       97\n",
       "Method:                           MLE   Df Model:                            2\n",
       "Date:                Tue, 27 Dec 2022   Pseudo R-squ.:                  0.8517\n",
       "Time:                        17:43:52   Log-Likelihood:                -10.282\n",
       "converged:                       True   LL-Null:                       -69.315\n",
       "Covariance Type:            nonrobust   LLR p-value:                 2.303e-26\n",
       "================================================================================\n",
       "                   coef    std err          z      P>|z|      [0.025      0.975]\n",
       "--------------------------------------------------------------------------------\n",
       "Intercept       45.2723     13.612      3.326      0.001      18.594      71.951\n",
       "Petal_Length    -5.7545      2.306     -2.496      0.013     -10.274      -1.235\n",
       "Petal_Width    -10.4467      3.756     -2.782      0.005     -17.808      -3.086\n",
       "================================================================================\n",
       "\n",
       "Possibly complete quasi-separation: A fraction 0.34 of observations can be\n",
       "perfectly predicted. This might indicate that there is complete\n",
       "quasi-separation. In this case some parameters will not be identified.\n",
       "\"\"\""
      ]
     },
     "execution_count": 33,
     "metadata": {},
     "output_type": "execute_result"
    }
   ],
   "source": [
    "# A logistic regression model, explaining relationship of \n",
    "# Species variable with Petal_Length and Petal_width is generated using logit function.\n",
    "model = smf.logit(\"Species ~ Petal_Length + Petal_Width\", data=df_subset)\n",
    "\n",
    "# Model is then fit with supplied data using fit function\n",
    "result = model.fit() \n",
    "result.summary()"
   ]
  },
  {
   "cell_type": "code",
   "execution_count": 34,
   "id": "3ed50ba3",
   "metadata": {
    "scrolled": true
   },
   "outputs": [
    {
     "data": {
      "text/html": [
       "<div>\n",
       "<style scoped>\n",
       "    .dataframe tbody tr th:only-of-type {\n",
       "        vertical-align: middle;\n",
       "    }\n",
       "\n",
       "    .dataframe tbody tr th {\n",
       "        vertical-align: top;\n",
       "    }\n",
       "\n",
       "    .dataframe thead th {\n",
       "        text-align: right;\n",
       "    }\n",
       "</style>\n",
       "<table border=\"1\" class=\"dataframe\">\n",
       "  <thead>\n",
       "    <tr style=\"text-align: right;\">\n",
       "      <th></th>\n",
       "      <th>Petal_Length</th>\n",
       "      <th>Petal_Width</th>\n",
       "      <th>P-Species</th>\n",
       "      <th>Species</th>\n",
       "    </tr>\n",
       "  </thead>\n",
       "  <tbody>\n",
       "    <tr>\n",
       "      <th>0</th>\n",
       "      <td>4.783843</td>\n",
       "      <td>1.478423</td>\n",
       "      <td>0.908788</td>\n",
       "      <td>1</td>\n",
       "    </tr>\n",
       "    <tr>\n",
       "      <th>1</th>\n",
       "      <td>5.998742</td>\n",
       "      <td>1.246526</td>\n",
       "      <td>0.093664</td>\n",
       "      <td>0</td>\n",
       "    </tr>\n",
       "    <tr>\n",
       "      <th>2</th>\n",
       "      <td>4.556203</td>\n",
       "      <td>1.391860</td>\n",
       "      <td>0.989155</td>\n",
       "      <td>1</td>\n",
       "    </tr>\n",
       "    <tr>\n",
       "      <th>3</th>\n",
       "      <td>5.284247</td>\n",
       "      <td>1.969027</td>\n",
       "      <td>0.003315</td>\n",
       "      <td>0</td>\n",
       "    </tr>\n",
       "    <tr>\n",
       "      <th>4</th>\n",
       "      <td>5.444185</td>\n",
       "      <td>2.009266</td>\n",
       "      <td>0.000870</td>\n",
       "      <td>0</td>\n",
       "    </tr>\n",
       "  </tbody>\n",
       "</table>\n",
       "</div>"
      ],
      "text/plain": [
       "   Petal_Length  Petal_Width  P-Species  Species\n",
       "0      4.783843     1.478423   0.908788        1\n",
       "1      5.998742     1.246526   0.093664        0\n",
       "2      4.556203     1.391860   0.989155        1\n",
       "3      5.284247     1.969027   0.003315        0\n",
       "4      5.444185     2.009266   0.000870        0"
      ]
     },
     "execution_count": 34,
     "metadata": {},
     "output_type": "execute_result"
    }
   ],
   "source": [
    "# Predicting Response Variable\n",
    "df_new = pd.DataFrame({\"Petal_Length\": np.random.randn(20)*0.5 + 5,\n",
    "                       \"Petal_Width\": np.random.randn(20)*0.5 + 1.7})\n",
    "df_new[\"P-Species\"] = result.predict(df_new)\n",
    "df_new[\"P-Species\"].head(3)\n",
    "\n",
    "df_new[\"Species\"] = (df_new[\"P-Species\"] > 0.5).astype(int)\n",
    "df_new.head()"
   ]
  },
  {
   "cell_type": "code",
   "execution_count": 35,
   "id": "92c8cefd",
   "metadata": {},
   "outputs": [
    {
     "name": "stdout",
     "output_type": "stream",
     "text": [
      "Optimization terminated successfully.\n",
      "         Current function value: 3.468160\n",
      "         Iterations 7\n"
     ]
    },
    {
     "data": {
      "text/plain": [
       "6.679101716144942e-13"
      ]
     },
     "execution_count": 35,
     "metadata": {},
     "output_type": "execute_result"
    }
   ],
   "source": [
    "# Poisson Regression example\n",
    "\n",
    "ins_df = sm.datasets.get_rdataset('Insurance', package='MASS',).data \n",
    "data = {'holders':ins_df['Holders'],'claims':ins_df['Claims']}\n",
    "\n",
    "poisson_model = smf.poisson('claims ~ np.log(holders)', data)\n",
    "poisson_model_result = poisson_model.fit()\n",
    "\n",
    "float(poisson_model_result.resid.sum())"
   ]
  },
  {
   "cell_type": "markdown",
   "id": "59535877",
   "metadata": {},
   "source": [
    "### <font color=\"blue\"> ANOVA with statsmodels </font>\n",
    "* *anova_lm* method from `anova` module of `statsmodels` library can be used for performing ANOVA."
   ]
  },
  {
   "cell_type": "code",
   "execution_count": 36,
   "id": "6cbe874b",
   "metadata": {},
   "outputs": [],
   "source": [
    "# Loading the Dataset\n",
    "icecream = sm.datasets.get_rdataset(\"Icecream\", \"Ecdat\")\n",
    "icecream_data = icecream.data"
   ]
  },
  {
   "cell_type": "code",
   "execution_count": 37,
   "id": "9c6a204f",
   "metadata": {},
   "outputs": [],
   "source": [
    "# Building the Model\n",
    "model1 = smf.ols('cons ~ temp', icecream_data).fit()"
   ]
  },
  {
   "cell_type": "code",
   "execution_count": 38,
   "id": "21424c15",
   "metadata": {},
   "outputs": [
    {
     "name": "stdout",
     "output_type": "stream",
     "text": [
      "            df    sum_sq   mean_sq         F        PR(>F)\n",
      "temp       1.0  0.075514  0.075514  42.27997  4.789215e-07\n",
      "Residual  28.0  0.050009  0.001786       NaN           NaN\n"
     ]
    }
   ],
   "source": [
    "# Now let's frame a null hypothesis: Value of B1, i.e., the coefficient of temp variable is zero.\n",
    "\n",
    "from statsmodels.stats import anova\n",
    "\n",
    "print(anova.anova_lm(model1))\n",
    "\n",
    "# The obtained F-statistic is 42.27 and has a very low probability.\n",
    "# Hence, the null hypothesis can be rejected. i.e., B1 is not equal to zero."
   ]
  },
  {
   "cell_type": "markdown",
   "id": "2d06465d",
   "metadata": {},
   "source": [
    "#### <font color=\"grey\"> Determining F-Value </font>\n",
    "* F-statistic is defined as Mean square of model / Mean square of residuals.\n",
    "* Mean square of model is sum of squares values of all variables / degrees of freedom"
   ]
  },
  {
   "cell_type": "markdown",
   "id": "9f69b9b6",
   "metadata": {},
   "source": [
    "## <font color=\"#fe7401\"> MCQ's </font>\n",
    "1. An alternative hypothesis states there is no effect. State true or false. False\n",
    "2. While performing anova on a regression model fitted with multiple variables, the alternative hypothesis is framed as: Coefficients of all independent variables not equal to zero. State if it is true or false? False\n",
    "3. Which of the following function, available in statsmodels, is used to fit a Poisson regression model? poisson\n",
    "4. Which of the following expressions correctly calculate the variance of a sample, x, derived from a population? np.var(x, ddof=1)\n",
    "5. The greater the value of the F ratio ? the less the sample distributions overlap\n",
    "6. The patsy formula `y ~ x1*x2` is equivalent to which of the following expressions? `y ~ x1 + x2 + x1*x2`\n",
    "7. In a linear regression, the coefficients of the model are estimated by minimizing the sum of the squares of ? residuals\n",
    "8. Which of the following definition is used by default in kurtosis method of scipy.stats module? fisher\n",
    "9. Which of the following method of scipy.stats module is used to determine inter quartile range a distribution? iqr\n",
    "10. R-square value close to zero indicates a good fit. State if it is true or false? False\n",
    "11. Which of the following function is used to test goodness of fit of a continuous distribution to data? stats.kstest\n",
    "12. Which of the following function is used to treat a numeric variable as a categorical one? C \n",
    "13. What is the cumulative probability of finding F-statistic lower than 1, for a F distribution with degrees of freedom 2 and 27? 0.619\n",
    "14. Given, slope of a linear regression line is 1.5, and when x is 10 y takes the value of 8. Determine the intercept of the regression line. -7 (y = mx + c)\n",
    "15. What is the cumulative probability of finding F-statistic higher than 1, for a F distribution with degrees of freedom 2 and 27? 0.381\n",
    "16. While performing anova on a regression model fitted with a single variable, the null hypothesis is framed as: Coefficient of independent variable is zero. State if it is true or false? True\n",
    "17. Which of the following method is used to generate random numbers for a defined distribution available in scipy.stats module? rvs\n",
    "18. Whether a student will pass or fail in the competitive exam based on hours of study can be solved using? Logistic Regression\n",
    "19. What is the output of ?\n",
    "```\n",
    "from scipy import stats\n",
    "print(stats.mode([8, 9, 8, 7, 9, 6, 7, 6]))\n",
    "```\n",
    "Ans: ```ModeResult(mode=array([6]), count=array([2]))```"
   ]
  }
 ],
 "metadata": {
  "kernelspec": {
   "display_name": "Python 3 (ipykernel)",
   "language": "python",
   "name": "python3"
  },
  "language_info": {
   "codemirror_mode": {
    "name": "ipython",
    "version": 3
   },
   "file_extension": ".py",
   "mimetype": "text/x-python",
   "name": "python",
   "nbconvert_exporter": "python",
   "pygments_lexer": "ipython3",
   "version": "3.10.5"
  }
 },
 "nbformat": 4,
 "nbformat_minor": 5
}
