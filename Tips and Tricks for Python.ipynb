{
 "cells": [
  {
   "cell_type": "markdown",
   "metadata": {},
   "source": [
    "# <font color=\"hotpink\"> Tips & Tricks for Python </font>"
   ]
  },
  {
   "cell_type": "markdown",
   "metadata": {},
   "source": [
    "## <font color=\"#fc8c03\"> *Tips for lists* </font>\n",
    "\n",
    "* Use **id()** function to check the address of any object, if it matches then both of them are just referencing the same object.\n",
    "* Sequences can be copied by slicing. Splicing operator produces a new list ie. **[:]**.\n",
    "* **l2 = list(l1)** also produces a new list.\n",
    "* The **is** keyword is used to test if two variables refer to the same object. The test returns True if the two objects are the same object. The test returns False if they are not the same object, even if the two objects are 100% equal.\n",
    "* **copy.deepcopy()** also provides the facility for creating a new object.\n",
    "* The difference between sliced copy and deecopy() is that sliced copy doesn't work for **nested list**, while deepcopy() works recursively and copy each nested list without just using referenced copy."
   ]
  },
  {
   "cell_type": "code",
   "execution_count": 1,
   "metadata": {},
   "outputs": [
    {
     "name": "stdout",
     "output_type": "stream",
     "text": [
      "l3 = [9, 7, [1, 2], [10, 20, 30]]                id = 140052514797184\n",
      "l4 = [9, 7, [1, 2], [10, 20, 30]]                id = 140052514797760\n",
      "----------------------------------------------------------------------------------------------------\n",
      "l3 = [9, 7, [1, 2], [10, 20, 30, 'changed']]     id = 140052514797184\n",
      "l4 = [9, 7, [1, 2], [10, 20, 30]]                id = 140052514797760\n"
     ]
    }
   ],
   "source": [
    "from copy import deepcopy\n",
    "\n",
    "l1 = [10,20,30]\n",
    "l2 = [9,7,[1,2],l1]\n",
    "\n",
    "l3 = l2[:]\n",
    "print('l3 =', l3, '               id =', id(l3))\n",
    "\n",
    "l4 = deepcopy(l2)\n",
    "print('l4 =', l4, '               id =', id(l4))\n",
    "\n",
    "print('-'*100)\n",
    "l1 += ['changed']\n",
    "\n",
    "print('l3 =', l3, '    id =', id(l3))  #copied using slicing\n",
    "\n",
    "print('l4 =', l4, '               id =', id(l4)) #copied using deepcopy()"
   ]
  },
  {
   "cell_type": "markdown",
   "metadata": {},
   "source": [
    "### <font color=\"red\">WARNING: </font><font color=\"#fe7401\">`sys.maxint` is no longer supported in Python 3, instead use `sys.maxsize`</font>\n"
   ]
  },
  {
   "cell_type": "code",
   "execution_count": 2,
   "metadata": {},
   "outputs": [
    {
     "name": "stdout",
     "output_type": "stream",
     "text": [
      "Max val: 9223372036854775807\n",
      "Min val: -9223372036854775807\n"
     ]
    }
   ],
   "source": [
    "import sys\n",
    "print(\"Max val:\", sys.maxsize)\n",
    "print(\"Min val:\", -sys.maxsize)"
   ]
  },
  {
   "cell_type": "markdown",
   "metadata": {},
   "source": [
    "## <font color=\"#fe7401\">`operator` module</font>\n",
    "* The operator module exports a set of efficient functions corresponding to the intrinsic operators of Python. \n",
    "* For example, `operator.add(x, y)` is equivalent to the expression x+y.\n",
    "* Can be used to convert a string-type expression into real expression."
   ]
  },
  {
   "cell_type": "code",
   "execution_count": 3,
   "metadata": {},
   "outputs": [
    {
     "name": "stdout",
     "output_type": "stream",
     "text": [
      "Expression: ['2', '+', '5']\n",
      "2 + 5 = 7\n"
     ]
    }
   ],
   "source": [
    "import operator\n",
    "\n",
    "def exprEval(exp):\n",
    "    # hash-table for operators\n",
    "    ops = {\n",
    "        '+': operator.add,\n",
    "        '-': operator.sub,\n",
    "        '*': operator.mul,\n",
    "        '/': operator.truediv\n",
    "    }\n",
    "    \n",
    "    tok = exp.split(' ')\n",
    "    print(\"Expression:\", tok)\n",
    "    \n",
    "    operand1 = int(tok[0])\n",
    "    operand2 = int(tok[2])\n",
    "    optr = tok[1]\n",
    "    \n",
    "    return ops[optr](int(tok[0]), int(tok[2])) \n",
    "\n",
    "\n",
    "\n",
    "# main\n",
    "exp = \"2 + 5\"\n",
    "print(exp, \"=\", exprEval(exp))"
   ]
  },
  {
   "cell_type": "markdown",
   "metadata": {},
   "source": [
    "## <font color=\"#fe7401\">Nested functions in Python</font>\n",
    "* A function that is defined inside another function is known as a nested function.\n",
    "* Nested functions are able to access variables of the enclosing scope. "
   ]
  },
  {
   "cell_type": "code",
   "execution_count": 4,
   "metadata": {},
   "outputs": [
    {
     "name": "stdout",
     "output_type": "stream",
     "text": [
      "Square(3) = 9\n",
      "Cube(3) = 27\n"
     ]
    }
   ],
   "source": [
    "# outer-function, printSquare\n",
    "def printSquare(x):\n",
    "    print(f'Square({x}) = {x ** 2}')\n",
    "    \n",
    "    \n",
    "    def printCube():\n",
    "        print(f'Cube({x}) = {x ** 3}')   # observe, inner-function is accessing variable x from outer-function\n",
    "    \n",
    "    \n",
    "    # calling inner-function, printCube()\n",
    "    printCube()\n",
    "\n",
    "\n",
    "\n",
    "# main\n",
    "num = 3\n",
    "printSquare(num)    # calling outer-function, printSquare()"
   ]
  },
  {
   "cell_type": "markdown",
   "metadata": {},
   "source": [
    "## <font color=\"#fa9009\">Python Closures</font>"
   ]
  },
  {
   "cell_type": "code",
   "execution_count": null,
   "metadata": {},
   "outputs": [],
   "source": []
  },
  {
   "cell_type": "markdown",
   "metadata": {},
   "source": [
    "## <font color=\"blue\">Why -1 % 10  gives 9 ? </font>\n",
    "\n",
    "Because :- <br>\n",
    "```\n",
    "       _________\n",
    "    10 ) -1    ( -1     # -1 x 10 => -10\n",
    "      - (-10)\n",
    "      ----------\n",
    "          9         #because: -1 - (-10) = -1 + 10 = 9\n",
    "```\n",
    "**mod(remainder) trick**"
   ]
  },
  {
   "cell_type": "code",
   "execution_count": 5,
   "metadata": {},
   "outputs": [
    {
     "name": "stdout",
     "output_type": "stream",
     "text": [
      "res = 9\n",
      "res = ?\n"
     ]
    }
   ],
   "source": [
    "# Why ?\n",
    "res = -1 % 10 \n",
    "print('res =', res)\n",
    "\n",
    "# Now guess what ?\n",
    "res = -4 % 10\n",
    "print('res = ?')"
   ]
  },
  {
   "cell_type": "markdown",
   "metadata": {},
   "source": [
    "## <font color=\"#fa9009\">Annotated function</font>\n",
    "* Function annotations are arbitrary python expressions that are associated with various part of functions.\n",
    "* These expressions are evaluated at compile time and have no life in python’s runtime environment.\n",
    "* Python does not attach any meaning to these annotations. They take life when interpreted by third party libraries, for example, mypy.\n",
    "* They are like the **optional parameters** that follow the parameter name.\n",
    "* `import typing` — Support for type hints\n",
    "    * This module provides runtime support for type hints.\n",
    "    * The Python runtime does not enforce function and variable type annotations. They can be used by third party tools such as type checkers, IDEs, linters, etc."
   ]
  },
  {
   "cell_type": "code",
   "execution_count": 6,
   "metadata": {},
   "outputs": [
    {
     "data": {
      "text/plain": [
       "'Hello Gaurav'"
      ]
     },
     "execution_count": 6,
     "metadata": {},
     "output_type": "execute_result"
    }
   ],
   "source": [
    "def greeting(name: str) -> str:\n",
    "    return 'Hello ' + name\n",
    "\n",
    "\n",
    "#main\n",
    "greeting(\"Gaurav\")"
   ]
  },
  {
   "cell_type": "code",
   "execution_count": null,
   "metadata": {},
   "outputs": [],
   "source": []
  }
 ],
 "metadata": {
  "kernelspec": {
   "display_name": "Python 3",
   "language": "python",
   "name": "python3"
  },
  "language_info": {
   "codemirror_mode": {
    "name": "ipython",
    "version": 3
   },
   "file_extension": ".py",
   "mimetype": "text/x-python",
   "name": "python",
   "nbconvert_exporter": "python",
   "pygments_lexer": "ipython3",
   "version": "3.8.10"
  }
 },
 "nbformat": 4,
 "nbformat_minor": 4
}
