{
 "cells": [
  {
   "cell_type": "markdown",
   "metadata": {},
   "source": [
    "# <font color=\"hotpink\"> Tips & Tricks for Python </font>"
   ]
  },
  {
   "cell_type": "markdown",
   "metadata": {},
   "source": [
    "## <font color=\"#fc8c03\"> Python Fastest Implementation </font>\n",
    "\n",
    "* PyPy uses just-in-time (JIT) compilation to translate Python code into machine-native assembly language.\n",
    "* On the average, PyPy speeds up Python by about 7.6 times, with some tasks accelerated 50 times or more."
   ]
  },
  {
   "cell_type": "markdown",
   "metadata": {},
   "source": [
    "## <font color=\"#fc8c03\"> dir() and help() </font>\n",
    "\n",
    "* *dir()*: The dir() function returns all properties and methods of the specified object, without the values.\n",
    "<br><br>\n",
    "* *help()*: The Python help function is used to display the documentation of modules, functions, classes, keywords, etc. "
   ]
  },
  {
   "cell_type": "code",
   "execution_count": 1,
   "metadata": {
    "scrolled": true
   },
   "outputs": [
    {
     "name": "stdout",
     "output_type": "stream",
     "text": [
      "['__call__', '__class__', '__delattr__', '__dir__', '__doc__', '__eq__', '__format__', '__ge__', '__get__', '__getattribute__', '__gt__', '__hash__', '__init__', '__init_subclass__', '__le__', '__lt__', '__name__', '__ne__', '__new__', '__objclass__', '__qualname__', '__reduce__', '__reduce_ex__', '__repr__', '__setattr__', '__sizeof__', '__str__', '__subclasshook__', '__text_signature__']\n",
      "-------------------------------------------------------------------------------- \n",
      "\n",
      "Help on method_descriptor:\n",
      "\n",
      "append(self, object, /)\n",
      "    Append object to the end of the list.\n",
      "\n"
     ]
    }
   ],
   "source": [
    "print(dir(list.append))\n",
    "print(\"-\"*80, \"\\n\")\n",
    "help(list.append)"
   ]
  },
  {
   "cell_type": "markdown",
   "metadata": {},
   "source": [
    "## <font color=\"#fc8c03\"> bytes() </font>\n",
    "\n",
    "* It can convert objects into bytes objects, or create empty bytes object of the specified size.\n",
    "* The difference between bytes() and bytearray() is that bytes() returns an object that cannot be modified, and bytearray() returns an object that can be modified.\n",
    "* Syntax: bytes(x, encoding, error)"
   ]
  },
  {
   "cell_type": "code",
   "execution_count": 2,
   "metadata": {},
   "outputs": [
    {
     "name": "stdout",
     "output_type": "stream",
     "text": [
      "b'\\xe0\\xa4\\xb8\\xe0\\xa5\\x8d\\xe0\\xa4\\xb5\\xe0\\xa4\\xbe\\xe0\\xa4\\x97\\xe0\\xa4\\xa4 \\xe0\\xa4\\xb9\\xe0\\xa5\\x87'\n",
      "स्वागत हे\n"
     ]
    }
   ],
   "source": [
    "x = bytes(\"स्वागत हे\", \"utf-8\")\n",
    "\n",
    "print(x)\n",
    "print(x.decode('utf-8'))"
   ]
  },
  {
   "cell_type": "markdown",
   "metadata": {},
   "source": [
    "## <font color=\"#fc8c03\"> frozenset() </font>\n",
    "\n",
    "* Python frozenset() Method creates an immutable Set object from an iterable. \n",
    "* It is a built-in Python function. As it is a set object therefore we cannot have duplicate values in the frozenset"
   ]
  },
  {
   "cell_type": "code",
   "execution_count": 3,
   "metadata": {},
   "outputs": [
    {
     "name": "stdout",
     "output_type": "stream",
     "text": [
      "frozenset({1, 2, 3})\n",
      "{1, 2, 3, 4}\n"
     ]
    }
   ],
   "source": [
    "lst = [1, 2, 3, 2]\n",
    "fs = frozenset(lst)\n",
    "print(fs)\n",
    "\n",
    "st = set(lst)\n",
    "st.add(4)\n",
    "print(st)"
   ]
  },
  {
   "cell_type": "markdown",
   "metadata": {},
   "source": [
    "## <font color=\"#fc8c03\"> Tips for lists </font>\n",
    "\n",
    "* Use **id()** function to check the address of any object, if it matches then both of them are just referencing the same object.\n",
    "* Sequences can be copied by slicing. Splicing operator produces a new list ie. **[:]**.\n",
    "* **l2 = list(l1)** also produces a new list.\n",
    "* The **is** keyword is used to test if two variables refer to the same object. The test returns True if the two objects are the same object. The test returns False if they are not the same object, even if the two objects are 100% equal.\n",
    "* **copy.deepcopy()** also provides the facility for creating a new object.\n",
    "* The difference between sliced copy and deecopy() is that sliced copy doesn't work for **nested list**, while deepcopy() works recursively and copy each nested list without just using referenced copy."
   ]
  },
  {
   "cell_type": "code",
   "execution_count": 4,
   "metadata": {},
   "outputs": [
    {
     "name": "stdout",
     "output_type": "stream",
     "text": [
      "l3 = [9, 7, [1, 2], [10, 20, 30]]                id = 407871499456\n",
      "l4 = [9, 7, [1, 2], [10, 20, 30]]                id = 407871499840\n",
      "----------------------------------------------------------------------------------------------------\n",
      "l3 = [9, 7, [1, 2], [10, 20, 30, 'changed']]     id = 407871499456\n",
      "l4 = [9, 7, [1, 2], [10, 20, 30]]                id = 407871499840\n"
     ]
    }
   ],
   "source": [
    "from copy import deepcopy\n",
    "\n",
    "l1 = [10,20,30]\n",
    "l2 = [9,7,[1,2],l1]\n",
    "\n",
    "l3 = l2[:]\n",
    "print('l3 =', l3, '               id =', id(l3))\n",
    "\n",
    "l4 = deepcopy(l2)\n",
    "print('l4 =', l4, '               id =', id(l4))\n",
    "\n",
    "print('-'*100)\n",
    "l1 += ['changed']\n",
    "\n",
    "print('l3 =', l3, '    id =', id(l3))  #copied using slicing\n",
    "\n",
    "print('l4 =', l4, '               id =', id(l4)) #copied using deepcopy()"
   ]
  },
  {
   "cell_type": "markdown",
   "metadata": {},
   "source": [
    "### <font color=\"red\">WARNING: </font><font color=\"#fe7401\">`sys.maxint` is no longer supported in Python 3, instead use `sys.maxsize`</font>\n"
   ]
  },
  {
   "cell_type": "code",
   "execution_count": 5,
   "metadata": {},
   "outputs": [
    {
     "name": "stdout",
     "output_type": "stream",
     "text": [
      "Max val: 9223372036854775807\n",
      "Min val: -9223372036854775807\n"
     ]
    }
   ],
   "source": [
    "import sys\n",
    "print(\"Max val:\", sys.maxsize)\n",
    "print(\"Min val:\", -sys.maxsize)"
   ]
  },
  {
   "cell_type": "markdown",
   "metadata": {},
   "source": [
    "## <font color=\"#fe7401\">`operator` module</font>\n",
    "* The operator module exports a set of efficient functions corresponding to the intrinsic operators of Python. \n",
    "* For example, `operator.add(x, y)` is equivalent to the expression x+y.\n",
    "* Can be used to convert a string-type expression into real expression."
   ]
  },
  {
   "cell_type": "code",
   "execution_count": 6,
   "metadata": {},
   "outputs": [
    {
     "name": "stdout",
     "output_type": "stream",
     "text": [
      "Expression: ['2', '+', '5']\n",
      "2 + 5 = 7\n"
     ]
    }
   ],
   "source": [
    "import operator\n",
    "\n",
    "def exprEval(exp):\n",
    "    # hash-table for operators\n",
    "    ops = {\n",
    "        '+': operator.add,\n",
    "        '-': operator.sub,\n",
    "        '*': operator.mul,\n",
    "        '/': operator.truediv\n",
    "    }\n",
    "    \n",
    "    tok = exp.split(' ')\n",
    "    print(\"Expression:\", tok)\n",
    "    \n",
    "    operand1 = int(tok[0])\n",
    "    operand2 = int(tok[2])\n",
    "    optr = tok[1]\n",
    "    \n",
    "    return ops[optr](int(tok[0]), int(tok[2])) \n",
    "\n",
    "\n",
    "\n",
    "# main\n",
    "exp = \"2 + 5\"\n",
    "print(exp, \"=\", exprEval(exp))"
   ]
  },
  {
   "cell_type": "markdown",
   "metadata": {},
   "source": [
    "## <font color=\"#fe7401\">Nested functions in Python</font>\n",
    "* A function that is defined inside another function is known as a nested function.\n",
    "* Nested functions are able to access variables of the enclosing scope. "
   ]
  },
  {
   "cell_type": "code",
   "execution_count": 7,
   "metadata": {},
   "outputs": [
    {
     "name": "stdout",
     "output_type": "stream",
     "text": [
      "Square(3) = 9\n",
      "Cube(3) = 27\n"
     ]
    }
   ],
   "source": [
    "# outer-function, printSquare\n",
    "def printSquare(x):\n",
    "    print(f'Square({x}) = {x ** 2}')\n",
    "    \n",
    "    \n",
    "    def printCube():\n",
    "        print(f'Cube({x}) = {x ** 3}')   # observe, inner-function is accessing variable x from outer-function\n",
    "    \n",
    "    \n",
    "    # calling inner-function, printCube()\n",
    "    printCube()\n",
    "\n",
    "\n",
    "\n",
    "# main\n",
    "num = 3\n",
    "printSquare(num)    # calling outer-function, printSquare()"
   ]
  },
  {
   "cell_type": "markdown",
   "metadata": {},
   "source": [
    "## <font color=\"#fa9009\">Python Closures</font>"
   ]
  },
  {
   "cell_type": "code",
   "execution_count": null,
   "metadata": {},
   "outputs": [],
   "source": []
  },
  {
   "cell_type": "markdown",
   "metadata": {},
   "source": [
    "## <font color=\"blue\">Why -1 % 10  gives 9 ? </font>\n",
    "\n",
    "Because :- <br>\n",
    "```\n",
    "       _________\n",
    "    10 ) -1    ( -1     # -1 x 10 => -10\n",
    "      - (-10)\n",
    "      ----------\n",
    "          9         #because: -1 - (-10) = -1 + 10 = 9\n",
    "```\n",
    "**mod(remainder) trick**"
   ]
  },
  {
   "cell_type": "code",
   "execution_count": 8,
   "metadata": {},
   "outputs": [
    {
     "name": "stdout",
     "output_type": "stream",
     "text": [
      "res = 9\n",
      "res = ?\n"
     ]
    }
   ],
   "source": [
    "# Why ?\n",
    "res = -1 % 10 \n",
    "print('res =', res)\n",
    "\n",
    "# Now guess what ?\n",
    "res = -4 % 10\n",
    "print('res = ?')"
   ]
  },
  {
   "cell_type": "markdown",
   "metadata": {},
   "source": [
    "## <font color=\"#fa9009\">Annotated function</font>\n",
    "* Function annotations are arbitrary python expressions that are associated with various part of functions.\n",
    "* These expressions are evaluated at compile time and have no life in python’s runtime environment.\n",
    "* Python does not attach any meaning to these annotations. They take life when interpreted by third party libraries, for example, mypy.\n",
    "* They are like the **optional parameters** that follow the parameter name.\n",
    "* `import typing` — Support for type hints\n",
    "    * This module provides runtime support for type hints.\n",
    "    * The Python runtime does not enforce function and variable type annotations. They can be used by third party tools such as type checkers, IDEs, linters, etc."
   ]
  },
  {
   "cell_type": "code",
   "execution_count": 9,
   "metadata": {},
   "outputs": [
    {
     "data": {
      "text/plain": [
       "'Hello Gaurav'"
      ]
     },
     "execution_count": 9,
     "metadata": {},
     "output_type": "execute_result"
    }
   ],
   "source": [
    "def greeting(name: str) -> str:\n",
    "    return 'Hello ' + name\n",
    "\n",
    "\n",
    "#main\n",
    "greeting(\"Gaurav\")"
   ]
  },
  {
   "cell_type": "markdown",
   "metadata": {},
   "source": [
    "## <font color=\"#fa9009\">@lru_cache (also called memoize)</font>\n",
    "* LRU (Least Recently Used) caching technique which stores most recently used objects and evicts (remove) least recently used one.\n",
    "* Module: **from functools import lru_cache**\n",
    "* Used in memoization techniques (<a href=\"https://en.wikipedia.org/wiki/Memoization\"> Memoization Link </a>)\n",
    "* Refer below example, to note the time difference for factorial(10) and factorial(15).\n",
    "* In below example factorial(15) is not calculated once again from scratch, but the results from factorial(10) is used."
   ]
  },
  {
   "cell_type": "code",
   "execution_count": 10,
   "metadata": {},
   "outputs": [],
   "source": [
    "from functools import lru_cache\n",
    "\n",
    "@lru_cache\n",
    "def factorial(n):\n",
    "    if n == 0 or n == 1: return 1\n",
    "    else: return n * factorial(n-1)"
   ]
  },
  {
   "cell_type": "code",
   "execution_count": 11,
   "metadata": {},
   "outputs": [
    {
     "name": "stdout",
     "output_type": "stream",
     "text": [
      "141 ns ± 2.05 ns per loop (mean ± std. dev. of 7 runs, 10,000,000 loops each)\n"
     ]
    }
   ],
   "source": [
    "%timeit factorial(10)"
   ]
  },
  {
   "cell_type": "code",
   "execution_count": 12,
   "metadata": {},
   "outputs": [
    {
     "name": "stdout",
     "output_type": "stream",
     "text": [
      "137 ns ± 1.95 ns per loop (mean ± std. dev. of 7 runs, 10,000,000 loops each)\n"
     ]
    }
   ],
   "source": [
    "%timeit factorial(15)"
   ]
  }
 ],
 "metadata": {
  "kernelspec": {
   "display_name": "Python 3 (ipykernel)",
   "language": "python",
   "name": "python3"
  },
  "language_info": {
   "codemirror_mode": {
    "name": "ipython",
    "version": 3
   },
   "file_extension": ".py",
   "mimetype": "text/x-python",
   "name": "python",
   "nbconvert_exporter": "python",
   "pygments_lexer": "ipython3",
   "version": "3.10.5"
  }
 },
 "nbformat": 4,
 "nbformat_minor": 4
}
