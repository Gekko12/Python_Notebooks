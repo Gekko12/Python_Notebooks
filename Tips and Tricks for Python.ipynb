{
 "cells": [
  {
   "cell_type": "markdown",
   "metadata": {},
   "source": [
    "# <font color=\"hotpink\"> Tips & Tricks for Python </font>"
   ]
  },
  {
   "cell_type": "markdown",
   "metadata": {},
   "source": [
    "## <font color=\"#fc8c03\"> *Tips for lists* </font>\n",
    "\n",
    "* Use **id()** function to check the address of any object, if it matches then both of them are just referencing the same object.\n",
    "* Sequences can be copied by slicing. Splicing operator produces a new list ie. **[:]**.\n",
    "* **l2 = list(l1)** also produces a new list.\n",
    "* The **is** keyword is used to test if two variables refer to the same object. The test returns True if the two objects are the same object. The test returns False if they are not the same object, even if the two objects are 100% equal.\n",
    "* **copy.deepcopy()** also provides the facility for creating a new object.\n",
    "* The difference between sliced copy and deecopy() is that sliced copy doesn't work for **nested list**, while deepcopy() works recursively and copy each nested list without just using referenced copy."
   ]
  },
  {
   "cell_type": "code",
   "execution_count": 1,
   "metadata": {},
   "outputs": [
    {
     "name": "stdout",
     "output_type": "stream",
     "text": [
      "l3 = [9, 7, [1, 2], [10, 20, 30]]                id = 140347321841664\n",
      "l4 = [9, 7, [1, 2], [10, 20, 30]]                id = 140347321842112\n",
      "----------------------------------------------------------------------------------------------------\n",
      "l3 = [9, 7, [1, 2], [10, 20, 30, 'changed']]     id = 140347321841664\n",
      "l4 = [9, 7, [1, 2], [10, 20, 30]]                id = 140347321842112\n"
     ]
    }
   ],
   "source": [
    "from copy import deepcopy\n",
    "\n",
    "l1 = [10,20,30]\n",
    "l2 = [9,7,[1,2],l1]\n",
    "\n",
    "l3 = l2[:]\n",
    "print('l3 =', l3, '               id =', id(l3))\n",
    "\n",
    "l4 = deepcopy(l2)\n",
    "print('l4 =', l4, '               id =', id(l4))\n",
    "\n",
    "print('-'*100)\n",
    "l1 += ['changed']\n",
    "\n",
    "print('l3 =', l3, '    id =', id(l3))  #copied using slicing\n",
    "\n",
    "print('l4 =', l4, '               id =', id(l4)) #copied using deepcopy()"
   ]
  },
  {
   "cell_type": "markdown",
   "metadata": {},
   "source": [
    "### <font color=\"red\">WARNING: </font><font color=\"#fe7401\">`sys.maxint` is no longer supported in Python 3, instead use `sys.maxsize`</font>\n"
   ]
  },
  {
   "cell_type": "code",
   "execution_count": 2,
   "metadata": {},
   "outputs": [
    {
     "name": "stdout",
     "output_type": "stream",
     "text": [
      "Max val: 9223372036854775807\n",
      "Min val: -9223372036854775807\n"
     ]
    }
   ],
   "source": [
    "import sys\n",
    "print(\"Max val:\", sys.maxsize)\n",
    "print(\"Min val:\", -sys.maxsize)"
   ]
  },
  {
   "cell_type": "markdown",
   "metadata": {},
   "source": [
    "## <font color=\"#fe7401\">Nested functions in Python</font>\n",
    "* A function that is defined inside another function is known as a nested function.\n",
    "* Nested functions are able to access variables of the enclosing scope. "
   ]
  },
  {
   "cell_type": "code",
   "execution_count": 8,
   "metadata": {},
   "outputs": [
    {
     "name": "stdout",
     "output_type": "stream",
     "text": [
      "Square(3) = 9\n",
      "Cube(3) = 27\n"
     ]
    }
   ],
   "source": [
    "# outer-function, printSquare\n",
    "def printSquare(x):\n",
    "    print(f'Square({x}) = {x ** 2}')\n",
    "    \n",
    "    \n",
    "    def printCube():\n",
    "        print(f'Cube({x}) = {x ** 3}')   # observe, inner-function is accessing variable x from outer-function\n",
    "    \n",
    "    \n",
    "    # calling inner-function, printCube()\n",
    "    printCube()\n",
    "\n",
    "\n",
    "\n",
    "# main\n",
    "num = 3\n",
    "printSquare(num)    # calling outer-function, printSquare()"
   ]
  },
  {
   "cell_type": "markdown",
   "metadata": {},
   "source": [
    "## <font color=\"#fa9009\">Python Closures</font>"
   ]
  },
  {
   "cell_type": "code",
   "execution_count": null,
   "metadata": {},
   "outputs": [],
   "source": []
  }
 ],
 "metadata": {
  "kernelspec": {
   "display_name": "Python 3",
   "language": "python",
   "name": "python3"
  },
  "language_info": {
   "codemirror_mode": {
    "name": "ipython",
    "version": 3
   },
   "file_extension": ".py",
   "mimetype": "text/x-python",
   "name": "python",
   "nbconvert_exporter": "python",
   "pygments_lexer": "ipython3",
   "version": "3.8.10"
  }
 },
 "nbformat": 4,
 "nbformat_minor": 4
}
