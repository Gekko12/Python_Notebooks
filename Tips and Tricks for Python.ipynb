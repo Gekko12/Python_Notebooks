{
 "cells": [
  {
   "cell_type": "markdown",
   "metadata": {},
   "source": [
    "# <font color=\"hotpink\"> Tips & Tricks for Python </font>"
   ]
  },
  {
   "cell_type": "markdown",
   "metadata": {},
   "source": [
    "## <font color=\"#fc8c03\"> Python Fastest Implementation </font>\n",
    "\n",
    "* PyPy uses just-in-time (JIT) compilation to translate Python code into machine-native assembly language.\n",
    "* On the average, PyPy speeds up Python by about 7.6 times, with some tasks accelerated 50 times or more."
   ]
  },
  {
   "cell_type": "markdown",
   "metadata": {},
   "source": [
    "## <font color=\"#fc8c03\"> dir() and help() </font>\n",
    "\n",
    "* *dir()*: The dir() function returns all properties and methods of the specified object, without the values.\n",
    "<br><br>\n",
    "* *help()*: The Python help function is used to display the documentation of modules, functions, classes, keywords, etc. "
   ]
  },
  {
   "cell_type": "code",
   "execution_count": 1,
   "metadata": {
    "scrolled": true
   },
   "outputs": [
    {
     "name": "stdout",
     "output_type": "stream",
     "text": [
      "['__call__', '__class__', '__delattr__', '__dir__', '__doc__', '__eq__', '__format__', '__ge__', '__get__', '__getattribute__', '__gt__', '__hash__', '__init__', '__init_subclass__', '__le__', '__lt__', '__name__', '__ne__', '__new__', '__objclass__', '__qualname__', '__reduce__', '__reduce_ex__', '__repr__', '__setattr__', '__sizeof__', '__str__', '__subclasshook__', '__text_signature__']\n",
      "-------------------------------------------------------------------------------- \n",
      "\n",
      "Help on method_descriptor:\n",
      "\n",
      "append(self, object, /)\n",
      "    Append object to the end of the list.\n",
      "\n"
     ]
    }
   ],
   "source": [
    "print(dir(list.append))\n",
    "print(\"-\"*80, \"\\n\")\n",
    "help(list.append)"
   ]
  },
  {
   "cell_type": "markdown",
   "metadata": {},
   "source": [
    "## <font color=\"#fc8c03\"> bytes() </font>\n",
    "\n",
    "* It can convert objects into bytes objects, or create empty bytes object of the specified size.\n",
    "* The difference between bytes() and bytearray() is that bytes() returns an object that cannot be modified, and bytearray() returns an object that can be modified.\n",
    "* Syntax: bytes(x, encoding, error)"
   ]
  },
  {
   "cell_type": "code",
   "execution_count": 2,
   "metadata": {},
   "outputs": [
    {
     "name": "stdout",
     "output_type": "stream",
     "text": [
      "b'\\xe0\\xa4\\xb8\\xe0\\xa5\\x8d\\xe0\\xa4\\xb5\\xe0\\xa4\\xbe\\xe0\\xa4\\x97\\xe0\\xa4\\xa4 \\xe0\\xa4\\xb9\\xe0\\xa5\\x87'\n",
      "स्वागत हे\n"
     ]
    }
   ],
   "source": [
    "x = bytes(\"स्वागत हे\", \"utf-8\")\n",
    "\n",
    "print(x)\n",
    "print(x.decode('utf-8'))"
   ]
  },
  {
   "cell_type": "markdown",
   "metadata": {},
   "source": [
    "## <font color=\"#fc8c03\"> isinstance() </font>\n",
    "\n",
    "* The isinstance() function checks if the object (first argument) is an instance or subclass of classinfo class (second argument).\n",
    "* The syntax of isinstance() is:\n",
    "    ``` \n",
    "    isinstance(object, classinfo):\n",
    "        object - object to be checked\n",
    "        classinfo - class, type, or tuple of classes and types\n",
    "        \n",
    "    isinstance() returns:\n",
    "        True if the object is an instance or subclass of a class or **any** element of the tuple\n",
    "        False otherwise\n",
    "    If classinfo is not a type or tuple of types, a TypeError exception is raised.\n",
    "    ```"
   ]
  },
  {
   "cell_type": "code",
   "execution_count": 3,
   "metadata": {},
   "outputs": [
    {
     "name": "stdout",
     "output_type": "stream",
     "text": [
      "True\n",
      "False\n",
      "**********\n",
      "True\n",
      "False\n",
      "True\n"
     ]
    }
   ],
   "source": [
    "print(isinstance(\"abcd\", str))\n",
    "print(isinstance(1234, str))\n",
    "print(\"*\" * 10)\n",
    "\n",
    "class MyClass:\n",
    "    pass\n",
    "\n",
    "obj = MyClass()\n",
    "print(isinstance(obj, MyClass))\n",
    "print(isinstance(obj, (list, tuple)))  # as obj not belongs to list or tuple \n",
    "# as obj not belongs to list or tuple, but belongs to MyClass ie. True <= (False or False or True) \n",
    "print(isinstance(obj, (list, tuple, MyClass)))"
   ]
  },
  {
   "cell_type": "markdown",
   "metadata": {},
   "source": [
    "## <font color=\"#fc8c03\"> hasattr() </font>\n",
    "\n",
    "* The hasattr() method returns true if an object has the given named attribute and false if it does not.\n",
    "* The syntax of the hasattr() method is:\n",
    "    ```\n",
    "    hasattr(object, name):\n",
    "        object - object whose named attribute is to be checked\n",
    "        name - name of the attribute to be searched\n",
    "    \n",
    "    The hasattr() method returns:\n",
    "        True - if object has the given named attribute\n",
    "        False - if object has no given named attribute\n",
    "    ```"
   ]
  },
  {
   "cell_type": "code",
   "execution_count": 4,
   "metadata": {},
   "outputs": [
    {
     "name": "stdout",
     "output_type": "stream",
     "text": [
      "True\n",
      "False\n",
      "**********\n",
      "True\n",
      "False\n",
      "**********\n",
      "Help on method_descriptor:\n",
      "\n",
      "lower(self, /)\n",
      "    Return a copy of the string converted to lowercase.\n",
      "\n"
     ]
    }
   ],
   "source": [
    "class Car:\n",
    "    color = \"red\"\n",
    "    model = \"Tata Nexon\"\n",
    "\n",
    "obj = Car()\n",
    "print(hasattr(obj, \"color\"))\n",
    "print(hasattr(obj, \"milege\"))\n",
    "print(\"*\" * 10)\n",
    "\n",
    "s = \"xyz\"\n",
    "print(hasattr(s, \"lower\")) #string obj has lower() method\n",
    "print(hasattr(s, \"rocker\"))\n",
    "print(\"*\" * 10)\n",
    "\n",
    "help(str.lower)"
   ]
  },
  {
   "cell_type": "markdown",
   "metadata": {},
   "source": [
    "## <font color=\"#fc8c03\"> del keyword </font>\n",
    "\n",
    "* The del keyword is used to delete objects. In Python everything is an object, so the del keyword can also be used to delete variables, lists, or parts of a list etc.\n"
   ]
  },
  {
   "cell_type": "code",
   "execution_count": 5,
   "metadata": {},
   "outputs": [
    {
     "name": "stdout",
     "output_type": "stream",
     "text": [
      "Hello\n",
      "name 'var' is not defined\n"
     ]
    }
   ],
   "source": [
    "var = \"Hello\"\n",
    "print(var)\n",
    "\n",
    "try:\n",
    "    del var\n",
    "    print(var)\n",
    "except NameError as e:\n",
    "    print(e)"
   ]
  },
  {
   "cell_type": "markdown",
   "metadata": {},
   "source": [
    "## <font color=\"#fc8c03\"> Tips for lists </font>\n",
    "\n",
    "* Use **id()** function to check the address of any object, if it matches then both of them are just referencing the same object.\n",
    "* Sequences can be copied by slicing. Splicing operator produces a new list ie. **[:]**.\n",
    "* **l2 = list(l1)** also produces a new list.\n",
    "* The **is** keyword is used to test if two variables refer to the same object. The test returns True if the two objects are the same object. The test returns False if they are not the same object, even if the two objects are 100% equal.\n",
    "* **copy.deepcopy()** also provides the facility for creating a new object.\n",
    "* The difference between sliced copy and deecopy() is that sliced copy doesn't work for **nested list**, while deepcopy() works recursively and copy each nested list without just using referenced copy."
   ]
  },
  {
   "cell_type": "code",
   "execution_count": 6,
   "metadata": {},
   "outputs": [
    {
     "name": "stdout",
     "output_type": "stream",
     "text": [
      "l3 = [9, 7, [1, 2], [10, 20, 30]]                id = 355836292416\n",
      "l4 = [9, 7, [1, 2], [10, 20, 30]]                id = 355836291072\n",
      "----------------------------------------------------------------------------------------------------\n",
      "l3 = [9, 7, [1, 2], [10, 20, 30, 'changed']]     id = 355836292416\n",
      "l4 = [9, 7, [1, 2], [10, 20, 30]]                id = 355836291072\n"
     ]
    }
   ],
   "source": [
    "from copy import deepcopy\n",
    "\n",
    "l1 = [10,20,30]\n",
    "l2 = [9,7,[1,2],l1]\n",
    "\n",
    "l3 = l2[:]\n",
    "print('l3 =', l3, '               id =', id(l3))\n",
    "\n",
    "l4 = deepcopy(l2)\n",
    "print('l4 =', l4, '               id =', id(l4))\n",
    "\n",
    "print('-'*100)\n",
    "l1 += ['changed']\n",
    "\n",
    "print('l3 =', l3, '    id =', id(l3))  #copied using slicing\n",
    "\n",
    "print('l4 =', l4, '               id =', id(l4)) #copied using deepcopy()"
   ]
  },
  {
   "cell_type": "markdown",
   "metadata": {},
   "source": [
    "## <font color=\"#fc8c03\"> frozenset() </font>\n",
    "\n",
    "* Python frozenset() Method creates an immutable Set object from an iterable. \n",
    "* It is a built-in Python function. As it is a set object therefore we cannot have duplicate values in the frozenset"
   ]
  },
  {
   "cell_type": "code",
   "execution_count": 7,
   "metadata": {},
   "outputs": [
    {
     "name": "stdout",
     "output_type": "stream",
     "text": [
      "frozenset({1, 2, 3})\n",
      "{1, 2, 3, 4}\n"
     ]
    }
   ],
   "source": [
    "lst = [1, 2, 3, 2]\n",
    "fs = frozenset(lst)\n",
    "print(fs)\n",
    "\n",
    "st = set(lst)\n",
    "st.add(4)\n",
    "print(st)"
   ]
  },
  {
   "cell_type": "markdown",
   "metadata": {},
   "source": [
    "### <font color=\"red\">WARNING: </font><font color=\"#fe7401\">`sys.maxint` is no longer supported in Python 3, instead use `sys.maxsize`</font>\n"
   ]
  },
  {
   "cell_type": "code",
   "execution_count": 8,
   "metadata": {},
   "outputs": [
    {
     "name": "stdout",
     "output_type": "stream",
     "text": [
      "Max val: 9223372036854775807\n",
      "Min val: -9223372036854775807\n"
     ]
    }
   ],
   "source": [
    "import sys\n",
    "print(\"Max val:\", sys.maxsize)\n",
    "print(\"Min val:\", -sys.maxsize)"
   ]
  },
  {
   "cell_type": "markdown",
   "metadata": {},
   "source": [
    "## <font color=\"#fa9009\">Annotated function</font>\n",
    "* Function annotations are arbitrary python expressions that are associated with various part of functions.\n",
    "* These expressions are evaluated at compile time and have no life in python’s runtime environment.\n",
    "* Python does not attach any meaning to these annotations. They take life when interpreted by third party libraries, for example, mypy.\n",
    "* They are like the **optional parameters** that follow the parameter name.\n",
    "* `import typing` — Support for type hints\n",
    "    * This module provides runtime support for type hints.\n",
    "    * The Python runtime does not enforce function and variable type annotations. They can be used by third party tools such as type checkers, IDEs, linters, etc."
   ]
  },
  {
   "cell_type": "code",
   "execution_count": 9,
   "metadata": {},
   "outputs": [
    {
     "data": {
      "text/plain": [
       "'Hello Gaurav'"
      ]
     },
     "execution_count": 9,
     "metadata": {},
     "output_type": "execute_result"
    }
   ],
   "source": [
    "def greeting(name: str) -> str:\n",
    "    return 'Hello ' + name\n",
    "\n",
    "\n",
    "#main\n",
    "greeting(\"Gaurav\")"
   ]
  },
  {
   "cell_type": "markdown",
   "metadata": {},
   "source": [
    "## <font color=\"#fe7401\">Nested functions in Python</font>\n",
    "* A function that is defined inside another function is known as a nested function.\n",
    "* Nested functions are able to access variables of the enclosing scope. "
   ]
  },
  {
   "cell_type": "code",
   "execution_count": 10,
   "metadata": {},
   "outputs": [
    {
     "name": "stdout",
     "output_type": "stream",
     "text": [
      "Square(3) = 9\n",
      "Cube(3) = 27\n"
     ]
    }
   ],
   "source": [
    "# outer-function, printSquare\n",
    "def printSquare(x):\n",
    "    print(f'Square({x}) = {x ** 2}')\n",
    "    \n",
    "    \n",
    "    def printCube():\n",
    "        print(f'Cube({x}) = {x ** 3}')   # observe, inner-function is accessing variable x from outer-function\n",
    "    \n",
    "    \n",
    "    # calling inner-function, printCube()\n",
    "    printCube()\n",
    "\n",
    "\n",
    "\n",
    "# main\n",
    "num = 3\n",
    "printSquare(num)    # calling outer-function, printSquare()"
   ]
  },
  {
   "cell_type": "markdown",
   "metadata": {},
   "source": [
    "## <font color=\"#fa9009\">Iterators</font>\n",
    "\n",
    "* An Iterator is an object, which allows a programmer to traverse through all the elements of a collection, regardless of its specific implementation.\n",
    "* Values of an Iterator can be accessed only once and in sequential order.\n",
    "* next(iterator[, default]): Return the next item from the iterator.\n",
    "\n",
    "<img src=\"background/iterators-and-generators-in-python-4-1657095549.png\" width=\"600\">"
   ]
  },
  {
   "cell_type": "code",
   "execution_count": 11,
   "metadata": {},
   "outputs": [
    {
     "name": "stdout",
     "output_type": "stream",
     "text": [
      "11\n",
      "22\n",
      "33\n",
      "44\n",
      "55\n",
      "End of the list\n"
     ]
    }
   ],
   "source": [
    "lst = [11, 22, 33, 44, 55]\n",
    "itr = iter(lst)\n",
    "try:\n",
    "    while True:\n",
    "        print(next(itr))\n",
    "except StopIteration:\n",
    "    print(\"End of the list\")"
   ]
  },
  {
   "cell_type": "markdown",
   "metadata": {},
   "source": [
    "## <font color=\"#fa9009\">Generators</font>\n",
    "\n",
    "* A Generator object is an iterator, whose values are created at the time of accessing them.\n",
    "* A generator can be obtained either from a generator expression or a generator function\n",
    "* The Yield keyword in Python is similar to a return statement used for returning values or objects in Python. However, there is a slight difference. The yield statement returns a generator object to the one who calls the function which contains yield, instead of simply returning a value.\n",
    "<img src=\"background/generator.gif\" width=\"400\">"
   ]
  },
  {
   "cell_type": "code",
   "execution_count": 12,
   "metadata": {},
   "outputs": [
    {
     "name": "stdout",
     "output_type": "stream",
     "text": [
      "36\n",
      "**************************************************\n",
      "36\n",
      "9\n",
      "m\n",
      "v\n",
      "e\n",
      "r\n",
      "i\n",
      "c\n",
      "k\n"
     ]
    }
   ],
   "source": [
    "x = [6, 3, 1]\n",
    "g = (i**2 for i in x) # generator expression\n",
    "print(next(g)) # -> 36\n",
    "print(\"*\"*50)\n",
    "\n",
    "def gen_number():  # generator function\n",
    "    x = [6, 3, 1]\n",
    "    for i in x:\n",
    "        yield i**2\n",
    "x = gen_number()\n",
    "print(next(x))            # -> 36\n",
    "print(next(x))            # -> 9\n",
    "\n",
    "k = [print(i) for i in \"maverick\" if i not in \"a\"]"
   ]
  },
  {
   "cell_type": "markdown",
   "metadata": {},
   "source": [
    "# <font color=\"#fa9009\">Decorators</font>\n",
    "\n",
    "* A decorator is a design pattern in Python that allows a user to add new functionality to an existing object without modifying its structure. Decorators are usually called before the definition of a function you want to decorate.\n",
    "* The decorator function is prefixed with @ symbol and written above the function definition.\n",
    "* This is also called metaprogramming because a part of the program tries to modify another part of the program at compile time.\n",
    "* We must be comfortable with the fact that everything in Python (Yes! Even classes), are objects. \n",
    "* Names that we define are simply identifiers bound to these objects. \n",
    "* Functions are no exceptions, they are objects too (with attributes). Various different names can be bound to the same function object."
   ]
  },
  {
   "cell_type": "code",
   "execution_count": 13,
   "metadata": {},
   "outputs": [
    {
     "name": "stdout",
     "output_type": "stream",
     "text": [
      "My msg: Hello\n",
      "Before learning decorator, first understand this. \n",
      "\n",
      "['__annotations__', '__builtins__', '__call__', '__class__', '__closure__', '__code__', '__defaults__', '__delattr__', '__dict__', '__dir__', '__doc__', '__eq__', '__format__', '__ge__', '__get__', '__getattribute__', '__globals__', '__gt__', '__hash__', '__init__', '__init_subclass__', '__kwdefaults__', '__le__', '__lt__', '__module__', '__name__', '__ne__', '__new__', '__qualname__', '__reduce__', '__reduce_ex__', '__repr__', '__setattr__', '__sizeof__', '__str__', '__subclasshook__']\n",
      "Function name: demo\n"
     ]
    }
   ],
   "source": [
    "def demo(msg):\n",
    "    print(\"My msg:\", msg)\n",
    "    print(\"Before learning decorator, first understand this. \\n\")\n",
    "\n",
    "obj = demo\n",
    "obj(\"Hello\")\n",
    "\n",
    "print(dir(obj))\n",
    "print(\"Function name:\", obj.__name__)"
   ]
  },
  {
   "cell_type": "markdown",
   "metadata": {},
   "source": [
    "### <font color=\"grey\">High Order Function </font>\n",
    "\n",
    "* A function is called Higher Order Function if it contains other functions as a parameter or returns a function as an output.\n",
    "* Properties of higher-order functions:\n",
    "    * A function is an instance of the Object type.\n",
    "    * You can store the function in a variable.\n",
    "    * You can pass the function as a parameter to another function.\n",
    "    * You can return the function from a function.\n",
    "    * You can store them in data structures such as hash tables, lists, …"
   ]
  },
  {
   "cell_type": "code",
   "execution_count": 14,
   "metadata": {},
   "outputs": [
    {
     "name": "stdout",
     "output_type": "stream",
     "text": [
      "4\n",
      "2\n"
     ]
    }
   ],
   "source": [
    "def inc(x):\n",
    "    return x + 1\n",
    "\n",
    "def dec(x):\n",
    "    return x - 1\n",
    "\n",
    "def operate(func, x):\n",
    "    result = func(x)\n",
    "    return result\n",
    "\n",
    "print(operate(inc,3))\n",
    "print(operate(dec,3))"
   ]
  },
  {
   "cell_type": "code",
   "execution_count": 15,
   "metadata": {},
   "outputs": [
    {
     "name": "stdout",
     "output_type": "stream",
     "text": [
      "Hello\n"
     ]
    }
   ],
   "source": [
    "# Furthermore, a function can return another function.\n",
    "def is_called():\n",
    "    def is_returned():\n",
    "        print(\"Hello\")\n",
    "    return is_returned\n",
    "\n",
    "\n",
    "new = is_called()\n",
    "\n",
    "# Outputs \"Hello\"\n",
    "new()\n",
    "# Here, is_returned() is a nested function which is defined and returned each time we call is_called()."
   ]
  },
  {
   "cell_type": "code",
   "execution_count": 16,
   "metadata": {},
   "outputs": [
    {
     "data": {
      "text/plain": [
       "<function __main__.f1.<locals>.f2()>"
      ]
     },
     "execution_count": 16,
     "metadata": {},
     "output_type": "execute_result"
    }
   ],
   "source": [
    "def f1():\n",
    "    def f2():\n",
    "        return \"hello\"\n",
    "    return f2  #return a function\n",
    "\n",
    "f1()"
   ]
  },
  {
   "cell_type": "code",
   "execution_count": 17,
   "metadata": {},
   "outputs": [
    {
     "data": {
      "text/plain": [
       "'hello'"
      ]
     },
     "execution_count": 17,
     "metadata": {},
     "output_type": "execute_result"
    }
   ],
   "source": [
    "def f1():\n",
    "    def f2():\n",
    "        return \"hello\"\n",
    "    return f2()  #return a function's value\n",
    "\n",
    "f1()"
   ]
  },
  {
   "cell_type": "markdown",
   "metadata": {},
   "source": [
    "### <font color=\"blue\">Closures</font>\n",
    "\n",
    "* Closure is a function returned by a higher order function, whose return value depends on the data associated with the higher order function.\n",
    "\n",
    "```\n",
    "def multiple_of(x):\n",
    "    def multiple(y):\n",
    "        return x*y\n",
    "    return multiple\n",
    "\n",
    "c1 = multiple_of(5)  # 'c1' is a closure\n",
    "c2 = multiple_of(6)  # 'c2' is a closure\n",
    "print(c1(4)) # outputs 20\n",
    "print(c2(4)) # outputs 24\n",
    "```\n",
    "* You can observe from the example that the closure functions c1 and c2 hold the data passed to enclosing function, multiple_of, during their creation.\n",
    "* The first closure function, c1 binds the value 5 to argument x and when called with an argument 4, it executes the body of multiple function and returns the product of 5 and 4.\n",
    "* Similarly c2 binds the value 6 to argument x and when called with argument 4 returns 24."
   ]
  },
  {
   "cell_type": "code",
   "execution_count": 18,
   "metadata": {},
   "outputs": [
    {
     "name": "stdout",
     "output_type": "stream",
     "text": [
      "[6, 6, 6, 6]\n"
     ]
    }
   ],
   "source": [
    "def multipliers():\n",
    "    return [lambda x: i * x for i in range(4)]\n",
    "\n",
    "print([m(2) for m in multipliers()])"
   ]
  },
  {
   "cell_type": "code",
   "execution_count": 19,
   "metadata": {},
   "outputs": [
    {
     "name": "stdout",
     "output_type": "stream",
     "text": [
      "Before function execution\n",
      "Square of 5 is 25\n",
      "Function name: square(args: 5)\n",
      "After function execution\n"
     ]
    }
   ],
   "source": [
    "def decorator_func(func):\n",
    "    def inner(*args, **kwargs):\n",
    "        print(\"Before function execution\")\n",
    "        func(*args, **kwargs)\n",
    "        print(f\"Function name: %s(args: %s)\"%(func.__name__, *args))\n",
    "        print(\"After function execution\")\n",
    "    return inner\n",
    "\n",
    "@decorator_func\n",
    "def square(x):\n",
    "    print(\"Square of\", x, \"is\", x*x)\n",
    "\n",
    "square(5)"
   ]
  },
  {
   "cell_type": "code",
   "execution_count": 20,
   "metadata": {},
   "outputs": [
    {
     "name": "stdout",
     "output_type": "stream",
     "text": [
      "***\n",
      "%%%\n",
      "Hello\n",
      "%%%\n",
      "***\n"
     ]
    }
   ],
   "source": [
    "# chained decorators\n",
    "\n",
    "def star(func):\n",
    "    def inner(*args, **kwargs):\n",
    "        print(\"*\" * 3)\n",
    "        func(*args, **kwargs)\n",
    "        print(\"*\" * 3)\n",
    "    return inner\n",
    "\n",
    "def percent(func):\n",
    "    def inner(*args, **kwargs):\n",
    "        print(\"%\" * 3)\n",
    "        func(*args, **kwargs)\n",
    "        print(\"%\" * 3)\n",
    "    return inner\n",
    "\n",
    "@star\n",
    "@percent\n",
    "def printer(msg):\n",
    "    print(msg)\n",
    "\n",
    "printer(\"Hello\")"
   ]
  },
  {
   "cell_type": "code",
   "execution_count": 21,
   "metadata": {},
   "outputs": [
    {
     "name": "stdout",
     "output_type": "stream",
     "text": [
      "wrapper\n",
      "0.25\n",
      "oops! cannot divide\n",
      "None\n"
     ]
    }
   ],
   "source": [
    "def smart_divide(func):\n",
    "    def wrapper(*args):\n",
    "        a, b = args\n",
    "        if b == 0:\n",
    "            print('oops! cannot divide')\n",
    "            return\n",
    "        return func(*args)\n",
    "    return wrapper\n",
    "\n",
    "\n",
    "@smart_divide\n",
    "def divide(a, b):\n",
    "    return a / b\n",
    "\n",
    "print(divide.__name__)\n",
    "print(divide(4, 16))\n",
    "print(divide(8,0))"
   ]
  },
  {
   "cell_type": "markdown",
   "metadata": {},
   "source": [
    "# <font color=\"#fa9009\"> Descriptors </font>\n",
    "\n",
    "* It allows a programmer to easily and efficiently manage attribute access:\n",
    "    * set\n",
    "    * get\n",
    "    * delete\n",
    "* In other programming languages, descriptors are referred to as setter and getter, where public functions are used to Get and Set a private variable. \n",
    "* **Python doesn't have a private variables concept**, and descriptor protocol can be considered as a Pythonic way to achieve something similar."
   ]
  },
  {
   "cell_type": "code",
   "execution_count": 22,
   "metadata": {},
   "outputs": [
    {
     "name": "stdout",
     "output_type": "stream",
     "text": [
      "Black\n",
      "Tata Nexon\n",
      "72.5\n"
     ]
    }
   ],
   "source": [
    "class Car:\n",
    "    def __init__(self):\n",
    "        self.color = \"Black\"\n",
    "        self._model = \"Tata Nexon\"\n",
    "        self.__milege = 72.5\n",
    "\n",
    "# main\n",
    "carObj = Car()\n",
    "print(carObj.color)\n",
    "print(carObj._model)\n",
    "# print(carObj.__milege) raises AttributeError\n",
    "print(carObj._Car__milege) # but can be accessed using Name-Mangling"
   ]
  },
  {
   "cell_type": "markdown",
   "metadata": {},
   "source": [
    "* In **Name-Mangling** process any identifier with two leading underscore and one trailing underscore is textually replaced with `_classname__identifier` where classname is the name of the current class.\n",
    "* In the above example, the class variable `__milege` is not accessible outside the class. It can be accessed only within the class. Any modification of the class variable can be done only inside the class.\n",
    "* With the help of `dir()` method, we can see the name mangling process that is done to the class variable.\n",
    "* The name mangling process helps to access the class variables from outside the class. The class variables can be accessed by adding _classname to it. \n",
    "* The name mangling is closest to private *not exactly* private."
   ]
  },
  {
   "cell_type": "code",
   "execution_count": 23,
   "metadata": {},
   "outputs": [
    {
     "name": "stdout",
     "output_type": "stream",
     "text": [
      "['_Car__milege', '__class__', '__delattr__', '__dict__', '__dir__', '__doc__', '__eq__', '__format__', '__ge__', '__getattribute__', '__gt__', '__hash__', '__init__', '__init_subclass__', '__le__', '__lt__', '__module__', '__ne__', '__new__', '__reduce__', '__reduce_ex__', '__repr__', '__setattr__', '__sizeof__', '__str__', '__subclasshook__', '__weakref__', '_model', 'color']\n"
     ]
    }
   ],
   "source": [
    "print(dir(carObj))"
   ]
  },
  {
   "cell_type": "markdown",
   "metadata": {},
   "source": [
    "* In general, a descriptor is an object attribute with a binding behavior, one whose attribute access is overridden by methods in the descriptor protocol. Those methods are `__get__, __set__, and __delete__`. If any of these methods are defined for an object, it is said to be a descriptor. \n",
    "    ``` \n",
    "    __get__(self, instance, owner)\n",
    "    __set__(self, instance, value)\n",
    "    __delete__(self, instance)\n",
    "\n",
    "    Where:\n",
    "    __get__ accesses the attribute. It returns the value of the attribute, or raise the AttributeError exception if a requested attribute is not present.\n",
    "\n",
    "    __set__ is called in an attribute assignment operation. Returns nothing.\n",
    "\n",
    "    __delete__ controls a delete operation. Returns nothing.\n",
    "\n",
    "    ```\n",
    "### <font color=\"grey\">When descriptors are needed ?</font>\n",
    "    * Consider an email attribute. Verification of the correct email format is necessary before assigning a value to that attribute. This descriptor allows email to be processed through a regular expression and its format validated before assigning it to an attribute.\n",
    "    * In many other cases, Python protocol descriptors control access to attributes, such as protection of the name attribute."
   ]
  },
  {
   "cell_type": "markdown",
   "metadata": {},
   "source": [
    "### <font color=\"blue\">Creating descriptors</font>\n",
    "* We can create a descriptor a number of ways:\n",
    "    1. Create a class and override any of the descriptor methods: `__set__, __ get__, and __delete__`. This method is used when the same descriptor is needed across many different classes and attributes, for example, for type validation.\n",
    "    2. Use a property type which is a simpler and more flexible way to create a descriptor.\n",
    "    3. Use the power of property decorators which are a combination of property type method and Python decorators.\n",
    " "
   ]
  },
  {
   "cell_type": "code",
   "execution_count": 24,
   "metadata": {},
   "outputs": [
    {
     "name": "stdout",
     "output_type": "stream",
     "text": [
      "Getting:  <__main__.Person object at 0x00000052D9823C40> <class '__main__.Person'>\n",
      "\n",
      "Setting: Rahul\n",
      "Getting: Rahul <__main__.Person object at 0x00000052D9823C40> <class '__main__.Person'>\n",
      "Rahul\n",
      "Setting: Ram\n",
      "Getting: Ram <__main__.Person object at 0x00000052D9823C40> <class '__main__.Person'>\n",
      "Ram\n",
      "Getting: Ram <__main__.Person object at 0x00000052D9823C40> <class '__main__.Person'>\n",
      "True\n",
      "Deleting: Ram\n",
      "False\n"
     ]
    }
   ],
   "source": [
    "# Creating descriptors using class methods\n",
    "\n",
    "class DescriptorClass(object):\n",
    "    def __init__(self):\n",
    "        self.__name = ''\n",
    "\n",
    "    def __get__(self, instance, owner):\n",
    "        print(\"Getting:\", self.__name, instance, owner)\n",
    "        return self.__name\n",
    "\n",
    "    def __set__(self, instance, name):\n",
    "        self.__name = name.title()  # check\n",
    "        print(\"Setting: %s\" % self.__name)\n",
    "\n",
    "    def __delete__(self, instance):\n",
    "        print(\"Deleting: %s\" %self.__name)\n",
    "        del self.__name\n",
    "\n",
    "        \n",
    "class Person(object):\n",
    "    fname = DescriptorClass()\n",
    "\n",
    "    \n",
    "user = Person()\n",
    "print(user.fname)\n",
    "\n",
    "user.fname = \"rahul\"\n",
    "print(user.fname)\n",
    "\n",
    "user.fname = \"ram\"\n",
    "print(user.fname)\n",
    "\n",
    "print(hasattr(user,\"fname\"))\n",
    "del user.fname\n",
    "print(hasattr(user,\"fname\"))\n",
    "# print(user.fname) # this raise an AttributeError"
   ]
  },
  {
   "cell_type": "code",
   "execution_count": 25,
   "metadata": {
    "scrolled": true
   },
   "outputs": [
    {
     "name": "stdout",
     "output_type": "stream",
     "text": [
      "Help on class property in module builtins:\n",
      "\n",
      "class property(object)\n",
      " |  property(fget=None, fset=None, fdel=None, doc=None)\n",
      " |  \n",
      " |  Property attribute.\n",
      " |  \n",
      " |    fget\n",
      " |      function to be used for getting an attribute value\n",
      " |    fset\n",
      " |      function to be used for setting an attribute value\n",
      " |    fdel\n",
      " |      function to be used for del'ing an attribute\n",
      " |    doc\n",
      " |      docstring\n",
      " |  \n",
      " |  Typical use is to define a managed attribute x:\n",
      " |  \n",
      " |  class C(object):\n",
      " |      def getx(self): return self._x\n",
      " |      def setx(self, value): self._x = value\n",
      " |      def delx(self): del self._x\n",
      " |      x = property(getx, setx, delx, \"I'm the 'x' property.\")\n",
      " |  \n",
      " |  Decorators make defining new properties or modifying existing ones easy:\n",
      " |  \n",
      " |  class C(object):\n",
      " |      @property\n",
      " |      def x(self):\n",
      " |          \"I am the 'x' property.\"\n",
      " |          return self._x\n",
      " |      @x.setter\n",
      " |      def x(self, value):\n",
      " |          self._x = value\n",
      " |      @x.deleter\n",
      " |      def x(self):\n",
      " |          del self._x\n",
      " |  \n",
      " |  Methods defined here:\n",
      " |  \n",
      " |  __delete__(self, instance, /)\n",
      " |      Delete an attribute of instance.\n",
      " |  \n",
      " |  __get__(self, instance, owner, /)\n",
      " |      Return an attribute of instance, which is of type owner.\n",
      " |  \n",
      " |  __getattribute__(self, name, /)\n",
      " |      Return getattr(self, name).\n",
      " |  \n",
      " |  __init__(self, /, *args, **kwargs)\n",
      " |      Initialize self.  See help(type(self)) for accurate signature.\n",
      " |  \n",
      " |  __set__(self, instance, value, /)\n",
      " |      Set an attribute of instance to value.\n",
      " |  \n",
      " |  __set_name__(...)\n",
      " |      Method to set name of a property.\n",
      " |  \n",
      " |  deleter(...)\n",
      " |      Descriptor to obtain a copy of the property with a different deleter.\n",
      " |  \n",
      " |  getter(...)\n",
      " |      Descriptor to obtain a copy of the property with a different getter.\n",
      " |  \n",
      " |  setter(...)\n",
      " |      Descriptor to obtain a copy of the property with a different setter.\n",
      " |  \n",
      " |  ----------------------------------------------------------------------\n",
      " |  Static methods defined here:\n",
      " |  \n",
      " |  __new__(*args, **kwargs) from builtins.type\n",
      " |      Create and return a new object.  See help(type) for accurate signature.\n",
      " |  \n",
      " |  ----------------------------------------------------------------------\n",
      " |  Data descriptors defined here:\n",
      " |  \n",
      " |  __isabstractmethod__\n",
      " |  \n",
      " |  fdel\n",
      " |  \n",
      " |  fget\n",
      " |  \n",
      " |  fset\n",
      "\n"
     ]
    }
   ],
   "source": [
    "help(property)"
   ]
  },
  {
   "cell_type": "code",
   "execution_count": 26,
   "metadata": {},
   "outputs": [
    {
     "name": "stdout",
     "output_type": "stream",
     "text": [
      "Setting... Rahul\n",
      "Getting... Rahul\n",
      "Rahul\n",
      "Getting... Rahul\n",
      "True\n",
      "False\n"
     ]
    }
   ],
   "source": [
    "# Creating descriptors using property type\n",
    "\n",
    "class Person(object):\n",
    "    def __init__(self):\n",
    "        self.__name = \"\"\n",
    "    \n",
    "    def fget(self):\n",
    "        print(\"Getting...\", self.__name)\n",
    "        return self.__name\n",
    "    \n",
    "    def fset(self, val):\n",
    "        self.__name = val.title()\n",
    "        print(\"Setting...\", self.__name)\n",
    "    \n",
    "    def fdel(self):\n",
    "        del self.__name\n",
    "    \n",
    "    fname = property(fget, fset, fdel, \"I'm a doc string\")\n",
    "\n",
    "    \n",
    "# main\n",
    "user = Person()\n",
    "\n",
    "user.fname = \"rahul\"\n",
    "print(user.fname)\n",
    "\n",
    "print(hasattr(user,\"fname\"))\n",
    "del user.fname\n",
    "print(hasattr(user,\"fname\"))"
   ]
  },
  {
   "cell_type": "code",
   "execution_count": 27,
   "metadata": {
    "scrolled": true
   },
   "outputs": [
    {
     "name": "stdout",
     "output_type": "stream",
     "text": [
      "Rahul\n",
      "True\n",
      "False\n"
     ]
    }
   ],
   "source": [
    "# Creating descriptors using property decorators\n",
    "\n",
    "class Person(object):\n",
    "    def __init__(self):\n",
    "        self.__name = \"\"\n",
    "    \n",
    "    @property\n",
    "    def fname(self):\n",
    "        return self.__name\n",
    "    \n",
    "    @fname.setter\n",
    "    def fname(self, value):\n",
    "        self.__name = value.title()\n",
    "    \n",
    "    @fname.deleter\n",
    "    def fname(self):\n",
    "        del self.__name\n",
    "\n",
    "# main\n",
    "user = Person()\n",
    "\n",
    "user.fname = \"rahul\"\n",
    "print(user.fname)\n",
    "\n",
    "print(hasattr(user,\"fname\"))\n",
    "del user.fname\n",
    "print(hasattr(user,\"fname\"))"
   ]
  },
  {
   "cell_type": "markdown",
   "metadata": {},
   "source": [
    "## <font color=\"#fa9009\">@lru_cache (also called memoize)</font>\n",
    "* LRU (Least Recently Used) caching technique which stores most recently used objects and evicts (remove) least recently used one.\n",
    "* Module: **from functools import lru_cache**\n",
    "* Used in memoization techniques (<a href=\"https://en.wikipedia.org/wiki/Memoization\"> Memoization Link </a>)\n",
    "* Refer below example, to note the time difference for factorial(10) and factorial(15).\n",
    "* In below example factorial(15) is not calculated once again from scratch, but the results from factorial(10) is used."
   ]
  },
  {
   "cell_type": "code",
   "execution_count": 28,
   "metadata": {},
   "outputs": [],
   "source": [
    "from functools import lru_cache\n",
    "\n",
    "@lru_cache\n",
    "def factorial(n):\n",
    "    if n == 0 or n == 1: return 1\n",
    "    else: return n * factorial(n-1)"
   ]
  },
  {
   "cell_type": "code",
   "execution_count": 29,
   "metadata": {},
   "outputs": [
    {
     "name": "stdout",
     "output_type": "stream",
     "text": [
      "169 ns ± 24.2 ns per loop (mean ± std. dev. of 7 runs, 10,000,000 loops each)\n"
     ]
    }
   ],
   "source": [
    "%timeit factorial(10)"
   ]
  },
  {
   "cell_type": "code",
   "execution_count": 30,
   "metadata": {},
   "outputs": [
    {
     "name": "stdout",
     "output_type": "stream",
     "text": [
      "165 ns ± 25.8 ns per loop (mean ± std. dev. of 7 runs, 10,000,000 loops each)\n"
     ]
    }
   ],
   "source": [
    "%timeit factorial(15)"
   ]
  },
  {
   "cell_type": "markdown",
   "metadata": {},
   "source": [
    "## <font color=\"#fa9009\">Inheritance</font>\n",
    "\n",
    "* In Python, every class uses inheritance and is inherited from object by default.\n",
    "* Hence, the below two definitions of MySubClass are same.\n",
    "* Definition 1\n",
    "```\n",
    "class MySubClass:   \n",
    "   pass\n",
    "```\n",
    "* Definition 2\n",
    "```\n",
    "class MySubClass(object):   \n",
    "    pass  \n",
    "```                  \n",
    "* object is known as parent or super class.\n",
    "* MySubClass is known as child or subclass or derived class.\n",
    "* Inheritance feature can be also used to extend the built-in classes like list or dict."
   ]
  },
  {
   "cell_type": "code",
   "execution_count": 31,
   "metadata": {},
   "outputs": [
    {
     "name": "stdout",
     "output_type": "stream",
     "text": [
      "George - smith\n",
      "Jack - 456342\n",
      "John - 123656\n",
      "['George']\n"
     ]
    }
   ],
   "source": [
    "class Person:\n",
    "    def __init__(self, fname, lname):\n",
    "        self.fname = fname\n",
    "        self.lname = lname\n",
    "\n",
    "class EmployeesList(list):\n",
    "    def search(self, name):\n",
    "        matching_employees = []\n",
    "        for employee in Employee.all_employees:\n",
    "            if name in employee.fname:\n",
    "                matching_employees.append(employee.fname)\n",
    "        return matching_employees\n",
    "    \n",
    "class Employee(Person):\n",
    "    all_employees = EmployeesList()\n",
    "    def __init__(self, fname, lname, empid):\n",
    "        Person.__init__(self, fname, lname)\n",
    "        self.empid = empid\n",
    "        Employee.all_employees.append(self)\n",
    "\n",
    "#main\n",
    "p1 = Person('George', 'smith')\n",
    "print(p1.fname, '-', p1.lname)\n",
    "e1 = Employee('Jack', 'simmons', 456342)\n",
    "e2 = Employee('John', 'williams', 123656)\n",
    "e3 = Employee('George', 'Brown', 656721)\n",
    "print(e1.fname, '-', e1.empid)\n",
    "print(e2.fname, '-', e2.empid)\n",
    "print(Employee.all_employees.search('or'))"
   ]
  },
  {
   "cell_type": "markdown",
   "metadata": {},
   "source": [
    "## <font color=\"#fa9009\">Abstraction</font>\n",
    "\n",
    "* Abstraction means working with something you know how to use without knowing how it works internally.\n",
    "* Making data members private and using getters & setters to access them, is an implementation of abstraction.\n",
    "* Direct access to data can be restricted by making required attributes or methods private, just by prefixing it's name with one or two underscores.\n",
    "* An attribute or a method starting with:\n",
    "    * no underscores is a public one.\n",
    "    * a single underscore is private, however, still accessible from outside.\n",
    "    * double underscores is strongly private and not accessible from outside.\n",
    "* empid attribute of Employee class is made private and is accessible outside the class only using the method getEmpid.\n",
    "```\n",
    "class Employee(Person):\n",
    "    all_employees = EmployeesList()\n",
    "    def __init__(self, fname, lname, empid):\n",
    "        Person.__init__(self, fname, lname)\n",
    "        self.__empid = empid\n",
    "        Employee.all_employees.append(self)\n",
    "    def getEmpid(self):\n",
    "        return self.__empid\n",
    "```\n",
    "```\n",
    "e1 = Employee('Jack', 'simmons', 456342)\n",
    "print(e1.fname, e1.lname)\n",
    "print(e1.getEmpid())\n",
    "print(e1.__empid)\n",
    "```\n",
    "```\n",
    "Output:\n",
    "Jack simmons\n",
    "456342\n",
    "AttributeError: Employee instance has no attribute '__empid'\n",
    "```"
   ]
  },
  {
   "cell_type": "markdown",
   "metadata": {},
   "source": [
    "## <font color=\"#fa9009\">packages & modules</font>\n",
    "\n",
    "* A package is a collection of modules present in a folder. The name of the package is the name of the folder itself. A package generally contains an empty file named `__init__.py` in the same folder, which is required to treat the folder as a package. "
   ]
  },
  {
   "cell_type": "markdown",
   "metadata": {},
   "source": [
    "## <font color=\"#fe7401\">`operator` module</font>\n",
    "* The operator module exports a set of efficient functions corresponding to the intrinsic operators of Python. \n",
    "* For example, `operator.add(x, y)` is equivalent to the expression x+y.\n",
    "* Can be used to convert a string-type expression into real expression."
   ]
  },
  {
   "cell_type": "code",
   "execution_count": 32,
   "metadata": {},
   "outputs": [
    {
     "name": "stdout",
     "output_type": "stream",
     "text": [
      "Expression: ['2', '+', '5']\n",
      "2 + 5 = 7\n"
     ]
    }
   ],
   "source": [
    "import operator\n",
    "\n",
    "def exprEval(exp):\n",
    "    # hash-table for operators\n",
    "    ops = {\n",
    "        '+': operator.add,\n",
    "        '-': operator.sub,\n",
    "        '*': operator.mul,\n",
    "        '/': operator.truediv\n",
    "    }\n",
    "    \n",
    "    tok = exp.split(' ')\n",
    "    print(\"Expression:\", tok)\n",
    "    \n",
    "    operand1 = int(tok[0])\n",
    "    operand2 = int(tok[2])\n",
    "    optr = tok[1]\n",
    "    \n",
    "    return ops[optr](int(tok[0]), int(tok[2])) \n",
    "\n",
    "\n",
    "\n",
    "# main\n",
    "exp = \"2 + 5\"\n",
    "print(exp, \"=\", exprEval(exp))"
   ]
  },
  {
   "cell_type": "markdown",
   "metadata": {},
   "source": [
    "## <font color=\"blue\">Why -1 % 10  gives 9 ? </font>\n",
    "\n",
    "Because :- <br>\n",
    "```\n",
    "       _________\n",
    "    10 ) -1    ( -1     # -1 x 10 => -10\n",
    "      - (-10)\n",
    "      ----------\n",
    "          9         #because: -1 - (-10) = -1 + 10 = 9\n",
    "```\n",
    "**mod(remainder) trick**"
   ]
  },
  {
   "cell_type": "code",
   "execution_count": 33,
   "metadata": {},
   "outputs": [
    {
     "name": "stdout",
     "output_type": "stream",
     "text": [
      "res = 9\n",
      "res = ?\n"
     ]
    }
   ],
   "source": [
    "# Why ?\n",
    "res = -1 % 10 \n",
    "print('res =', res)\n",
    "\n",
    "# Now guess what ?\n",
    "res = -4 % 10\n",
    "print('res = ?')"
   ]
  }
 ],
 "metadata": {
  "kernelspec": {
   "display_name": "Python 3 (ipykernel)",
   "language": "python",
   "name": "python3"
  },
  "language_info": {
   "codemirror_mode": {
    "name": "ipython",
    "version": 3
   },
   "file_extension": ".py",
   "mimetype": "text/x-python",
   "name": "python",
   "nbconvert_exporter": "python",
   "pygments_lexer": "ipython3",
   "version": "3.10.5"
  }
 },
 "nbformat": 4,
 "nbformat_minor": 4
}
