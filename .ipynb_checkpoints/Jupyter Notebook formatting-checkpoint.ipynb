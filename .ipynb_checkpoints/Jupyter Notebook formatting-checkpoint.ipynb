{
 "cells": [
  {
   "cell_type": "markdown",
   "metadata": {},
   "source": [
    "# <font color=\"Orange\">Jupyter Notebook formatting guide</font>\n",
    "\n",
    "<a id=\"linkhandle\"></a>\n",
    "\n",
    "`<br>` to insert line break <br>\n",
    "\n",
    "__This text to appear in bold__ <br>\n",
    "\n",
    "_This text to appear in Italics_ <br>\n",
    "\n",
    "# Heading 1 \n",
    "## Heading 2\n",
    "### Heading 3\n",
    "#### Heading 4\n",
    "##### Heading 5\n",
    "###### Heading 6\n",
    "\n",
    "<font color='red'>The text to be show in red</font>\n",
    "\n",
    "*** \n",
    "Horizontal Separator applied above <br>\n",
    "\n",
    "**Lists**:\n",
    "1. Cake receipe\n",
    "    * flour\n",
    "        * gram flour\n",
    "        * wheat flour\n",
    "    * sugar\n",
    "    * milk\n",
    "2. Milk shake\n",
    "    * milk\n",
    "    * mango pulp\n",
    "    * sugar\n",
    "    \n",
    "Mathematical symbols displayed using dollar symbol <br>\n",
    "$x = x + y / z^2 $ <br>\n",
    "$x_{2} - x^{299}$<br>\n",
    "\n",
    "External links using square brakets:<br>\n",
    "[https://medium.com/analytics-vidhya/the-jupyter-notebook-formatting-guide-873ab39f765e] <br>\n",
    "\n",
    "Inner links using `[text to appear as link](#linkhandle)`\n",
    "[jumpToTop](#linkhandle)\n",
    "<br>\n",
    "\n",
    "To embedd any ifames write below code to code tab <br>\n",
    "`from IPython.display import IFrame \n",
    "IFrame('http://xyz.com', width = 800, height = 450)`\n",
    "<br>\n",
    "\n",
    "__Notebook themes:__<br>\n",
    "First, you have to install the themes executing a simple command in a code cell.<br>\n",
    "`!pip install jupyterthemes`<br>\n",
    "Once installed, you can use the following command to see a list of all themes available to choose.<br>\n",
    "`!jt -l`<br>\n",
    "You can apply any theme using the following command. <br>\n",
    "`!jt -t <name of theme>`<br>\n",
    "Example: `!jt -t chesterish`<br>\n",
    "To reset the default theme\n",
    "`!jt -r`\n",
    "> This is indented text <br>\n",
    "\n"
   ]
  },
  {
   "cell_type": "code",
   "execution_count": 6,
   "metadata": {
    "collapsed": true
   },
   "outputs": [
    {
     "name": "stdout",
     "output_type": "stream",
     "text": [
      "Available Themes: \r\n",
      "   chesterish\r\n",
      "   grade3\r\n",
      "   gruvboxd\r\n",
      "   gruvboxl\r\n",
      "   monokai\r\n",
      "   oceans16\r\n",
      "   onedork\r\n",
      "   solarizedd\r\n",
      "   solarizedl\r\n"
     ]
    }
   ],
   "source": [
    "!jt -l\n"
   ]
  }
 ],
 "metadata": {
  "kernelspec": {
   "display_name": "Python 3",
   "language": "python",
   "name": "python3"
  },
  "language_info": {
   "codemirror_mode": {
    "name": "ipython",
    "version": 3
   },
   "file_extension": ".py",
   "mimetype": "text/x-python",
   "name": "python",
   "nbconvert_exporter": "python",
   "pygments_lexer": "ipython3",
   "version": "3.8.10"
  }
 },
 "nbformat": 4,
 "nbformat_minor": 4
}
