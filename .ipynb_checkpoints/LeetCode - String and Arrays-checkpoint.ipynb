{
 "cells": [
  {
   "cell_type": "markdown",
   "metadata": {},
   "source": [
    "# Two Sum II - Input array is sorted\n",
    "Given an array of integers numbers that is already sorted in non-decreasing order, find two numbers \n",
    "such that they add up to a specific target number.\n",
    "\n",
    "Return the indices of the two numbers (1-indexed) as an integer array answer of size 2, \n",
    "where 1 <= answer[0] < answer[1] <= numbers.length.\n",
    "\n",
    "The tests are generated such that there is exactly one solution. You may not use the same element twice.\n",
    "\n",
    "Example 1:\n",
    "Input: numbers = [2,7,11,15], target = 9\n",
    "Output: [1,2]\n",
    "Explanation: The sum of 2 and 7 is 9. Therefore index1 = 1, index2 = 2.\n",
    "\n",
    "Example 2:\n",
    "Input: numbers = [2,3,4], target = 6\n",
    "Output: [1,3]\n",
    "\n",
    "Example 3:\n",
    "Input: numbers = [-1,0], target = -1\n",
    "Output: [1,2]\n",
    " \n",
    "Constraints:\n",
    "2 <= numbers.length <= 3 * 104\n",
    "-1000 <= numbers[i] <= 1000\n",
    "numbers is sorted in non-decreasing order.\n",
    "-1000 <= target <= 1000\n",
    "The tests are generated such that there is exactly one solution.\n"
   ]
  },
  {
   "cell_type": "code",
   "execution_count": 11,
   "metadata": {},
   "outputs": [
    {
     "name": "stdout",
     "output_type": "stream",
     "text": [
      "[4, 8]\n"
     ]
    }
   ],
   "source": [
    "def twoSum(numbers, target):\n",
    "    num_len = len(numbers)\n",
    "    i, j = 0, num_len-1\n",
    "    sum_ = 0\n",
    "    \n",
    "    while i < j:\n",
    "            sum_ = numbers[i] + numbers[j]\n",
    "            if sum_ > target:\n",
    "                j -= 1\n",
    "            elif sum_ < target:\n",
    "                i += 1\n",
    "            else:\n",
    "                return [i+1, j+1]\n",
    "\n",
    "#using two pointer technique\n",
    "lst = [0, 0 , 0, 5, 5, 6, 9, 9, 18, 27]\n",
    "trg = 14\n",
    "print(twoSum(lst, trg))"
   ]
  },
  {
   "cell_type": "markdown",
   "metadata": {},
   "source": [
    "# Remove element\n",
    "Given an integer array nums and an integer val, remove all occurrences of val in nums in-place. The relative \n",
    "order of the elements may be changed.\n",
    "\n",
    "Since it is impossible to change the length of the array in some languages, you must instead have the result \n",
    "be placed in the first part of the array nums. More formally, if there are k elements after removing the \n",
    "duplicates, then the first k elements of nums should hold the final result. It does not matter what you leave \n",
    "beyond the first k elements.\n",
    "\n",
    "Return k after placing the final result in the first k slots of nums.\n",
    "\n",
    "Do not allocate extra space for another array. You must do this by modifying the input array in-place with \n",
    "O(1) extra memory.\n",
    "\n",
    "Example 1:\n",
    "\n",
    "Input: nums = [3,2,2,3], val = 3\n",
    "Output: 2, nums = [2,2,_,_]\n",
    "Explanation: Your function should return k = 2, with the first two elements of nums being 2.\n",
    "It does not matter what you leave beyond the returned k (hence they are underscores).\n",
    "\n",
    "Example 2:\n",
    "Input: nums = [0,1,2,2,3,0,4,2], val = 2\n",
    "Output: 5, nums = [0,1,4,0,3,_,_,_]\n",
    "Explanation: Your function should return k = 5, with the first five elements of nums containing 0, 0, 1, 3, \n",
    "and 4.\n",
    "Note that the five elements can be returned in any order.\n",
    "It does not matter what you leave beyond the returned k (hence they are underscores)."
   ]
  },
  {
   "cell_type": "code",
   "execution_count": 14,
   "metadata": {},
   "outputs": [
    {
     "name": "stdout",
     "output_type": "stream",
     "text": [
      "5\n"
     ]
    }
   ],
   "source": [
    "def removeElement(nums, val):\n",
    "    nums_len = len(nums)\n",
    "    k = 0\n",
    "    \n",
    "    for i in range(nums_len):\n",
    "        if nums[i] != val:\n",
    "            nums[k] = nums[i]\n",
    "            k += 1\n",
    "    return k\n",
    "\n",
    "# using two pointer technique\n",
    "nums = [0,1,2,2,3,0,4,2]\n",
    "val = 2\n",
    "print(removeElement(nums, val))"
   ]
  },
  {
   "cell_type": "markdown",
   "metadata": {},
   "source": [
    "# Max consecutive ones\n",
    "Given a binary array nums, return the maximum number of consecutive 1's in the array.\n",
    "\n",
    "Example 1:\n",
    "Input: nums = [1,1,0,1,1,1]\n",
    "Output: 3\n",
    "Explanation: The first two digits or the last three digits are consecutive 1s. The maximum number of \n",
    "consecutive 1s is 3.\n",
    "\n",
    "Example 2:\n",
    "Input: nums = [1,0,1,1,0,1]\n",
    "Output: 2\n",
    " \n",
    "Constraints:\n",
    "1 <= nums.length <= 10^5\n",
    "nums[i] is either 0 or 1."
   ]
  },
  {
   "cell_type": "code",
   "execution_count": 23,
   "metadata": {},
   "outputs": [
    {
     "name": "stdout",
     "output_type": "stream",
     "text": [
      "3\n"
     ]
    }
   ],
   "source": [
    "def findMaxConsecutiveOnes(nums):\n",
    "    k, max_one_found = 0, 0\n",
    "    \n",
    "    for i in range(len(nums)):\n",
    "        if nums[i]:\n",
    "            pointer_one = True\n",
    "            k += 1\n",
    "        if nums[i] == 0:\n",
    "            if max_one_found < k:\n",
    "                max_one_found = k\n",
    "            k = 0\n",
    "    if k > max_one_found:\n",
    "        max_one_found = k\n",
    "    return max_one_found\n",
    "\n",
    "\n",
    "#main\n",
    "nums = [0,1,1,0,0,1,0,1,1,1,0]\n",
    "print(findMaxConsecutiveOnes(nums))"
   ]
  },
  {
   "cell_type": "markdown",
   "metadata": {},
   "source": [
    "# Minimum Size Subarray Sum\n",
    "Given an array of positive integers nums and a positive integer target, return the minimal length of a contiguous subarray [numsl, numsl+1, ..., numsr-1, numsr] of which the sum is greater than or equal to target. If there is no such subarray, return 0 instead.\n",
    "\n",
    "Example 1:\n",
    "Input: target = 7, nums = [2,3,1,2,4,3]\n",
    "Output: 2\n",
    "Explanation: The subarray [4,3] has the minimal length under the problem constraint.\n",
    "\n",
    "Example 2:\n",
    "Input: target = 4, nums = [1,4,4]\n",
    "Output: 1\n",
    "\n",
    "Example 3:\n",
    "Input: target = 11, nums = [1,1,1,1,1,1,1,1]\n",
    "Output: 0\n",
    " \n",
    "Constraints:\n",
    "1 <= target <= 10^9\n",
    "1 <= nums.length <= 10^5\n",
    "1 <= nums[i] <= 10^5\n",
    " \n",
    "Follow up: If you have figured out the O(n) solution, try coding another solution of which the time complexity is O(n log(n))."
   ]
  },
  {
   "cell_type": "code",
   "execution_count": 36,
   "metadata": {},
   "outputs": [
    {
     "name": "stdout",
     "output_type": "stream",
     "text": [
      "2\n"
     ]
    }
   ],
   "source": [
    "\"\"\"\n",
    "We could easily find the sum in O(1) time by storing the cumulative sum from the beginning(Memoization). \n",
    "After we have stored the cumulative sum in sums, we could easily find the sum of any subarray \n",
    "from i to j.\n",
    "\"\"\"\n",
    "def minSubArrayLenON2(target, nums):\n",
    "    len_ = len(nums)\n",
    "    sums = []\n",
    "    min_sub_seq = len_ + 999\n",
    "    \n",
    "    for ele in nums:      # this is memoization\n",
    "        if len(sums):\n",
    "            sums.append(sums[-1] + ele)\n",
    "        else:\n",
    "            sums.append(nums[0])\n",
    "    \n",
    "    for i in range(0, len_):\n",
    "        for j in range(i, len_):\n",
    "            if (sums[j] - sums[i] + nums[i]) >= target:\n",
    "                min_sub_seq = min(min_sub_seq, j - i + 1)\n",
    "                break\n",
    "    return min_sub_seq if min_sub_seq != len_ + 999 else 0\n",
    "   # Time complexity of O(n^2) : in Python it's going to exceed\n",
    "\n",
    "\n",
    "# main\n",
    "target = 8\n",
    "nums = [1, 4, 4]\n",
    "print(minSubArrayLenON2(target, nums))"
   ]
  },
  {
   "cell_type": "code",
   "execution_count": null,
   "metadata": {},
   "outputs": [],
   "source": []
  }
 ],
 "metadata": {
  "kernelspec": {
   "display_name": "Python 3",
   "language": "python",
   "name": "python3"
  },
  "language_info": {
   "codemirror_mode": {
    "name": "ipython",
    "version": 3
   },
   "file_extension": ".py",
   "mimetype": "text/x-python",
   "name": "python",
   "nbconvert_exporter": "python",
   "pygments_lexer": "ipython3",
   "version": "3.8.10"
  }
 },
 "nbformat": 4,
 "nbformat_minor": 4
}
