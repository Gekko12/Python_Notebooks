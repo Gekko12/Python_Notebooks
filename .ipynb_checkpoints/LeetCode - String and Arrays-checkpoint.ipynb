{
 "cells": [
  {
   "cell_type": "markdown",
   "metadata": {},
   "source": [
    "# <font color=\"hotpink\">*Strings and Arrays* </font> "
   ]
  },
  {
   "cell_type": "markdown",
   "metadata": {},
   "source": [
    "# Two Sum II - Input array is sorted\n",
    "Given an array of integers numbers that is already sorted in non-decreasing order, find two numbers \n",
    "such that they add up to a specific target number.\n",
    "\n",
    "Return the indices of the two numbers (1-indexed) as an integer array answer of size 2, \n",
    "where 1 <= answer[0] < answer[1] <= numbers.length.\n",
    "\n",
    "The tests are generated such that there is exactly one solution. You may not use the same element twice.\n",
    "\n",
    "_Example 1:_ <br>\n",
    "Input: numbers = [2,7,11,15], target = 9 <br>\n",
    "Output: [1,2] <br>\n",
    "Explanation: The sum of 2 and 7 is 9. Therefore index1 = 1, index2 = 2. <br>\n",
    "\n",
    "_Example 2:_ <br>\n",
    "Input: numbers = [2,3,4], target = 6 <br>\n",
    "Output: [1,3] <br>\n",
    "\n",
    "_Example 3:_ <br>\n",
    "Input: numbers = [-1,0], target = -1 <br>\n",
    "Output: [1,2] <br>\n",
    " \n",
    "Constraints:\n",
    "* 2 <= numbers.length <= 3 * 10^4\n",
    "* -1000 <= numbers[i] <= 1000\n",
    "* numbers is sorted in non-decreasing order.\n",
    "* -1000 <= target <= 1000\n",
    "The tests are generated such that there is exactly one solution.\n"
   ]
  },
  {
   "cell_type": "code",
   "execution_count": 11,
   "metadata": {},
   "outputs": [
    {
     "name": "stdout",
     "output_type": "stream",
     "text": [
      "[4, 8]\n"
     ]
    }
   ],
   "source": [
    "def twoSum(numbers, target):\n",
    "    num_len = len(numbers)\n",
    "    i, j = 0, num_len-1\n",
    "    sum_ = 0\n",
    "    \n",
    "    while i < j:\n",
    "            sum_ = numbers[i] + numbers[j]\n",
    "            if sum_ > target:\n",
    "                j -= 1\n",
    "            elif sum_ < target:\n",
    "                i += 1\n",
    "            else:\n",
    "                return [i+1, j+1]\n",
    "\n",
    "#using two pointer technique\n",
    "lst = [0, 0 , 0, 5, 5, 6, 9, 9, 18, 27]\n",
    "trg = 14\n",
    "print(twoSum(lst, trg))"
   ]
  },
  {
   "cell_type": "markdown",
   "metadata": {},
   "source": [
    "# Remove element\n",
    "Given an integer array nums and an integer val, remove all occurrences of val in nums in-place. The relative \n",
    "order of the elements may be changed.\n",
    "\n",
    "Since it is impossible to change the length of the array in some languages, you must instead have the result \n",
    "be placed in the first part of the array nums. More formally, if there are k elements after removing the \n",
    "duplicates, then the first k elements of nums should hold the final result. It does not matter what you leave \n",
    "beyond the first k elements.\n",
    "\n",
    "Return k after placing the final result in the first k slots of nums.\n",
    "\n",
    "Do not allocate extra space for another array. You must do this by modifying the input array in-place with \n",
    "O(1) extra memory.\n",
    "\n",
    "_Example 1:_ <br>\n",
    "Input: nums = `[3,2,2,3]`, val = 3 <br>\n",
    "Output: 2, nums = `[2,2,_,_]` <br>\n",
    "Explanation: Your function should return k = 2, with the first two elements of nums being 2.<br>\n",
    "It does not matter what you leave beyond the returned k (hence they are underscores). <br>\n",
    "\n",
    "_Example 2:_ <br>\n",
    "Input: nums = `[0,1,2,2,3,0,4,2]`, val = 2 <br>\n",
    "Output: 5, nums = `[0,1,4,0,3,_,_,_]` <br>\n",
    "Explanation: Your function should return k = 5, with the first five elements of nums containing 0, 0, 1, 3, \n",
    "and 4.<br>\n",
    "Note that the five elements can be returned in any order. <br>\n",
    "It does not matter what you leave beyond the returned k (hence they are underscores)."
   ]
  },
  {
   "cell_type": "code",
   "execution_count": 14,
   "metadata": {},
   "outputs": [
    {
     "name": "stdout",
     "output_type": "stream",
     "text": [
      "5\n"
     ]
    }
   ],
   "source": [
    "def removeElement(nums, val):\n",
    "    nums_len = len(nums)\n",
    "    k = 0\n",
    "    \n",
    "    for i in range(nums_len):\n",
    "        if nums[i] != val:\n",
    "            nums[k] = nums[i]\n",
    "            k += 1\n",
    "    return k\n",
    "\n",
    "# using two pointer technique\n",
    "nums = [0,1,2,2,3,0,4,2]\n",
    "val = 2\n",
    "print(removeElement(nums, val))"
   ]
  },
  {
   "cell_type": "markdown",
   "metadata": {},
   "source": [
    "# Max consecutive ones\n",
    "Given a binary array nums, return the maximum number of consecutive 1's in the array.\n",
    "\n",
    "_Example 1:_ <br>\n",
    "Input: nums = `[1,1,0,1,1,1]` <br>\n",
    "Output: 3 <br>\n",
    "Explanation: The first two digits or the last three digits are consecutive 1s. The maximum number of \n",
    "consecutive 1s is 3.\n",
    "\n",
    "_Example 2:_ <br>\n",
    "Input: nums = `[1,0,1,1,0,1]` <br>\n",
    "Output: 2 \n",
    " \n",
    "_Constraints:_\n",
    "* 1 <= nums.length <= 10^5 <br>\n",
    "* nums[i] is either 0 or 1."
   ]
  },
  {
   "cell_type": "code",
   "execution_count": 23,
   "metadata": {},
   "outputs": [
    {
     "name": "stdout",
     "output_type": "stream",
     "text": [
      "3\n"
     ]
    }
   ],
   "source": [
    "def findMaxConsecutiveOnes(nums):\n",
    "    k, max_one_found = 0, 0\n",
    "    \n",
    "    for i in range(len(nums)):\n",
    "        if nums[i]:\n",
    "            pointer_one = True\n",
    "            k += 1\n",
    "        if nums[i] == 0:\n",
    "            if max_one_found < k:\n",
    "                max_one_found = k\n",
    "            k = 0\n",
    "    if k > max_one_found:\n",
    "        max_one_found = k\n",
    "    return max_one_found\n",
    "\n",
    "\n",
    "#main\n",
    "nums = [0,1,1,0,0,1,0,1,1,1,0]\n",
    "print(findMaxConsecutiveOnes(nums))"
   ]
  },
  {
   "cell_type": "markdown",
   "metadata": {},
   "source": [
    "# Minimum Size Subarray Sum\n",
    "Given an array of positive integers nums and a positive integer target, return the minimal length of a contiguous subarray [numsl, numsl+1, ..., numsr-1, numsr] of which the sum is greater than or equal to target. If there is no such subarray, return 0 instead.\n",
    "\n",
    "_Example 1:_ <br>\n",
    "Input: `target = 7, nums = [2,3,1,2,4,3]` <br>\n",
    "Output: 2 <br>\n",
    "Explanation: The subarray [4,3] has the minimal length under the problem constraint.\n",
    "\n",
    "_Example 2:_ <br>\n",
    "Input: `target = 4, nums = [1,4,4]` <br>\n",
    "Output: 1\n",
    "\n",
    "_Example 3:_ <br>\n",
    "Input: `target = 11, nums = [1,1,1,1,1,1,1,1]` <br>\n",
    "Output: 0\n",
    " \n",
    "_Constraints:_\n",
    "* 1 <= target <= 10^9 \n",
    "* 1 <= nums.length <= 10^5\n",
    "* 1 <= nums[i] <= 10^5\n",
    " \n",
    "Follow up: If you have figured out the O(n) solution, try coding another solution of which the time complexity is O(n log(n))."
   ]
  },
  {
   "cell_type": "code",
   "execution_count": 1,
   "metadata": {},
   "outputs": [
    {
     "name": "stdout",
     "output_type": "stream",
     "text": [
      "2\n"
     ]
    }
   ],
   "source": [
    "\"\"\"\n",
    "We could easily find the sum in O(1) time by storing the cumulative sum from the beginning(Memoization). \n",
    "After we have stored the cumulative sum in sums, we could easily find the sum of any subarray \n",
    "from i to j.\n",
    "\"\"\"\n",
    "def minSubArrayLenON2(target, nums):\n",
    "    len_ = len(nums)\n",
    "    sums = []\n",
    "    min_sub_seq = len_ + 999\n",
    "    \n",
    "    for ele in nums:      # this is memoization\n",
    "        if len(sums):\n",
    "            sums.append(sums[-1] + ele)\n",
    "        else:\n",
    "            sums.append(nums[0])\n",
    "    \n",
    "    for i in range(0, len_):\n",
    "        for j in range(i, len_):\n",
    "            if (sums[j] - sums[i] + nums[i]) >= target:\n",
    "                min_sub_seq = min(min_sub_seq, j - i + 1)\n",
    "                break\n",
    "    return min_sub_seq if min_sub_seq != len_ + 999 else 0\n",
    "   # Time complexity of O(n^2) : in Python it's going to exceed\n",
    "\n",
    "\n",
    "# main\n",
    "target = 8\n",
    "nums = [1, 4, 4]\n",
    "print(minSubArrayLenON2(target, nums))\n"
   ]
  },
  {
   "cell_type": "code",
   "execution_count": 5,
   "metadata": {},
   "outputs": [
    {
     "name": "stdout",
     "output_type": "stream",
     "text": [
      "2\n"
     ]
    }
   ],
   "source": [
    "\"\"\"\n",
    "Time complexity: O(n). \n",
    "Single iteration of O(n).\n",
    "Each element can be visited atmost twice, once by the right pointer(i) and (atmost)once by the left pointer.\n",
    "Space complexity: O(1) extra space. \n",
    "\"\"\"\n",
    "def minSubArrayLenON(target, nums):\n",
    "    len_ = len(nums)\n",
    "    result = len_ + 999\n",
    "    left = 0\n",
    "    var_sum = 0\n",
    "    #this is also a two pointer technique concept\n",
    "    for i in range(len_):\n",
    "        var_sum += nums[i]\n",
    "        \n",
    "        while var_sum >= target:\n",
    "            result = min(result, i - left + 1)\n",
    "            var_sum -= nums[left]\n",
    "            left += 1\n",
    "    \n",
    "    return result if result != len_ + 999 else 0\n",
    "\n",
    "\n",
    "# main\n",
    "target = 7\n",
    "nums = [2,3,1,2,4,3]\n",
    "print(minSubArrayLenON(target, nums))            "
   ]
  },
  {
   "cell_type": "markdown",
   "metadata": {},
   "source": [
    "# Palindrome Number\n",
    "Given an integer x, return true if x is palindrome integer.\n",
    "An integer is a palindrome when it reads the same backward as forward. For example, 121 is palindrome while 123 is not.\n",
    "\n",
    "_Example 1:_ <br>\n",
    "Input: x = 121 <br>\n",
    "Output: true <br>\n",
    "\n",
    "_Example 2:_ <br>\n",
    "Input: x = -121 <br>\n",
    "Output: false <br>\n",
    "Explanation: From left to right, it reads -121. From right to left, it becomes 121-. Therefore it is not a palindrome.\n",
    "\n",
    "_Example 3:_ <br>\n",
    "Input: x = 10 <br>\n",
    "Output: false <br>\n",
    "Explanation: Reads 01 from right to left. Therefore it is not a palindrome.\n",
    "\n",
    "_Example 4:_ <br>\n",
    "Input: x = -101 <br>\n",
    "Output: false <br>\n",
    " \n",
    "_Constraints:_ <br>\n",
    "$-2^{31} <= x <= 2^{31} - 1$\n"
   ]
  },
  {
   "cell_type": "code",
   "execution_count": 6,
   "metadata": {},
   "outputs": [
    {
     "name": "stdout",
     "output_type": "stream",
     "text": [
      "True\n"
     ]
    }
   ],
   "source": [
    "def isPalindrome(x):\n",
    "    if not x:        # as 0 is a palindrome number\n",
    "        return True\n",
    "    elif x % 10 == 0 or x < 0:   # 10 gives 01 which is not palindrome\n",
    "        return False\n",
    "    \n",
    "    rev = 0\n",
    "    num = x\n",
    "    rem = 0\n",
    "    while num > 0:\n",
    "        rem = num % 10\n",
    "        rev = rev * 10 + rem\n",
    "        num //= 10\n",
    "    return rev == x\n",
    "\n",
    "\n",
    "# main\n",
    "x = 101\n",
    "print(isPalindrome(x))"
   ]
  },
  {
   "cell_type": "markdown",
   "metadata": {},
   "source": [
    "# Rotate Array\n",
    "Given an array, rotate the array to the right by k steps, where k is non-negative.\n",
    "\n",
    "_Example 1:_ <br>\n",
    "Input: `nums = [1,2,3,4,5,6,7], k = 3` <br>\n",
    "Output: `[5,6,7,1,2,3,4]` <br>\n",
    "Explanation:<br>\n",
    "rotate 1 steps to the right: `[7,1,2,3,4,5,6]` <br>\n",
    "rotate 2 steps to the right: `[6,7,1,2,3,4,5]` <br>\n",
    "rotate 3 steps to the right: `[5,6,7,1,2,3,4]` <br>\n",
    "\n",
    "_Example 2:_ <br>\n",
    "Input: `nums = [-1,-100,3,99], k = 2` <br>\n",
    "Output: `[3,99,-1,-100]` <br>\n",
    "Explanation: <br>\n",
    "rotate 1 steps to the right: `[99,-1,-100,3]` <br>\n",
    "rotate 2 steps to the right: `[3,99,-1,-100]` <br>\n",
    " \n",
    "_Constraint:_\n",
    "* $1 <= nums.length <= 10^5$\n",
    "* $-2^{31} <= nums[i] <= 2^{31} - 1$\n",
    "* $0 <= k <= 10^5$\n",
    " \n",
    "_Follow up:_ <br>\n",
    "Try to come up with as many solutions as you can. There are at least three different ways to solve this problem. <br>\n",
    "Could you do it in-place with O(1) extra space?"
   ]
  },
  {
   "cell_type": "code",
   "execution_count": 26,
   "metadata": {},
   "outputs": [
    {
     "name": "stdout",
     "output_type": "stream",
     "text": [
      "k -> 2 [4, 5, 1, 2, 3]\n"
     ]
    }
   ],
   "source": [
    "def rotateNotInplace(nums, k):\n",
    "        \"\"\"\n",
    "        :type nums: List[int]\n",
    "        :type k: int\n",
    "        \"\"\"\n",
    "        len_ = len(nums)\n",
    "        k = k % len_\n",
    "        if not k:\n",
    "            return nums\n",
    "        return nums[-k:] + nums[0:len_-k]\n",
    "\n",
    "    \n",
    "def rotate(nums, k):\n",
    "    \"\"\"\n",
    "        :type nums: List[int]\n",
    "        :type k: int\n",
    "        :rtype: None Do not return anything, modify nums in-place instead.\n",
    "    \"\"\"\n",
    "    len_ = len(nums)\n",
    "    k = k % len_\n",
    "    if not k:\n",
    "        return nums\n",
    "    temp = nums[-k:] + nums[0:len_-k]\n",
    "    for i in range(len_):\n",
    "        nums[i] = temp[i]\n",
    "    #but this is not so effective we're using extra memory\n",
    "    \n",
    "    \n",
    "\n",
    "#main\n",
    "nums = [1,2,3,4,5]\n",
    "k = 2\n",
    "rotate(nums, k)\n",
    "print('k ->', k, nums)"
   ]
  },
  {
   "cell_type": "markdown",
   "metadata": {},
   "source": [
    "# Pascal Triangle\n",
    "Given an integer rowIndex, return the rowIndexth (0-indexed) row of the Pascal's triangle.\n",
    "\n",
    "_Example 1:_ <br>\n",
    "Input: rowIndex = 3 <br>\n",
    "Output: [1,3,3,1] <br>\n",
    "\n",
    "_Example 2:_ <br>\n",
    "Input: rowIndex = 0 <br>\n",
    "Output: [1] <br>\n",
    "\n",
    "_Example 3:_ <br>\n",
    "Input: rowIndex = 1 <br>\n",
    "Output: [1,1] <br>\n",
    " \n",
    "_Constraints:_ <br>\n",
    "0 <= rowIndex <= 33 <br>\n",
    " \n",
    "Follow up: Could you optimize your algorithm to use only O(rowIndex) extra space?"
   ]
  },
  {
   "cell_type": "code",
   "execution_count": 65,
   "metadata": {},
   "outputs": [
    {
     "name": "stdout",
     "output_type": "stream",
     "text": [
      "[1, 3, 3, 1]\n"
     ]
    }
   ],
   "source": [
    "def getRow(rowIndex):\n",
    "    \"\"\"\n",
    "    :type rowIndex: int\n",
    "    :rtype: List[int]\n",
    "    \"\"\"\n",
    "    pascal = [[1]]\n",
    "    pascal += [[1, 1] for i in range(rowIndex)]\n",
    "            \n",
    "    for i in range(2, rowIndex+1):\n",
    "        for j in range(len(pascal[i-1])-1):\n",
    "            sum_ = pascal[i-1][j] + pascal[i-1][j+1]\n",
    "            pascal[i].insert(1, sum_)\n",
    "    return pascal[rowIndex]\n",
    "\n",
    "\n",
    "#main\n",
    "print(getRow(3))"
   ]
  },
  {
   "cell_type": "markdown",
   "metadata": {},
   "source": [
    "# Reverse Words in a String III\n",
    "\n",
    "Given a string s, reverse the order of characters in each word within a sentence while still preserving whitespace and initial word order.\n",
    "\n",
    "_Example 1:_ <br>\n",
    "Input: s = \"Let's take LeetCode contest\" <br>\n",
    "Output: \"s'teL ekat edoCteeL tsetnoc\" <br>\n",
    "\n",
    "_Example 2:_ <br>\n",
    "Input: s = \"God Ding\" <br>\n",
    "Output: \"doG gniD\" <br>\n",
    " \n",
    "_Constraints:_\n",
    "* 1 <= s.length <= 5 * $10^4$\n",
    "* s contains printable ASCII characters.\n",
    "* s does not contain any leading or trailing spaces.\n",
    "* There is at least one word in s.\n",
    "* All the words in s are separated by a single space."
   ]
  },
  {
   "cell_type": "code",
   "execution_count": 13,
   "metadata": {},
   "outputs": [
    {
     "name": "stdout",
     "output_type": "stream",
     "text": [
      "ytinamuH si eht emerpuS pihskroW\n"
     ]
    }
   ],
   "source": [
    "def reverseWords(s):\n",
    "    \"\"\"\n",
    "    :type s: str\n",
    "    :rtype: str\n",
    "    \"\"\"\n",
    "    lst = s.strip().split()\n",
    "    for i in range(len(lst)):\n",
    "        lst[i] = ''.join([lst[i][j] for j in range(len(lst[i])-1, -1, -1)])\n",
    "    return ' '.join(lst)\n",
    "        \n",
    "    \n",
    "    \n",
    "#main\n",
    "string = \"Humanity is the Supreme Workship\"\n",
    "print(reverseWords(string))"
   ]
  },
  {
   "cell_type": "markdown",
   "metadata": {},
   "source": [
    "# Remove Duplicates from Sorted Array\n",
    "Given an integer array nums sorted in non-decreasing order, remove the duplicates in-place such that each unique element appears only once. The relative order of the elements should be kept the same.<br>\n",
    "\n",
    "Since it is impossible to change the length of the array in some languages, you must instead have the result be placed in the first part of the array nums. More formally, if there are k elements after removing the duplicates, then the first k elements of nums should hold the final result. It does not matter what you leave beyond the first k elements.<br>\n",
    "\n",
    "Return k after placing the final result in the first k slots of nums. <br>\n",
    "\n",
    "Do not allocate extra space for another array. You must do this by modifying the input array in-place with `O(1)` extra memory. <br>\n",
    "\n",
    "*Example 1:* <br>\n",
    "Input: nums = [1,1,2] <br>\n",
    "Output: 2, nums = [1,2,_] <br>\n",
    "Explanation: Your function should return k = 2, with the first two elements of nums being 1 and 2 respectively.<br>\n",
    "It does not matter what you leave beyond the returned k (hence they are underscores).\n",
    "\n",
    "*Example 2:* <br>\n",
    "Input: nums = [0,0,1,1,1,2,2,3,3,4]<br>\n",
    "Output: 5, nums = [0,1,2,3,4,_,_,_,_,_]<br>\n",
    "Explanation: Your function should return k = 5, with the first five elements of nums being 0, 1, 2, 3, and 4 respectively.<br>\n",
    "It does not matter what you leave beyond the returned k (hence they are underscores).\n",
    " \n",
    "_Constraints:_\n",
    "* 0 <= nums.length <= 3 * 10^4 and \n",
    "* -100 <= nums[i] <= 100 and,\n",
    "* nums is sorted in non-decreasing order."
   ]
  },
  {
   "cell_type": "code",
   "execution_count": 71,
   "metadata": {},
   "outputs": [
    {
     "name": "stdout",
     "output_type": "stream",
     "text": [
      "([1, 1], 1)\n",
      "([0, 1, 2, 3, 3], 4)\n"
     ]
    }
   ],
   "source": [
    "from random import randint\n",
    "\n",
    "\n",
    "def removeDuplicates(nums):\n",
    "    \"\"\"\n",
    "    :type nums: List[int]\n",
    "    :rtype: int\n",
    "    \"\"\"\n",
    "    first = 0\n",
    "    res = -1\n",
    "    i = 0\n",
    "    j = 1\n",
    "    \n",
    "    if len(nums) < 2:\n",
    "        return len(nums)\n",
    "    \n",
    "    add_one_flag = 0 if nums[-1] == nums[-2] else 1   # if last two elements are same, set add_one_flag to 0\n",
    "    \n",
    "    while i < len(nums)-1:\n",
    "        first = nums[i]\n",
    "        i += 1\n",
    "        while j < len(nums)-1 and first == nums[j]:\n",
    "            j += 1\n",
    "        nums[i] = nums[j]\n",
    "        if j == len(nums)-1:\n",
    "            res = i+add_one_flag\n",
    "            break\n",
    "            \n",
    "    return nums, res\n",
    "\n",
    "\n",
    "def checker(nums):\n",
    "    \"\"\"\n",
    "    This method uses set() to find the unique elements of list nums\n",
    "    \"\"\"\n",
    "    t = list(set(nums))\n",
    "    t.sort()\n",
    "    return t\n",
    "\n",
    "\n",
    "\n",
    "# main\n",
    "nums = []\n",
    "print(removeDuplicates(nums))\n",
    "\n",
    "nums = [0,1,2,2,3]\n",
    "print(removeDuplicates(nums))\n",
    "\n",
    "# debugger to check outcome\n",
    "for i in range(10): \n",
    "    nums = []\n",
    "    for j in range(10000):\n",
    "        nums.append(randint(-100, 100))\n",
    "        \n",
    "    nums.sort()\n",
    "    lst, k = removeDuplicates(nums)\n",
    "    lst1 = checker(nums)\n",
    "    \n",
    "    if lst1 != lst[:k]:\n",
    "        print(\"Error ->\",lst1, lst[:k], k)\n",
    "        break\n",
    "    "
   ]
  },
  {
   "cell_type": "markdown",
   "metadata": {},
   "source": [
    "# Move zeroes\n",
    "Given an integer array nums, move all 0's to the end of it while maintaining the relative order of the non\n",
    "zero elements.<br>\n",
    "_Note that you must do this in-place without making a copy of the array._\n",
    "\n",
    "_Example 1:_ <br>\n",
    "Input: nums = `[0,1,0,3,12]` <br>\n",
    "Output: `[1,3,12,0,0]` <br>\n",
    "\n",
    "_Example 2:_ <br>\n",
    "Input: nums = `[0]` <br>\n",
    "Output: `[0]` <br>\n",
    " \n",
    "_Constraints:_\n",
    "* $ 1 <= nums.length <= 10^4 $\n",
    "* $ -2^{31}<= nums[i] <= 2^{31} - 1 $"
   ]
  },
  {
   "cell_type": "code",
   "execution_count": 12,
   "metadata": {},
   "outputs": [
    {
     "name": "stdout",
     "output_type": "stream",
     "text": [
      "[1, 2, 0, 0, 0, 0]\n"
     ]
    }
   ],
   "source": [
    "def moveZeroes(nums):\n",
    "    \"\"\"\n",
    "    :type nums: List[int]\n",
    "    :rtype: None Do not return anything, modify nums in-place instead.\n",
    "    \"\"\"\n",
    "    count_zero = 0\n",
    "    len_ = len(nums)\n",
    "    i = 0\n",
    "    \n",
    "    while i < len_:\n",
    "        if not nums[i]:\n",
    "            nums.remove(0)\n",
    "            count_zero += 1\n",
    "            len_ -= 1\n",
    "            i -= 1\n",
    "        i += 1\n",
    "\n",
    "    for z in range(count_zero):\n",
    "        nums.append(0)\n",
    "    return nums\n",
    "\n",
    "    \n",
    "# main\n",
    "nums = [0, 0, 1, 0, 0, 2]\n",
    "print(moveZeroes(nums))"
   ]
  },
  {
   "cell_type": "markdown",
   "metadata": {},
   "source": [
    "## <font color=\"#fe7401\">Strings and Arrays card completed,</font> <font color=\"#ffd601\"> Hurrah !!!</font>"
   ]
  }
 ],
 "metadata": {
  "kernelspec": {
   "display_name": "Python 3",
   "language": "python",
   "name": "python3"
  },
  "language_info": {
   "codemirror_mode": {
    "name": "ipython",
    "version": 3
   },
   "file_extension": ".py",
   "mimetype": "text/x-python",
   "name": "python",
   "nbconvert_exporter": "python",
   "pygments_lexer": "ipython3",
   "version": "3.8.10"
  }
 },
 "nbformat": 4,
 "nbformat_minor": 4
}
