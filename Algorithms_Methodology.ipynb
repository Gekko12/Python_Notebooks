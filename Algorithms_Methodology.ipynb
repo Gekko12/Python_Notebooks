{
 "cells": [
  {
   "cell_type": "markdown",
   "metadata": {},
   "source": [
    "# <font color=\"hotpink\"> Algorithms or Methodology </font>"
   ]
  },
  {
   "cell_type": "markdown",
   "metadata": {},
   "source": [
    "***\n",
    "## <font color=\"#fe7401\"> Linked List concepts </font>\n",
    "***"
   ]
  },
  {
   "cell_type": "markdown",
   "metadata": {},
   "source": [
    "### Slow & fast pointer approach\n",
    "\n",
    "* Also known as Floyd's slow & fast pointer approach.\n",
    "* The algorithm is to start two pointers, slow and fast from head of linked list. We move slow one node at a time and fast two nodes at a time.\n",
    "* Can be used to :\n",
    "    1. To detect cycle in linked list, as both pointer pointers meet at some state.\n",
    "    2. To find the mid-point of linked list"
   ]
  },
  {
   "cell_type": "markdown",
   "metadata": {},
   "source": [
    "***\n",
    "## <font color=\"#fe7401\"> Graph concepts </font>\n",
    "***"
   ]
  },
  {
   "cell_type": "markdown",
   "metadata": {},
   "source": [
    "### Depth First Search (DFS)\n",
    "\n",
    "* A connected acyclic graph is called a tree, means tree is a subset of graph.\n",
    "* Depth-first search is an algorithm for traversing or searching tree or graph data structures. The algorithm starts at the root node (selecting some arbitrary node as the root node in the case of a graph) and explores as far as possible along each branch before backtracking. So the basic idea is to start from the root or any arbitrary node and mark the node and move to the adjacent unmarked node and continue this loop until there is no unmarked adjacent node. Then backtrack and check for other unmarked nodes and traverse them. Finally, print the nodes in the path.\n",
    "* Depth-first search is used in:\n",
    "     * <a href=\"#TopologicalSorting\">Topological sorting</a>\n",
    "     * scheduling problems \n",
    "     * cycle detection in graphs\n",
    "     * solving puzzles with only one solution, such as a maze or a sudoku puzzle.\n",
    "<img src=\"http://www.crazyforcode.com/wp-content/uploads/2016/04/DFS.png\" alt=\"dfs\" width=800 />"
   ]
  },
  {
   "cell_type": "markdown",
   "metadata": {},
   "source": [
    "### Topological sorting  <a name=\"TopologicalSorting\"> . </a>\n",
    "\n",
    "* Topological sort or topological ordering of a *directed graph* is a linear ordering of its vertices such that for every directed edge uv from vertex u to vertex v, u comes before v in the ordering.\n",
    "* The Applications of Topological Sort are -\n",
    "    * Course Schedule problem.\n",
    "    * Finding cycle in a graph.\n",
    "    * Operation System deadlock detection.\n",
    "    * Dependency resolution.\n",
    "    * Sentence Ordering.\n",
    "    * Critical Path Analysis.\n",
    "    * Other applications like manufacturing workflows, data serialization and context-free grammar.\n",
    "* Algorithms used in Topological Sorting are -\n",
    "    1. <a href = \"https://www.youtube.com/watch?v=cIBFEhD77b4\" alt=\"Kahn_Algo\"> Kahn's algorithm </a>\n",
    "    2. <a href = \"https://www.youtube.com/watch?v=eL-KzMXSXXI\" alt=\"dfs_algo\"> DFS </a>"
   ]
  }
 ],
 "metadata": {
  "kernelspec": {
   "display_name": "Python 3.8.10 64-bit",
   "language": "python",
   "name": "python3810jvsc74a57bd0916dbcbb3f70747c44a77c7bcd40155683ae19c65e1c03b4aa3499c5328201f1"
  },
  "language_info": {
   "codemirror_mode": {
    "name": "ipython",
    "version": 3
   },
   "file_extension": ".py",
   "mimetype": "text/x-python",
   "name": "python",
   "nbconvert_exporter": "python",
   "pygments_lexer": "ipython3",
   "version": "3.8.10"
  }
 },
 "nbformat": 4,
 "nbformat_minor": 4
}
