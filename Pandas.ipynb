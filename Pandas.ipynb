{
 "cells": [
  {
   "cell_type": "markdown",
   "id": "38f628ad",
   "metadata": {},
   "source": [
    "# <font color=hotpink> Python Pandas </font>\n",
    "\n",
    "* Pandas is a Python library that provides utilities to deal with structured data stored in the form of rows and columns."
   ]
  },
  {
   "cell_type": "code",
   "execution_count": 1,
   "id": "5cb693a7",
   "metadata": {},
   "outputs": [
    {
     "name": "stdout",
     "output_type": "stream",
     "text": [
      "hello\n"
     ]
    }
   ],
   "source": [
    "print(\"hello\")"
   ]
  }
 ],
 "metadata": {
  "kernelspec": {
   "display_name": "Python 3 (ipykernel)",
   "language": "python",
   "name": "python3"
  },
  "language_info": {
   "codemirror_mode": {
    "name": "ipython",
    "version": 3
   },
   "file_extension": ".py",
   "mimetype": "text/x-python",
   "name": "python",
   "nbconvert_exporter": "python",
   "pygments_lexer": "ipython3",
   "version": "3.10.5"
  }
 },
 "nbformat": 4,
 "nbformat_minor": 5
}
