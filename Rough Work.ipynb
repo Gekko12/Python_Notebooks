{
 "cells": [
  {
   "cell_type": "code",
   "execution_count": 103,
   "metadata": {},
   "outputs": [
    {
     "name": "stdout",
     "output_type": "stream",
     "text": [
      "('Meera .D, Alex Stephen, Stuoup Lari.P', '2003', 'Environment 2 the nation policy is the paper name')\n"
     ]
    }
   ],
   "source": [
    "import re\n",
    "\n",
    "def regexp(input):\n",
    "    author = re.search(r\"([a-zA-Z,.\\s]+)([\\w]+)\\D\", input)\n",
    "    year = re.search(r\"[\\d]+\", input)\n",
    "    paper = re.search(r\"([\\d^]+)([\\W\\w]*)([.$])\", input)\n",
    "    \n",
    "    auth = author.group().strip()\n",
    "    year = year.group()\n",
    "    pap = (paper.group().split(\".\")[1]).strip()\n",
    "    \n",
    "    tup = (auth, year, pap)\n",
    "    return tup\n",
    "    \n",
    "    \n",
    "#main\n",
    "input = \"Meera .D, Alex Stephen, Stuoup Lari.P (2003). Environment 2 the nation policy is the paper name. ABSTRACT- What is environment? What it is?\"\n",
    "print(regexp(input))"
   ]
  },
  {
   "cell_type": "code",
   "execution_count": 3,
   "metadata": {},
   "outputs": [
    {
     "data": {
      "text/plain": [
       "'hello'"
      ]
     },
     "execution_count": 3,
     "metadata": {},
     "output_type": "execute_result"
    }
   ],
   "source": [
    "def f1():\n",
    "    def f2():\n",
    "        return \"hello\"\n",
    "    return f2()\n",
    "\n",
    "f1()"
   ]
  },
  {
   "cell_type": "code",
   "execution_count": 8,
   "metadata": {},
   "outputs": [
    {
     "name": "stdout",
     "output_type": "stream",
     "text": [
      "inner\n",
      "Innner myfun\n",
      "18\n",
      "False\n"
     ]
    }
   ],
   "source": [
    "def deco(func):\n",
    "    def inner(*args, **kwargs):\n",
    "        print(\"Innner\", func.__name__)\n",
    "        return func(*args)\n",
    "    return inner\n",
    "\n",
    "@deco\n",
    "def myfun(x, y):\n",
    "    return x*y\n",
    "\n",
    "\n",
    "print(myfun.__name__)\n",
    "print(myfun(3, 6))\n",
    "print(isinstance(1213, str))"
   ]
  },
  {
   "cell_type": "code",
   "execution_count": 9,
   "metadata": {},
   "outputs": [
    {
     "name": "stdout",
     "output_type": "stream",
     "text": [
      "25\n",
      "Hello!!!\n"
     ]
    }
   ],
   "source": [
    "class A:\n",
    "    def __init__(self, x , y):\n",
    "        self.x = x\n",
    "        self.y = y\n",
    "\n",
    "    @property\n",
    "    def z(self):\n",
    "        return self.x + self.y\n",
    "\n",
    "a = A(10, 15)\n",
    "b = A('Hello', '!!!')\n",
    "print(a.z)\n",
    "print(b.z)"
   ]
  },
  {
   "cell_type": "code",
   "execution_count": 10,
   "metadata": {},
   "outputs": [
    {
     "ename": "AttributeError",
     "evalue": "'A' object has no attribute '_A__x'",
     "output_type": "error",
     "traceback": [
      "\u001b[1;31m---------------------------------------------------------------------------\u001b[0m",
      "\u001b[1;31mAttributeError\u001b[0m                            Traceback (most recent call last)",
      "Cell \u001b[1;32mIn [10], line 20\u001b[0m\n\u001b[0;32m     18\u001b[0m a \u001b[38;5;241m=\u001b[39m A(\u001b[38;5;241m7\u001b[39m)\n\u001b[0;32m     19\u001b[0m \u001b[38;5;28;01mdel\u001b[39;00m a\u001b[38;5;241m.\u001b[39mx\n\u001b[1;32m---> 20\u001b[0m \u001b[38;5;28mprint\u001b[39m(\u001b[43ma\u001b[49m\u001b[38;5;241;43m.\u001b[39;49m\u001b[43mx\u001b[49m)\n",
      "Cell \u001b[1;32mIn [10], line 8\u001b[0m, in \u001b[0;36mA.x\u001b[1;34m(self)\u001b[0m\n\u001b[0;32m      6\u001b[0m \u001b[38;5;129m@property\u001b[39m\n\u001b[0;32m      7\u001b[0m \u001b[38;5;28;01mdef\u001b[39;00m \u001b[38;5;21mx\u001b[39m(\u001b[38;5;28mself\u001b[39m):\n\u001b[1;32m----> 8\u001b[0m     \u001b[38;5;28;01mreturn\u001b[39;00m \u001b[38;5;28;43mself\u001b[39;49m\u001b[38;5;241;43m.\u001b[39;49m\u001b[43m__x\u001b[49m\n",
      "\u001b[1;31mAttributeError\u001b[0m: 'A' object has no attribute '_A__x'"
     ]
    }
   ],
   "source": [
    "class A:\n",
    "\n",
    "    def __init__(self, val):\n",
    "        self.x = val\n",
    "\n",
    "    @property\n",
    "    def x(self):\n",
    "        return self.__x\n",
    "\n",
    "    @x.setter\n",
    "    def x(self, val):\n",
    "        self.__x = val\n",
    "        \n",
    "    @x.deleter\n",
    "    def x(self):\n",
    "        del self.__x\n",
    "\n",
    "a = A(7)\n",
    "del a.x\n",
    "print(a.x)"
   ]
  },
  {
   "cell_type": "code",
   "execution_count": 11,
   "metadata": {
    "scrolled": true
   },
   "outputs": [
    {
     "ename": "ValueError",
     "evalue": "Only Int or float is allowed",
     "output_type": "error",
     "traceback": [
      "\u001b[1;31m---------------------------------------------------------------------------\u001b[0m",
      "\u001b[1;31mValueError\u001b[0m                                Traceback (most recent call last)",
      "Cell \u001b[1;32mIn [11], line 17\u001b[0m\n\u001b[0;32m     14\u001b[0m         \u001b[38;5;28mself\u001b[39m\u001b[38;5;241m.\u001b[39m__x \u001b[38;5;241m=\u001b[39m value\n\u001b[0;32m     16\u001b[0m a \u001b[38;5;241m=\u001b[39m A(\u001b[38;5;241m7\u001b[39m)\n\u001b[1;32m---> 17\u001b[0m \u001b[43ma\u001b[49m\u001b[38;5;241;43m.\u001b[39;49m\u001b[43mx\u001b[49m \u001b[38;5;241m=\u001b[39m \u001b[38;5;124m'\u001b[39m\u001b[38;5;124mGeorge\u001b[39m\u001b[38;5;124m'\u001b[39m\n\u001b[0;32m     18\u001b[0m \u001b[38;5;28mprint\u001b[39m(a\u001b[38;5;241m.\u001b[39mx)\n",
      "Cell \u001b[1;32mIn [11], line 13\u001b[0m, in \u001b[0;36mA.x\u001b[1;34m(self, value)\u001b[0m\n\u001b[0;32m     10\u001b[0m \u001b[38;5;129m@x\u001b[39m\u001b[38;5;241m.\u001b[39msetter\n\u001b[0;32m     11\u001b[0m \u001b[38;5;28;01mdef\u001b[39;00m \u001b[38;5;21mx\u001b[39m(\u001b[38;5;28mself\u001b[39m, value):\n\u001b[0;32m     12\u001b[0m     \u001b[38;5;28;01mif\u001b[39;00m \u001b[38;5;129;01mnot\u001b[39;00m \u001b[38;5;28misinstance\u001b[39m(value, (\u001b[38;5;28mint\u001b[39m, \u001b[38;5;28mfloat\u001b[39m)):\n\u001b[1;32m---> 13\u001b[0m         \u001b[38;5;28;01mraise\u001b[39;00m \u001b[38;5;167;01mValueError\u001b[39;00m(\u001b[38;5;124m'\u001b[39m\u001b[38;5;124mOnly Int or float is allowed\u001b[39m\u001b[38;5;124m'\u001b[39m)\n\u001b[0;32m     14\u001b[0m     \u001b[38;5;28mself\u001b[39m\u001b[38;5;241m.\u001b[39m__x \u001b[38;5;241m=\u001b[39m value\n",
      "\u001b[1;31mValueError\u001b[0m: Only Int or float is allowed"
     ]
    }
   ],
   "source": [
    "class A:\n",
    "\n",
    "    def __init__(self, value):\n",
    "        self.x = value\n",
    "\n",
    "    @property\n",
    "    def x(self):\n",
    "        return self.__x\n",
    "\n",
    "    @x.setter\n",
    "    def x(self, value):\n",
    "        if not isinstance(value, (int, float)):\n",
    "            raise ValueError('Only Int or float is allowed')\n",
    "        self.__x = value\n",
    "\n",
    "a = A(7)\n",
    "a.x = 'George'\n",
    "print(a.x)"
   ]
  },
  {
   "cell_type": "code",
   "execution_count": null,
   "metadata": {},
   "outputs": [],
   "source": []
  }
 ],
 "metadata": {
  "kernelspec": {
   "display_name": "Python 3 (ipykernel)",
   "language": "python",
   "name": "python3"
  },
  "language_info": {
   "codemirror_mode": {
    "name": "ipython",
    "version": 3
   },
   "file_extension": ".py",
   "mimetype": "text/x-python",
   "name": "python",
   "nbconvert_exporter": "python",
   "pygments_lexer": "ipython3",
   "version": "3.10.5"
  }
 },
 "nbformat": 4,
 "nbformat_minor": 4
}
