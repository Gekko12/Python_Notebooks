{
 "cells": [
  {
   "cell_type": "code",
   "execution_count": 1,
   "metadata": {},
   "outputs": [],
   "source": [
    "import datetime\n",
    "\n",
    "def dateandtime(val,tup):\n",
    "    lst = []\n",
    "    \n",
    "    if val == 1:\n",
    "        lst.append(datetime.date(tup[0], tup[1], tup[2]))\n",
    "        lst.append(\"{0}/{1}/{2}\".format(tup[2], tup[1], tup[0]))\n",
    "    elif val == 2:\n",
    "        lst.append(datetime.date.fromtimestamp(tup[0]))\n",
    "    elif val == 3:\n",
    "        t = datetime.time(tup[0], tup[1], tup[2])\n",
    "        x = t.strftime(\"%I\")\n",
    "        lst.append(t)\n",
    "        lst.append(x)\n",
    "    elif val == 4:\n",
    "        d = datetime.date(tup[0], tup[1], tup[2]).strftime(\"%A %B %j\").split()\n",
    "        lst.append(d[0])\n",
    "        lst.append(d[1])\n",
    "        lst.append(d[2])\n",
    "    elif val == 5:\n",
    "        lst.append(datetime.datetime(tup[0], tup[1], tup[2], tup[3], tup[4], tup[5]))\n",
    "    return lst"
   ]
  },
  {
   "cell_type": "code",
   "execution_count": 2,
   "metadata": {
    "scrolled": true
   },
   "outputs": [
    {
     "name": "stdout",
     "output_type": "stream",
     "text": [
      "((1, 10, 5, 2), (8, 8, 8, 8), (59, 106, 155, 177), (1, 10, 5, 2, 8, 48, 14, 63, 59, 47, 49, 22, 19, 60, 1, 40), (1, 5, 63, 59, 47, 49, 19, 1))\n"
     ]
    }
   ],
   "source": [
    "import itertools\n",
    "\n",
    "def performIterator(tuplevalues):\n",
    "    mainList = []\n",
    "    \n",
    "    itr = itertools.cycle(tuplevalues[0])\n",
    "    mainList.append(tuple([next(itr) for _ in range(len(tuplevalues[0]))]))\n",
    "    \n",
    "    itr = itertools.repeat(tuplevalues[1][0], len(tuplevalues[1]))\n",
    "    mainList.append(tuple([next(itr) for _ in range(len(tuplevalues[1]))]))\n",
    "    \n",
    "    itr = itertools.accumulate(tuplevalues[2])\n",
    "    mainList.append(tuple([next(itr) for _ in range(len(tuplevalues[2]))]))\n",
    "    \n",
    "    itr = itertools.chain.from_iterable(tuplevalues)\n",
    "    chained = tuple([next(itr) for _ in range(len(tuplevalues[2]*4))])\n",
    "    mainList.append(chained)\n",
    "    \n",
    "    tup = tuple()\n",
    "    itr = itertools.filterfalse(lambda x: x%2==0, chained)\n",
    "    try:\n",
    "        while True:\n",
    "            tup += (next(itr),)\n",
    "    except StopIteration:\n",
    "        mainList.append(tup)\n",
    "    \n",
    "    return tuple(mainList)\n",
    "    \n",
    "#main  \n",
    "tuplevalues = ((1, 10, 5, 2), (8, 48, 14, 63), (59, 47, 49, 22), (19, 60, 1, 40))\n",
    "print(performIterator(tuplevalues))"
   ]
  },
  {
   "cell_type": "code",
   "execution_count": 103,
   "metadata": {},
   "outputs": [
    {
     "name": "stdout",
     "output_type": "stream",
     "text": [
      "('Meera .D, Alex Stephen, Stuoup Lari.P', '2003', 'Environment 2 the nation policy is the paper name')\n"
     ]
    }
   ],
   "source": [
    "import re\n",
    "\n",
    "def regexp(input):\n",
    "    author = re.search(r\"([a-zA-Z,.\\s]+)([\\w]+)\\D\", input)\n",
    "    year = re.search(r\"[\\d]+\", input)\n",
    "    paper = re.search(r\"([\\d^]+)([\\W\\w]*)([.$])\", input)\n",
    "    \n",
    "    auth = author.group().strip()\n",
    "    year = year.group()\n",
    "    pap = (paper.group().split(\".\")[1]).strip()\n",
    "    \n",
    "    tup = (auth, year, pap)\n",
    "    return tup\n",
    "    \n",
    "    \n",
    "#main\n",
    "input = \"Meera .D, Alex Stephen, Stuoup Lari.P (2003). Environment 2 the nation policy is the paper name. ABSTRACT- What is environment? What it is?\"\n",
    "print(regexp(input))"
   ]
  }
 ],
 "metadata": {
  "kernelspec": {
   "display_name": "Python 3 (ipykernel)",
   "language": "python",
   "name": "python3"
  },
  "language_info": {
   "codemirror_mode": {
    "name": "ipython",
    "version": 3
   },
   "file_extension": ".py",
   "mimetype": "text/x-python",
   "name": "python",
   "nbconvert_exporter": "python",
   "pygments_lexer": "ipython3",
   "version": "3.10.5"
  }
 },
 "nbformat": 4,
 "nbformat_minor": 4
}
