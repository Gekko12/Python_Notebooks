{
 "cells": [
  {
   "cell_type": "code",
   "execution_count": 1,
   "metadata": {},
   "outputs": [],
   "source": [
    "import numpy as np"
   ]
  },
  {
   "cell_type": "code",
   "execution_count": 2,
   "metadata": {},
   "outputs": [
    {
     "data": {
      "text/plain": [
       "array([[206, 190],\n",
       "       [712, 297]])"
      ]
     },
     "execution_count": 2,
     "metadata": {},
     "output_type": "execute_result"
    }
   ],
   "source": [
    "A = np.array([[5,21,6],[11,8,62]])\n",
    "B = np.array([[4,5],[6,7],[10,3]])\n",
    "np.dot(A,B)"
   ]
  },
  {
   "cell_type": "code",
   "execution_count": 3,
   "metadata": {},
   "outputs": [
    {
     "data": {
      "text/plain": [
       "array([[ 75, 124, 334],\n",
       "       [107, 182, 470],\n",
       "       [ 83, 234, 246]])"
      ]
     },
     "execution_count": 3,
     "metadata": {},
     "output_type": "execute_result"
    }
   ],
   "source": [
    "np.dot(B,A)"
   ]
  },
  {
   "cell_type": "code",
   "execution_count": 4,
   "metadata": {},
   "outputs": [
    {
     "data": {
      "text/plain": [
       "(3,)"
      ]
     },
     "execution_count": 4,
     "metadata": {},
     "output_type": "execute_result"
    }
   ],
   "source": [
    "vec = np.array([1,2,3])\n",
    "vec.shape"
   ]
  },
  {
   "cell_type": "code",
   "execution_count": 5,
   "metadata": {},
   "outputs": [
    {
     "data": {
      "text/plain": [
       "'find a_1-b_1'"
      ]
     },
     "execution_count": 5,
     "metadata": {},
     "output_type": "execute_result"
    }
   ],
   "source": [
    "a = np.array([['f','i'], ['n','p']])\n",
    "b = np.array([['d','b'],['a','-']])\n",
    "\n",
    "a_1 = np.array([[1,3],[5,7]])\n",
    "b_1 = np.array([[10,8],[9,5]])\n",
    "\n",
    "a[0][0]+a[0][1]+a[1][0]+b[0][0]+' '+b[1][0]+'_'+'1'+b[1][1]+b[0][1]+'_'+'1'"
   ]
  },
  {
   "cell_type": "code",
   "execution_count": 6,
   "metadata": {},
   "outputs": [
    {
     "data": {
      "text/plain": [
       "array([[-9, -5],\n",
       "       [-4,  2]])"
      ]
     },
     "execution_count": 6,
     "metadata": {},
     "output_type": "execute_result"
    }
   ],
   "source": [
    "a_1 - b_1"
   ]
  },
  {
   "cell_type": "code",
   "execution_count": 7,
   "metadata": {},
   "outputs": [
    {
     "data": {
      "text/plain": [
       "array([[16,  0],\n",
       "       [10, 12]])"
      ]
     },
     "execution_count": 7,
     "metadata": {},
     "output_type": "execute_result"
    }
   ],
   "source": [
    "s = np.array([ [[1,2],[3,4]], [[5,6],[7,8]]])\n",
    "m = np.array([ [[-2,-2],[3,14]], [[15,-2],[7,8]]])\n",
    "\n",
    "s[0] + m[1]"
   ]
  },
  {
   "cell_type": "code",
   "execution_count": 8,
   "metadata": {},
   "outputs": [
    {
     "data": {
      "text/plain": [
       "array([[ 0,  0,  0],\n",
       "       [ 8,  0, 24]])"
      ]
     },
     "execution_count": 8,
     "metadata": {},
     "output_type": "execute_result"
    }
   ],
   "source": [
    "p = np.array([[1,0,-1],[5,4,3]])\n",
    "q = np.array([[1,0,2],[0,0,2],[1,0,2]])\n",
    "\n",
    "np.dot(p,q)"
   ]
  },
  {
   "cell_type": "code",
   "execution_count": 1,
   "metadata": {},
   "outputs": [
    {
     "data": {
      "text/plain": [
       "55"
      ]
     },
     "execution_count": 1,
     "metadata": {},
     "output_type": "execute_result"
    }
   ],
   "source": [
    "# help(list)\n",
    "l = [1,2,3,4,55]\n",
    "l.pop()"
   ]
  },
  {
   "cell_type": "code",
   "execution_count": 10,
   "metadata": {},
   "outputs": [
    {
     "data": {
      "text/plain": [
       "[4]"
      ]
     },
     "execution_count": 10,
     "metadata": {},
     "output_type": "execute_result"
    }
   ],
   "source": [
    "nums = [1,2,5,2,3]\n",
    "target = 2\n",
    "\n",
    "nums = [1,2,5,2,3]\n",
    "target = 3\n",
    "\n",
    "nums = [1,2,5,2,3]\n",
    "target = 4\n",
    "\n",
    "nums = [1,2,5,2,3]\n",
    "target = 5\n",
    "\n",
    "nums.sort()\n",
    "[i for i in range(len(nums)) if nums[i] == target]"
   ]
  },
  {
   "cell_type": "code",
   "execution_count": 18,
   "metadata": {},
   "outputs": [
    {
     "data": {
      "text/plain": [
       "[4, 0, 1, 1, 3]"
      ]
     },
     "execution_count": 18,
     "metadata": {},
     "output_type": "execute_result"
    }
   ],
   "source": [
    "nums = [8,1,2,2,3]\n",
    "tmp = nums[:]\n",
    "        \n",
    "nums.sort()\n",
    "prev, val = nums[0], 0\n",
    "di = {prev: val}\n",
    "\n",
    "for i in range(1, len(nums)):\n",
    "    if nums[i] != prev:\n",
    "        di[nums[i]] = i\n",
    "        prev = nums[i]\n",
    "        val = i\n",
    "\n",
    "[di[num] for num in tmp]"
   ]
  },
  {
   "cell_type": "code",
   "execution_count": 9,
   "metadata": {},
   "outputs": [
    {
     "name": "stdout",
     "output_type": "stream",
     "text": [
      "123 4\n",
      "456 78\n"
     ]
    }
   ],
   "source": [
    "di = {'123':(4,5,6), '456':(78,34,67)}\n",
    "for d in di:\n",
    "    print(d, di[d][0])"
   ]
  },
  {
   "cell_type": "code",
   "execution_count": null,
   "metadata": {
    "collapsed": true
   },
   "outputs": [],
   "source": [
    "# mycode\n",
    "class City:\n",
    "    def __init__(self, city_id, state_name, city_name, covidbeds, avlblcovbeds, ventilbeds, avlblventilbeds):\n",
    "        self.city_id = city_id\n",
    "        self.state_name = state_name\n",
    "        self.city_name = city_name\n",
    "        self.covidbeds = covidbeds\n",
    "        self.avlblcovbeds = avlblcovbeds\n",
    "        self.ventilbeds = ventilbeds\n",
    "        self.avlblventilbeds = avlblventilbeds\n",
    "\n",
    "\n",
    "    \n",
    "class CovBedsAnalysis:\n",
    "    def __init__(self, analysis_name, city_list):\n",
    "        self.analysis = analysis_name\n",
    "        self.city_list = city_list\n",
    "\n",
    "\n",
    "    def get_StateWiseAvlblBedStats(self):\n",
    "        beds = []\n",
    "\n",
    "        for city in self.city_list:\n",
    "            state = city.state_name\n",
    "            total_covbeds = sum([cty.avlblcovbeds for cty in self.city_list if cty.state_name == state])\n",
    "            total_ventilbeds = sum([cty.avlblventilbeds for cty in self.city_list if cty.state_name == state])\n",
    "            beds.append((state, total_covbeds, total_ventilbeds))\n",
    "\n",
    "        res = list(set(beds))\n",
    "        res.sort()\n",
    "\n",
    "        return res\n",
    "\n",
    "\n",
    "    def get_CiitesWithMoreThanAvgOccupiedbeds(self, state):\n",
    "        total_occupy_cov = 0\n",
    "        total_occupy_ventil = 0\n",
    "        avg_cov = 0\n",
    "        avg_ventil = 0\n",
    "        count = 0\n",
    "        dic = dict()\n",
    "\n",
    "        for city in self.city_list:\n",
    "            if city.state_name.lower() == state.lower():\n",
    "                total_occupy_cov += (city.covidbeds - city.avlblcovbeds)\n",
    "                total_occupy_ventil += (city.ventilbeds - city.avlblventilbeds)\n",
    "                count += 1\n",
    "        \n",
    "        if count:\n",
    "            avg_cov = total_occupy_cov / count\n",
    "            avg_ventil = total_occupy_ventil / count\n",
    "\n",
    "            for city in self.city_list:\n",
    "                if city.state_name.lower() == state.lower() and (city.covidbeds - city.avlblcovbeds) > avg_cov \\\n",
    "                and (city.ventilbeds - city.avlblventilbeds) > avg_ventil :\n",
    "                    dic[city.city_name] = (city.covidbeds - city.avlblcovbeds, city.ventilbeds - city.avlblventilbeds)\n",
    "\n",
    "        return dic\n",
    "\n",
    "\n",
    "\n",
    "\n",
    "\n",
    "# main-function\n",
    "if __name__ == '__main__':\n",
    "    \n",
    "    n = int(input())\n",
    "    list_city = []\n",
    "\n",
    "    for i in range(n):\n",
    "        city_id = int(input())\n",
    "        state_name = input()\n",
    "        city_name = input()\n",
    "        covidbeds = int(input())\n",
    "        avlblcovbeds = int(input())\n",
    "        ventilbeds = int(input())\n",
    "        avlblventilbeds = int(input())\n",
    "        obj = City(city_id, state_name, city_name, covidbeds, avlblcovbeds, ventilbeds, avlblventilbeds)\n",
    "        list_city.append(obj)\n",
    "\n",
    "    analy = CovBedsAnalysis(\"Gaurav's Analysis\", list_city)\n",
    "    state = input()\n",
    "\n",
    "    op1 = analy.get_StateWiseAvlblBedStats()\n",
    "    for st in op1:\n",
    "        print(st[0], st[1], st[2])\n",
    "\n",
    "    op2 = analy.get_CiitesWithMoreThanAvgOccupiedbeds(state)\n",
    "    if len(op2):\n",
    "        for di in op2:\n",
    "            print(di, op2[di][0], op2[di][1])\n",
    "    else:\n",
    "        print('No city available')\n",
    "    \n",
    "\n",
    "# 5 \n",
    "# 101 Delhi Delhi 100000 20000 5000 2000 \n",
    "# 102 Telangana Hyderabad 200000 40000 1000 500 \n",
    "# 103 Telangana Warangal 100000 30000 2000 1000 \n",
    "# 104 AndhraPradesh Vijayawada 800000 300000 30000 2500 \n",
    "# 105 AndhraPradesh Vizag 500000 100000 6000 1000 \n",
    "# AndhraPradesh\n"
   ]
  },
  {
   "cell_type": "code",
   "execution_count": 3,
   "metadata": {},
   "outputs": [
    {
     "name": "stdout",
     "output_type": "stream",
     "text": [
      "5\n",
      "101\n",
      "AAA\n",
      "5645658956\n",
      "A-Positive\n",
      "May\n",
      "5\n",
      "102\n",
      "BBB\n",
      "1236547895\n",
      "B-Positive\n",
      "Jun\n",
      "45\n",
      "103\n",
      "CCC\n",
      "7894561230\n",
      "O-Positive\n",
      "Jul\n",
      "49\n",
      "104\n",
      "DDD\n",
      "7894561230\n",
      "O-Positive\n",
      "Jan\n",
      "43\n",
      "105\n",
      "DDD\n",
      "78945612356\n",
      "AB-Negative\n",
      "Nov\n",
      "65\n",
      "O-Positive\n",
      "2\n",
      "A-Positive 1\n",
      "AB-Negative 0\n",
      "B-Positive 1\n",
      "O-Positive 2\n",
      "Donor count available\n",
      "A-Positive 1\n",
      "AB-Negative 0\n",
      "B-Positive 1\n",
      "O-Positive 0\n"
     ]
    }
   ],
   "source": [
    "#mycode\n",
    "\n",
    "class Donor:\n",
    "    def __init__(self, id, name, contact_num, blood_grp, prev_don_month, away_from):\n",
    "        self.id = id\n",
    "        self.name = name\n",
    "        self.contact_num = contact_num\n",
    "        self.blood_grp = blood_grp\n",
    "        self.prev_don_month = prev_don_month\n",
    "        self.away_from = away_from\n",
    "    \n",
    "    \n",
    "    \n",
    "class BloodBank:\n",
    "    def __init__(self, name, list_donors):\n",
    "        self.name = name\n",
    "        self.list_donors = list_donors\n",
    "\n",
    "\n",
    "    def conditionDonor(self, donor):\n",
    "        #assuming curr month is Dec, so valid months for donations are\n",
    "        valid_month = ['jan', 'feb', 'mar', 'apr', 'may', 'jun', 'jul'] #'aug', 'sep', 'oct', 'nov', 'dec'\n",
    "        return donor.prev_don_month.lower() in valid_month and donor.away_from <= 50\n",
    "\n",
    "\n",
    "    def getListofAvailableDonors(self):\n",
    "        donor_dict = {donor.blood_grp : 0  for donor in self.list_donors}\n",
    "\n",
    "        for donor in self.list_donors:\n",
    "            if self.conditionDonor(donor):\n",
    "                donor_dict[donor.blood_grp] += 1\n",
    "\n",
    "        lst = list(donor_dict)\n",
    "        lst.sort()\n",
    "\n",
    "        return {blood_grp : donor_dict[blood_grp] for blood_grp in lst} \n",
    "  \n",
    "  \n",
    "    def updatePrevDonationMonth(self, num_updates, bld_grp):\n",
    "        if num_updates == -1:    #update all\n",
    "            for donor in self.list_donors:\n",
    "                if self.conditionDonor(donor) and donor.blood_grp == bld_grp:\n",
    "                    donor.prev_don_month = 'Dec'\n",
    "        else:\n",
    "            itr = 0\n",
    "            for donor in self.list_donors:\n",
    "                if self.conditionDonor(donor) and donor.blood_grp == bld_grp:\n",
    "                    donor.prev_don_month = 'Dec'\n",
    "                    itr += 1\n",
    "                if itr >= num_updates:\n",
    "                    break\n",
    "\n",
    "\n",
    "    def getAndUpdateDonor(self, bld_grp, req_donor_cnt):\n",
    "        donors = self.getListofAvailableDonors()\n",
    "\n",
    "        if req_donor_cnt > donors[bld_grp]:\n",
    "            self.updatePrevDonationMonth(-1, bld_grp)\n",
    "            return False\n",
    "        elif req_donor_cnt <= donors[bld_grp]:\n",
    "            self.updatePrevDonationMonth(req_donor_cnt, bld_grp)\n",
    "            return True\n",
    "\n",
    "  \n",
    "  \n",
    "# main-function\n",
    "if __name__ == '__main__':\n",
    "    n = int(input())\n",
    "    list_donor = []\n",
    "\n",
    "    for i in range(n):\n",
    "        id = int(input())\n",
    "        name = input()\n",
    "        contact_num = int(input())\n",
    "        blood_grp = input()\n",
    "        prev_don_month = input()\n",
    "        away_from = int(input())\n",
    "\n",
    "        obj = Donor(id, name, contact_num, blood_grp, prev_don_month, away_from)\n",
    "        list_donor.append(obj)\n",
    "\n",
    "\n",
    "    obj = BloodBank('Happy_Blood_Bank', list_donor)\n",
    "\n",
    "    bld_grp = input()\n",
    "    req_count = int(input())\n",
    "\n",
    "    donors = obj.getListofAvailableDonors()\n",
    "    for k, v in donors.items():\n",
    "        print(k, v)\n",
    "\n",
    "    if obj.getAndUpdateDonor(bld_grp, req_count):\n",
    "        print('Donor count available')\n",
    "    else:\n",
    "        print('Donor count not available')\n",
    "  \n",
    "    donors = obj.getListofAvailableDonors()\n",
    "    for k, v in donors.items():\n",
    "        print(k, v)"
   ]
  }
 ],
 "metadata": {
  "kernelspec": {
   "display_name": "Python 3.8.10 64-bit",
   "language": "python",
   "name": "python3810jvsc74a57bd0916dbcbb3f70747c44a77c7bcd40155683ae19c65e1c03b4aa3499c5328201f1"
  },
  "language_info": {
   "codemirror_mode": {
    "name": "ipython",
    "version": 3
   },
   "file_extension": ".py",
   "mimetype": "text/x-python",
   "name": "python",
   "nbconvert_exporter": "python",
   "pygments_lexer": "ipython3",
   "version": "3.8.10"
  }
 },
 "nbformat": 4,
 "nbformat_minor": 4
}
