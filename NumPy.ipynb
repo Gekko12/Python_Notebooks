{
 "cells": [
  {
   "cell_type": "markdown",
   "id": "076dc20e",
   "metadata": {},
   "source": [
    "# <font color=\"hotpink\"> NumPy </font>\n",
    "\n",
    "* NumPy is a Python library, which supports efficient handling of various numerical operations on **arrays** holding numeric data.\n",
    "* These arrays are known as N-dimensional arrays or `ndarrays`.\n",
    "* Ndarrays are capable of holding data elements in multiple dimensions.\n",
    "* Each data element of a ndarray is of `fixed size`.\n",
    "* All elements of a ndarray are of `same data type`.\n",
    "* Numpy supports various data types based on number of bytes required by the data elements.\n",
    "* Data type can be explicitly specified with `dtype` argument."
   ]
  },
  {
   "cell_type": "code",
   "execution_count": 1,
   "id": "0c4f1112",
   "metadata": {},
   "outputs": [],
   "source": [
    "import numpy as np\n",
    "from io import StringIO"
   ]
  },
  {
   "cell_type": "code",
   "execution_count": 2,
   "id": "7a561ab4",
   "metadata": {},
   "outputs": [
    {
     "name": "stdout",
     "output_type": "stream",
     "text": [
      "[1. 2. 3.]\n"
     ]
    },
    {
     "data": {
      "text/plain": [
       "numpy.ndarray"
      ]
     },
     "execution_count": 2,
     "metadata": {},
     "output_type": "execute_result"
    }
   ],
   "source": [
    "ary1 = np.array([1, 2, 3], dtype=\"float16\")\n",
    "print(ary1)\n",
    "type(ary1)"
   ]
  },
  {
   "cell_type": "markdown",
   "id": "1209a184",
   "metadata": {},
   "source": [
    "## <font color=\"#fe7401\">ndarray Attributes</font>\n",
    "\n",
    "* Some of the important attributes of a ndarray are <br>\n",
    "    * `ndim` : Returns number of dimensions.\n",
    "    * `shape`: Returns Shape in tuple.\n",
    "    * `size` : Total number of elements.\n",
    "    * `dtype` : Type of each element.\n",
    "    * `itemsize` : Size of each element in Bytes.\n",
    "    * `nbytes` : Total bytes consumed by all elements."
   ]
  },
  {
   "cell_type": "code",
   "execution_count": 3,
   "id": "68e90972",
   "metadata": {},
   "outputs": [
    {
     "name": "stdout",
     "output_type": "stream",
     "text": [
      "2 (2, 3) 6 int32 4 24\n"
     ]
    }
   ],
   "source": [
    "ary2 = np.array([[1,2,3],[4,5,6]])\n",
    "print(ary2.ndim, ary2.shape, ary2.size, ary2.dtype, ary2.itemsize, ary2.nbytes)"
   ]
  },
  {
   "cell_type": "markdown",
   "id": "e095916b",
   "metadata": {},
   "source": [
    "## <font color=\"#fe7401\">Numpy Array creation</font>\n",
    "\n",
    "* N-dimensional arrays or ndarray can be created in multiple ways in numpy.\n",
    "    1. From Python built-in datatypes : lists or tuples\n",
    "    2. Using Numpy array creation methods like `ones`, `ones_like`, `zeros`, `zeros_like`\n",
    "    3. Using Numpy numeric sequence generators.\n",
    "    4. Using Numpy random module.\n",
    "    5. By reading data from a file.\n",
    "* Numpy allows creation of arrays with default values like 0, 1, or another value."
   ]
  },
  {
   "cell_type": "code",
   "execution_count": 4,
   "id": "a4de42fd",
   "metadata": {},
   "outputs": [
    {
     "data": {
      "text/plain": [
       "array([[1, 2],\n",
       "       [4, 5]])"
      ]
     },
     "execution_count": 4,
     "metadata": {},
     "output_type": "execute_result"
    }
   ],
   "source": [
    "# array creation using list and tuples\n",
    "ary3 = np.array([[1,2], (4,5)])\n",
    "ary3"
   ]
  },
  {
   "cell_type": "code",
   "execution_count": 5,
   "id": "98317fae",
   "metadata": {},
   "outputs": [
    {
     "name": "stdout",
     "output_type": "stream",
     "text": [
      "[0. 0. 0. 0. 0.]\n",
      "[[0. 0. 0.]\n",
      " [0. 0. 0.]]\n"
     ]
    }
   ],
   "source": [
    "ary4 = np.zeros(5)\n",
    "ary5 = np.zeros(shape=(2,3))\n",
    "print(ary4)\n",
    "print(ary5)"
   ]
  },
  {
   "cell_type": "code",
   "execution_count": 6,
   "id": "8627353e",
   "metadata": {},
   "outputs": [
    {
     "data": {
      "text/plain": [
       "array([[0, 0],\n",
       "       [0, 0]])"
      ]
     },
     "execution_count": 6,
     "metadata": {},
     "output_type": "execute_result"
    }
   ],
   "source": [
    "ary4 = np.zeros_like(ary3)\n",
    "ary4"
   ]
  },
  {
   "cell_type": "code",
   "execution_count": 7,
   "id": "a3d55528",
   "metadata": {},
   "outputs": [
    {
     "data": {
      "text/plain": [
       "array([[1., 1., 1.],\n",
       "       [1., 1., 1.],\n",
       "       [1., 1., 1.]])"
      ]
     },
     "execution_count": 7,
     "metadata": {},
     "output_type": "execute_result"
    }
   ],
   "source": [
    "ary4 = np.ones(shape=(3,3))\n",
    "ary4"
   ]
  },
  {
   "cell_type": "code",
   "execution_count": 8,
   "id": "aa976a7e",
   "metadata": {},
   "outputs": [
    {
     "data": {
      "text/plain": [
       "array([[1.5, 1.5, 1.5],\n",
       "       [1.5, 1.5, 1.5]])"
      ]
     },
     "execution_count": 8,
     "metadata": {},
     "output_type": "execute_result"
    }
   ],
   "source": [
    "ary5 = np.full(shape=(2,3), fill_value=1.5)\n",
    "ary5"
   ]
  },
  {
   "cell_type": "code",
   "execution_count": 9,
   "id": "427a207f",
   "metadata": {},
   "outputs": [
    {
     "data": {
      "text/plain": [
       "array([[1, 0, 0],\n",
       "       [0, 1, 0],\n",
       "       [0, 0, 1]], dtype=int8)"
      ]
     },
     "execution_count": 9,
     "metadata": {},
     "output_type": "execute_result"
    }
   ],
   "source": [
    "# creating Identity Matrix\n",
    "np.identity(3, dtype=\"int8\")"
   ]
  },
  {
   "cell_type": "markdown",
   "id": "92a84d6f",
   "metadata": {},
   "source": [
    "## <font color=\"#fe7401\">Numeric Sequence Generators</font>\n",
    "* Two major methods used in numpy for generating number sequences are,\n",
    "    1. `arange` : Numbers created based on step value. Syntax:\n",
    "    ```\n",
    "    numpy.arange([start, ]stop, [step, ]dtype=None)\n",
    "    ```\n",
    "    2. linspace : Numbers created based on size value. Syntax:\n",
    "    ```\n",
    "    numpy.linspace(start, stop, #num inbetween, endpoint=True, retstep=False, dtype=None)\n",
    "    ```"
   ]
  },
  {
   "cell_type": "code",
   "execution_count": 10,
   "id": "d09dc48b",
   "metadata": {},
   "outputs": [
    {
     "data": {
      "text/plain": [
       "[2, 4, 6, 8]"
      ]
     },
     "execution_count": 10,
     "metadata": {},
     "output_type": "execute_result"
    }
   ],
   "source": [
    "list(range(2, 10, 2))"
   ]
  },
  {
   "cell_type": "code",
   "execution_count": 11,
   "id": "a41a2c33",
   "metadata": {},
   "outputs": [
    {
     "data": {
      "text/plain": [
       "array([2, 4, 6, 8])"
      ]
     },
     "execution_count": 11,
     "metadata": {},
     "output_type": "execute_result"
    }
   ],
   "source": [
    "np.arange(2, 10, 2)"
   ]
  },
  {
   "cell_type": "code",
   "execution_count": 12,
   "id": "3f050c4f",
   "metadata": {},
   "outputs": [
    {
     "data": {
      "text/plain": [
       "array([2. , 4.5, 7. , 9.5])"
      ]
     },
     "execution_count": 12,
     "metadata": {},
     "output_type": "execute_result"
    }
   ],
   "source": [
    "np.arange(2, 10, 2.5)"
   ]
  },
  {
   "cell_type": "code",
   "execution_count": 13,
   "id": "4a3c11da",
   "metadata": {},
   "outputs": [
    {
     "data": {
      "text/plain": [
       "array([ 2.,  6., 10.])"
      ]
     },
     "execution_count": 13,
     "metadata": {},
     "output_type": "execute_result"
    }
   ],
   "source": [
    "# linearly spaced values\n",
    "np.linspace(2, 10, 3)"
   ]
  },
  {
   "cell_type": "markdown",
   "id": "7edb01f9",
   "metadata": {},
   "source": [
    "## <font color=\"#fe7401\">Random Numbers Generator</font>\n",
    "\n",
    "* `random` module of numpy is used to generate various random sequences.\n",
    "* `seed` is a number that sets the initial state of random number generator.\n",
    "* `randn` is used to simulate standard normal distribution."
   ]
  },
  {
   "cell_type": "code",
   "execution_count": 14,
   "id": "54f98f06",
   "metadata": {},
   "outputs": [
    {
     "data": {
      "text/plain": [
       "array([0.37454012, 0.95071431])"
      ]
     },
     "execution_count": 14,
     "metadata": {},
     "output_type": "execute_result"
    }
   ],
   "source": [
    "# seeding so that same random seq can be trigger\n",
    "np.random.seed(42)\n",
    "\n",
    "# 2 random numbers between 0 and 1\n",
    "np.random.rand(2)"
   ]
  },
  {
   "cell_type": "code",
   "execution_count": 15,
   "id": "3edc589b",
   "metadata": {},
   "outputs": [
    {
     "data": {
      "text/plain": [
       "array([17, 14, 16])"
      ]
     },
     "execution_count": 15,
     "metadata": {},
     "output_type": "execute_result"
    }
   ],
   "source": [
    "# three random numbers between 10(incl) and 20(excl)\n",
    "np.random.randint(10, 20, 3)"
   ]
  },
  {
   "cell_type": "code",
   "execution_count": 16,
   "id": "28fbc8ff",
   "metadata": {},
   "outputs": [
    {
     "data": {
      "text/plain": [
       "array([-0.91682684, -0.12414718, -2.01096289])"
      ]
     },
     "execution_count": 16,
     "metadata": {},
     "output_type": "execute_result"
    }
   ],
   "source": [
    "np.random.randn(3)"
   ]
  },
  {
   "cell_type": "code",
   "execution_count": 17,
   "id": "6d976c17",
   "metadata": {},
   "outputs": [
    {
     "name": "stdout",
     "output_type": "stream",
     "text": [
      "[ 9.01439315 10.7851595   8.14163067]\n"
     ]
    }
   ],
   "source": [
    "x = 10 + 2*np.random.randn(3) # normal distribution with mean 10 and sd 2\n",
    "print(x)"
   ]
  },
  {
   "cell_type": "markdown",
   "id": "9cfde1c1",
   "metadata": {},
   "source": [
    "## <font color=\"#fe7401\">Reading Data from a file</font>\n",
    "\n",
    "* `loadtxt` is used to read data from a text file or any input data stream."
   ]
  },
  {
   "cell_type": "code",
   "execution_count": 18,
   "id": "ff5ed9f0",
   "metadata": {},
   "outputs": [
    {
     "name": "stdout",
     "output_type": "stream",
     "text": [
      "[[88.25 93.45 72.6  90.9 ]\n",
      " [72.3  78.85 92.15 65.75]\n",
      " [90.5  92.45 89.25 94.5 ]]\n",
      "2 (3, 4)\n"
     ]
    }
   ],
   "source": [
    "x = StringIO('''88.25 93.45 72.60 90.90\n",
    "72.3 78.85 92.15 65.75\n",
    "90.5 92.45 89.25 94.50\n",
    "''')\n",
    "\n",
    "d = np.loadtxt(x,delimiter=' ')\n",
    "\n",
    "print(d)\n",
    "print(d.ndim, d.shape)"
   ]
  },
  {
   "cell_type": "markdown",
   "id": "6d27f832",
   "metadata": {},
   "source": [
    "## <font color=\"#fe7401\"> Array Shape Manipulation </font>"
   ]
  }
 ],
 "metadata": {
  "kernelspec": {
   "display_name": "Python 3 (ipykernel)",
   "language": "python",
   "name": "python3"
  },
  "language_info": {
   "codemirror_mode": {
    "name": "ipython",
    "version": 3
   },
   "file_extension": ".py",
   "mimetype": "text/x-python",
   "name": "python",
   "nbconvert_exporter": "python",
   "pygments_lexer": "ipython3",
   "version": "3.10.5"
  }
 },
 "nbformat": 4,
 "nbformat_minor": 5
}
