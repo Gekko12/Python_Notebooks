{
 "cells": [
  {
   "cell_type": "markdown",
   "id": "076dc20e",
   "metadata": {},
   "source": [
    "# <font color=\"hotpink\"> NumPy </font>\n",
    "\n",
    "* NumPy is a Python library, which supports efficient handling of various numerical operations on **arrays** holding numeric data.\n",
    "* These arrays are known as N-dimensional arrays or `ndarrays`.\n",
    "* Ndarrays are capable of holding data elements in multiple dimensions.\n",
    "* Each data element of a ndarray is of `fixed size`.\n",
    "* All elements of a ndarray are of `same data type`.\n",
    "* Numpy supports various data types based on number of bytes required by the data elements.\n",
    "* Data type can be explicitly specified with `dtype` argument."
   ]
  },
  {
   "cell_type": "code",
   "execution_count": 1,
   "id": "0c4f1112",
   "metadata": {},
   "outputs": [],
   "source": [
    "import numpy as np\n",
    "from io import StringIO"
   ]
  },
  {
   "cell_type": "code",
   "execution_count": 2,
   "id": "7a561ab4",
   "metadata": {},
   "outputs": [
    {
     "name": "stdout",
     "output_type": "stream",
     "text": [
      "[1. 2. 3.]\n"
     ]
    },
    {
     "data": {
      "text/plain": [
       "numpy.ndarray"
      ]
     },
     "execution_count": 2,
     "metadata": {},
     "output_type": "execute_result"
    }
   ],
   "source": [
    "ary1 = np.array([1, 2, 3], dtype=\"float16\")\n",
    "print(ary1)\n",
    "type(ary1)"
   ]
  },
  {
   "cell_type": "markdown",
   "id": "1209a184",
   "metadata": {},
   "source": [
    "## <font color=\"#fe7401\">ndarray Attributes</font>\n",
    "\n",
    "* Some of the important attributes of a ndarray are <br>\n",
    "    * `ndim` : Returns number of dimensions.\n",
    "    * `shape`: Returns Shape in tuple.\n",
    "    * `size` : Total number of elements.\n",
    "    * `dtype` : Type of each element.\n",
    "    * `itemsize` : Size of each element in Bytes.\n",
    "    * `nbytes` : Total bytes consumed by all elements."
   ]
  },
  {
   "cell_type": "code",
   "execution_count": 3,
   "id": "68e90972",
   "metadata": {},
   "outputs": [
    {
     "name": "stdout",
     "output_type": "stream",
     "text": [
      "2 (2, 3) 6 int32 4 24\n"
     ]
    }
   ],
   "source": [
    "ary2 = np.array([[1,2,3],[4,5,6]])\n",
    "print(ary2.ndim, ary2.shape, ary2.size, ary2.dtype, ary2.itemsize, ary2.nbytes)"
   ]
  },
  {
   "cell_type": "markdown",
   "id": "e095916b",
   "metadata": {},
   "source": [
    "## <font color=\"#fe7401\">Numpy Array creation</font>\n",
    "\n",
    "* N-dimensional arrays or ndarray can be created in multiple ways in numpy.\n",
    "    1. From Python built-in datatypes : lists or tuples\n",
    "    2. Using Numpy array creation methods like `ones`, `ones_like`, `zeros`, `zeros_like`\n",
    "    3. Using Numpy numeric sequence generators.\n",
    "    4. Using Numpy random module.\n",
    "    5. By reading data from a file.\n",
    "* Numpy allows creation of arrays with default values like 0, 1, or another value."
   ]
  },
  {
   "cell_type": "code",
   "execution_count": 4,
   "id": "a4de42fd",
   "metadata": {},
   "outputs": [
    {
     "data": {
      "text/plain": [
       "array([[1, 2],\n",
       "       [4, 5]])"
      ]
     },
     "execution_count": 4,
     "metadata": {},
     "output_type": "execute_result"
    }
   ],
   "source": [
    "# array creation using list and tuples\n",
    "ary3 = np.array([[1,2], (4,5)])\n",
    "ary3"
   ]
  },
  {
   "cell_type": "code",
   "execution_count": 5,
   "id": "98317fae",
   "metadata": {},
   "outputs": [
    {
     "name": "stdout",
     "output_type": "stream",
     "text": [
      "[0. 0. 0. 0. 0.]\n",
      "[[0. 0. 0.]\n",
      " [0. 0. 0.]]\n"
     ]
    }
   ],
   "source": [
    "ary4 = np.zeros(5)\n",
    "ary5 = np.zeros(shape=(2,3))\n",
    "print(ary4)\n",
    "print(ary5)"
   ]
  },
  {
   "cell_type": "code",
   "execution_count": 6,
   "id": "8627353e",
   "metadata": {},
   "outputs": [
    {
     "data": {
      "text/plain": [
       "array([[0, 0],\n",
       "       [0, 0]])"
      ]
     },
     "execution_count": 6,
     "metadata": {},
     "output_type": "execute_result"
    }
   ],
   "source": [
    "# Return an array of zeros with the same shape and type as a given array.\n",
    "ary4 = np.zeros_like(ary3)\n",
    "ary4"
   ]
  },
  {
   "cell_type": "code",
   "execution_count": 7,
   "id": "a3d55528",
   "metadata": {},
   "outputs": [
    {
     "data": {
      "text/plain": [
       "array([[1., 1., 1.],\n",
       "       [1., 1., 1.],\n",
       "       [1., 1., 1.]])"
      ]
     },
     "execution_count": 7,
     "metadata": {},
     "output_type": "execute_result"
    }
   ],
   "source": [
    "ary4 = np.ones(shape=(3,3))\n",
    "ary4"
   ]
  },
  {
   "cell_type": "code",
   "execution_count": 8,
   "id": "aa976a7e",
   "metadata": {},
   "outputs": [
    {
     "data": {
      "text/plain": [
       "array([[1.5, 1.5, 1.5],\n",
       "       [1.5, 1.5, 1.5]])"
      ]
     },
     "execution_count": 8,
     "metadata": {},
     "output_type": "execute_result"
    }
   ],
   "source": [
    "ary5 = np.full(shape=(2,3), fill_value=1.5)\n",
    "ary5"
   ]
  },
  {
   "cell_type": "markdown",
   "id": "a163b4ba",
   "metadata": {},
   "source": [
    "#### <font color=grey> Creating Identity Matrix </font>"
   ]
  },
  {
   "cell_type": "code",
   "execution_count": 9,
   "id": "427a207f",
   "metadata": {},
   "outputs": [
    {
     "data": {
      "text/plain": [
       "array([[1, 0, 0],\n",
       "       [0, 1, 0],\n",
       "       [0, 0, 1]], dtype=int8)"
      ]
     },
     "execution_count": 9,
     "metadata": {},
     "output_type": "execute_result"
    }
   ],
   "source": [
    "np.identity(3, dtype=\"int8\")"
   ]
  },
  {
   "cell_type": "code",
   "execution_count": 10,
   "id": "858bcd2e",
   "metadata": {},
   "outputs": [
    {
     "data": {
      "text/plain": [
       "array([[1, 0, 0],\n",
       "       [0, 1, 0],\n",
       "       [0, 0, 1]], dtype=int8)"
      ]
     },
     "execution_count": 10,
     "metadata": {},
     "output_type": "execute_result"
    }
   ],
   "source": [
    "np.eye(3, dtype=\"int8\")"
   ]
  },
  {
   "cell_type": "markdown",
   "id": "92a84d6f",
   "metadata": {},
   "source": [
    "### <font color=blue>Numeric Sequence Generators</font>\n",
    "* Two major methods used in numpy for generating number sequences are,\n",
    "    1. `arange` : Numbers created based on step value. Syntax:\n",
    "    ```\n",
    "    numpy.arange([start, ]stop, [step, ]dtype=None)\n",
    "    # stop is exclusive\n",
    "    ```\n",
    "    2. `linspace` : Numbers created based on size value. Syntax:\n",
    "    ```\n",
    "    numpy.linspace(start, stop, #num inbetween, endpoint=True, retstep=False, dtype=None)\n",
    "    # stop is inclusive\n",
    "    ```"
   ]
  },
  {
   "cell_type": "code",
   "execution_count": 11,
   "id": "7a829dcd",
   "metadata": {},
   "outputs": [
    {
     "data": {
      "text/plain": [
       "range(2, 10, 2)"
      ]
     },
     "execution_count": 11,
     "metadata": {},
     "output_type": "execute_result"
    }
   ],
   "source": [
    "range(2, 10, 2)"
   ]
  },
  {
   "cell_type": "code",
   "execution_count": 12,
   "id": "d09dc48b",
   "metadata": {},
   "outputs": [
    {
     "data": {
      "text/plain": [
       "[2, 4, 6, 8]"
      ]
     },
     "execution_count": 12,
     "metadata": {},
     "output_type": "execute_result"
    }
   ],
   "source": [
    "list(range(2, 10, 2))"
   ]
  },
  {
   "cell_type": "code",
   "execution_count": 13,
   "id": "a41a2c33",
   "metadata": {},
   "outputs": [
    {
     "data": {
      "text/plain": [
       "array([2, 4, 6, 8])"
      ]
     },
     "execution_count": 13,
     "metadata": {},
     "output_type": "execute_result"
    }
   ],
   "source": [
    "# returns numpy.ndarray\n",
    "np.arange(2, 10, 2)"
   ]
  },
  {
   "cell_type": "code",
   "execution_count": 14,
   "id": "3f050c4f",
   "metadata": {},
   "outputs": [
    {
     "data": {
      "text/plain": [
       "array([2. , 4.5, 7. , 9.5])"
      ]
     },
     "execution_count": 14,
     "metadata": {},
     "output_type": "execute_result"
    }
   ],
   "source": [
    "np.arange(2, 10, 2.5)"
   ]
  },
  {
   "cell_type": "code",
   "execution_count": 15,
   "id": "c570e534",
   "metadata": {},
   "outputs": [
    {
     "data": {
      "text/plain": [
       "array([2, 4, 6, 8], dtype=int8)"
      ]
     },
     "execution_count": 15,
     "metadata": {},
     "output_type": "execute_result"
    }
   ],
   "source": [
    "np.arange(2, 10, 2.5, dtype=\"int8\")"
   ]
  },
  {
   "cell_type": "code",
   "execution_count": 16,
   "id": "4a3c11da",
   "metadata": {},
   "outputs": [
    {
     "data": {
      "text/plain": [
       "array([ 2.,  6., 10.])"
      ]
     },
     "execution_count": 16,
     "metadata": {},
     "output_type": "execute_result"
    }
   ],
   "source": [
    "# linearly spaced values\n",
    "np.linspace(2, 10, 3)"
   ]
  },
  {
   "cell_type": "code",
   "execution_count": 17,
   "id": "6689b4c2",
   "metadata": {},
   "outputs": [
    {
     "name": "stdout",
     "output_type": "stream",
     "text": [
      "[0 1 2 3 4]\n",
      "[0.     0.8335 1.667  2.5    3.334  4.168  5.    ]\n"
     ]
    }
   ],
   "source": [
    "print(np.arange(0, 5))   # stop param is exclusive\n",
    "print(np.linspace(0, 5, 7, dtype=\"float16\"))"
   ]
  },
  {
   "cell_type": "markdown",
   "id": "7edb01f9",
   "metadata": {},
   "source": [
    "### <font color=blue>Random Numbers Generator</font>\n",
    "\n",
    "* `random` module of numpy is used to generate various random sequences.\n",
    "* `seed` is a number that sets the initial state of random number generator.\n",
    "* `randn` is used to simulate standard normal distribution."
   ]
  },
  {
   "cell_type": "code",
   "execution_count": 18,
   "id": "54f98f06",
   "metadata": {},
   "outputs": [
    {
     "name": "stdout",
     "output_type": "stream",
     "text": [
      "[0.37454012 0.95071431]\n"
     ]
    }
   ],
   "source": [
    "# seeding so that same random seq can be trigger\n",
    "np.random.seed(42)\n",
    "\n",
    "# 2 random numbers between 0 and 1\n",
    "print(np.random.rand(2))"
   ]
  },
  {
   "cell_type": "code",
   "execution_count": 19,
   "id": "3edc589b",
   "metadata": {},
   "outputs": [
    {
     "data": {
      "text/plain": [
       "array([17, 14, 16])"
      ]
     },
     "execution_count": 19,
     "metadata": {},
     "output_type": "execute_result"
    }
   ],
   "source": [
    "# three random numbers between 10(incl) and 20(excl)\n",
    "np.random.randint(10, 20, 3)"
   ]
  },
  {
   "cell_type": "code",
   "execution_count": 20,
   "id": "28fbc8ff",
   "metadata": {},
   "outputs": [
    {
     "data": {
      "text/plain": [
       "array([-0.91682684, -0.12414718, -2.01096289])"
      ]
     },
     "execution_count": 20,
     "metadata": {},
     "output_type": "execute_result"
    }
   ],
   "source": [
    "np.random.randn(3)"
   ]
  },
  {
   "cell_type": "code",
   "execution_count": 21,
   "id": "6d976c17",
   "metadata": {},
   "outputs": [
    {
     "name": "stdout",
     "output_type": "stream",
     "text": [
      "[ 9.01439315 10.7851595   8.14163067]\n"
     ]
    }
   ],
   "source": [
    "x = 10 + 2*np.random.randn(3) # normal distribution with mean 10 and sd 2\n",
    "print(x)"
   ]
  },
  {
   "cell_type": "markdown",
   "id": "9cfde1c1",
   "metadata": {},
   "source": [
    "## <font color=\"#fe7401\">Reading Data from a file</font>\n",
    "\n",
    "* `loadtxt` is used to read data from a text file or any input data stream."
   ]
  },
  {
   "cell_type": "code",
   "execution_count": 22,
   "id": "ff5ed9f0",
   "metadata": {},
   "outputs": [
    {
     "name": "stdout",
     "output_type": "stream",
     "text": [
      "[[88.25 93.45 72.6  90.9 ]\n",
      " [72.3  78.85 92.15 65.75]\n",
      " [90.5  92.45 89.25 94.5 ]]\n",
      "2 (3, 4)\n"
     ]
    }
   ],
   "source": [
    "x = StringIO('''88.25 93.45 72.60 90.90\n",
    "72.3 78.85 92.15 65.75\n",
    "90.5 92.45 89.25 94.50\n",
    "''')\n",
    "\n",
    "d = np.loadtxt(x,delimiter=' ')\n",
    "\n",
    "print(d)\n",
    "print(d.ndim, d.shape)"
   ]
  },
  {
   "cell_type": "markdown",
   "id": "6d27f832",
   "metadata": {},
   "source": [
    "## <font color=\"#fe7401\"> Array Shape Manipulation </font>\n",
    "\n",
    "* Shape of an array can be changed using `reshape`."
   ]
  },
  {
   "cell_type": "code",
   "execution_count": 23,
   "id": "f269b204",
   "metadata": {},
   "outputs": [
    {
     "name": "stdout",
     "output_type": "stream",
     "text": [
      "[18 34 77 97 89 58 20 62]\n",
      "\n",
      "[[18 34 77 97]\n",
      " [89 58 20 62]]\n",
      "\n",
      "[[[18 34]\n",
      "  [77 97]]\n",
      "\n",
      " [[89 58]\n",
      "  [20 62]]]\n"
     ]
    }
   ],
   "source": [
    "np.random.seed(100)\n",
    "x = np.random.randint(10, 100, 8)\n",
    "print(x, end='\\n\\n')\n",
    "\n",
    "y = x.reshape(2,4)\n",
    "print(y, end=\"\\n\\n\")\n",
    "\n",
    "z = x.reshape(2,2,2)\n",
    "print(z)"
   ]
  },
  {
   "cell_type": "code",
   "execution_count": 24,
   "id": "15e5a4aa",
   "metadata": {},
   "outputs": [
    {
     "name": "stdout",
     "output_type": "stream",
     "text": [
      "cannot reshape array of size 4 into shape (2,3)\n"
     ]
    }
   ],
   "source": [
    "# size = shape(dim0 x dim1 x ... xdimN) this must obey\n",
    "try:\n",
    "    np.arange(4).reshape(2, 3)\n",
    "except ValueError as e:\n",
    "    print(e)"
   ]
  },
  {
   "cell_type": "markdown",
   "id": "0c3c442d",
   "metadata": {},
   "source": [
    "### <font color=\"blue\">Stacking arrays</font>\n",
    "\n",
    "1. Vertically\n",
    "    * Two or more arrays can be joined vertically using the generic `vstack` method.\n",
    "2. Horizontally\n",
    "    * Two or more arrays can be joined horizontally using the generic `hstack` method."
   ]
  },
  {
   "cell_type": "code",
   "execution_count": 25,
   "id": "edce1c93",
   "metadata": {},
   "outputs": [
    {
     "data": {
      "text/plain": [
       "array([[-1,  1],\n",
       "       [-3,  3],\n",
       "       [-2,  2],\n",
       "       [-4,  4]])"
      ]
     },
     "execution_count": 25,
     "metadata": {},
     "output_type": "execute_result"
    }
   ],
   "source": [
    "x = np.array([[-1, 1], [-3, 3]])\n",
    "y = np.array([[-2, 2], [-4, 4]])\n",
    "np.vstack((x,y))"
   ]
  },
  {
   "cell_type": "code",
   "execution_count": 26,
   "id": "d5b48664",
   "metadata": {},
   "outputs": [
    {
     "data": {
      "text/plain": [
       "array([[-1,  1, -2,  2, -5,  5],\n",
       "       [-3,  3, -4,  4, -6,  6]])"
      ]
     },
     "execution_count": 26,
     "metadata": {},
     "output_type": "execute_result"
    }
   ],
   "source": [
    "x = np.array([[-1, 1], [-3, 3]])\n",
    "y = np.array([[-2, 2], [-4, 4]])\n",
    "z = np.array([[-5, 5], [-6, 6]])\n",
    "np.hstack((x,y,z))"
   ]
  },
  {
   "cell_type": "markdown",
   "id": "c4d1edad",
   "metadata": {},
   "source": [
    "### <font color=\"blue\">Splitting arrays</font>\n",
    "\n",
    "1. Vertically\n",
    "    * Arrays can be split vertically using the generic `vsplit` method.\n",
    "    * It is also possible to split at specific row numbers using vsplit.\n",
    "2. Horizontally\n",
    "    * Arrays can be split horizontally using the generic `hsplit` method."
   ]
  },
  {
   "cell_type": "code",
   "execution_count": 27,
   "id": "97d1bac7",
   "metadata": {},
   "outputs": [
    {
     "name": "stdout",
     "output_type": "stream",
     "text": [
      "[[ 0  1  2  3  4]\n",
      " [ 5  6  7  8  9]\n",
      " [10 11 12 13 14]]\n",
      "\n",
      "[[15 16 17 18 19]\n",
      " [20 21 22 23 24]\n",
      " [25 26 27 28 29]]\n",
      "\n",
      "(3, 5)\n"
     ]
    }
   ],
   "source": [
    "x = np.arange(30).reshape(6, 5)\n",
    "res = np.vsplit(x, 2)\n",
    "print(res[0], end='\\n\\n')\n",
    "print(res[1], end=\"\\n\\n\")\n",
    "print(res[0].shape)"
   ]
  },
  {
   "cell_type": "code",
   "execution_count": 28,
   "id": "d525bd56",
   "metadata": {},
   "outputs": [
    {
     "name": "stdout",
     "output_type": "stream",
     "text": [
      "[[0 1 2 3 4]\n",
      " [5 6 7 8 9]]\n",
      "\n",
      "[[10 11 12 13 14]\n",
      " [15 16 17 18 19]\n",
      " [20 21 22 23 24]]\n",
      "\n",
      "[[25 26 27 28 29]]\n"
     ]
    }
   ],
   "source": [
    "# vsplit using row number\n",
    "x = np.arange(30).reshape(6, 5)\n",
    "res = np.vsplit(x, (2, 5))\n",
    "print(res[0], end='\\n\\n')\n",
    "print(res[1], end='\\n\\n')\n",
    "print(res[2])"
   ]
  },
  {
   "cell_type": "code",
   "execution_count": 29,
   "id": "206d1ecf",
   "metadata": {},
   "outputs": [
    {
     "name": "stdout",
     "output_type": "stream",
     "text": [
      "[[0 1]\n",
      " [5 6]]\n",
      "\n",
      "[[2 3]\n",
      " [7 8]]\n",
      "\n",
      "[[4]\n",
      " [9]]\n"
     ]
    }
   ],
   "source": [
    "x = np.arange(10).reshape(2, 5)\n",
    "res = np.hsplit(x, (2,4))\n",
    "print(res[0], end='\\n\\n')\n",
    "print(res[1], end='\\n\\n')\n",
    "print(res[2])"
   ]
  },
  {
   "cell_type": "markdown",
   "id": "706fcb3f",
   "metadata": {},
   "source": [
    "## <font color=\"#fe7401\"> Basic Operations on Arrays  </font>\n",
    "\n",
    "* Operations in Numpy are carried out element wise.\n",
    "* Hence the expression x + 10, increases every element of array x by 10."
   ]
  },
  {
   "cell_type": "code",
   "execution_count": 30,
   "id": "22e8f02a",
   "metadata": {},
   "outputs": [
    {
     "name": "stdout",
     "output_type": "stream",
     "text": [
      "[[1 2 3]\n",
      " [4 5 6]]\n",
      "\n",
      "[[11 12 13]\n",
      " [14 15 16]]\n",
      "\n",
      "[[ 3  6  9]\n",
      " [12 15 18]]\n",
      "\n",
      "[[1 0 1]\n",
      " [0 1 0]]\n"
     ]
    }
   ],
   "source": [
    "x = np.arange(1, 7).reshape(2,3)\n",
    "print(x, end=\"\\n\\n\")\n",
    "print(x + 10, end='\\n\\n')\n",
    "print(x * 3, end='\\n\\n')\n",
    "print(x % 2)"
   ]
  },
  {
   "cell_type": "code",
   "execution_count": 31,
   "id": "de9b5c39",
   "metadata": {},
   "outputs": [
    {
     "name": "stdout",
     "output_type": "stream",
     "text": [
      "[[ 3 -3]\n",
      " [ 3 -3]]\n",
      "\n",
      "[[ -4  -4]\n",
      " [-10 -10]]\n"
     ]
    }
   ],
   "source": [
    "# Operations between arrays also happen element wise.\n",
    "x = np.array([[-1, 1], [-2, 2]])\n",
    "y = np.array([[4, -4], [5, -5]])\n",
    "print(x + y, end='\\n\\n')\n",
    "print(x * y)"
   ]
  },
  {
   "cell_type": "markdown",
   "id": "00ccc744",
   "metadata": {},
   "source": [
    "* It is also possible to perform operations on arrays with varying size and shape.\n",
    "* This is due Broadcasting feature exhibited by numpy arrays."
   ]
  },
  {
   "cell_type": "markdown",
   "id": "8337bc9f",
   "metadata": {},
   "source": [
    "### <font color=\"blue\">Broadcasting in NumPy</font>\n",
    "\n",
    "* Element wise operations between arrays are possible only when they have the same shape or compatible for Broadcasting.\n",
    "* Steps followed to verify the feasibility of Broadcasting between arrays are:\n",
    "    1. Initially, compare the dimensions of all arrays.\n",
    "    2. If dimensions do not match, `prepend 1's` to shape of a smaller array so that it matches dimensions of a larger array.\n",
    "    3. Start comparing array shapes from the `last dimension` and move backward.\n",
    "    4. If the shape of both arrays are equal or either of it has a shape of 1, continue the comparison.\n",
    "    5. Else at any dimension, if step 4 fails, broadcasting between arrays is not feasible.\n",
    "* Finally, the resulted broadcasting array shape would be maximum of two compared shapes in each dimension.\n",
    "* Below examples show feasibility of broadcasting between two arrays, having shape s1 and s2 respectively.\n",
    "* Examples\n",
    "```\n",
    "Given: s1 = (4, 3); s2 = (3,)\n",
    "Step 1 and 2: s1 = (4, 3); s2 = (1, 3)\n",
    "Step 3 and 4: pass in 2 dimensions\n",
    "Result : Broadcasting feasible;\n",
    "         resulted array shape - (4,3) \n",
    "```\n",
    "```\n",
    "Given: s1 = (5,); s2 = (5,4,3)\n",
    "Step 1 and 2: s1 = (1, 1, 5); s2 = (5, 4, 3)\n",
    "Step 3 and 4: fail in last dimension. ( 5 != 3)\n",
    "Result : Broadcasting not feasible. \n",
    "```"
   ]
  },
  {
   "cell_type": "code",
   "execution_count": 32,
   "id": "9d29dd8e",
   "metadata": {
    "scrolled": true
   },
   "outputs": [
    {
     "name": "stdout",
     "output_type": "stream",
     "text": [
      "[[0 1]\n",
      " [2 3]\n",
      " [4 5]]\n",
      "\n",
      "[0 1]\n",
      "\n",
      "[[0 1]\n",
      " [0 3]\n",
      " [0 5]]\n",
      "\n",
      "(3, 2)\n"
     ]
    }
   ],
   "source": [
    "x = np.arange(6).reshape(3, 2)\n",
    "y = np.arange(2).reshape(2)\n",
    "z = x * y\n",
    "\n",
    "print(x, end=\"\\n\\n\")\n",
    "print(y, end=\"\\n\\n\")\n",
    "print(z, end=\"\\n\\n\")\n",
    "print(z.shape)"
   ]
  },
  {
   "cell_type": "code",
   "execution_count": 33,
   "id": "4f3abe7e",
   "metadata": {},
   "outputs": [
    {
     "name": "stdout",
     "output_type": "stream",
     "text": [
      "(9, 2, 3, 5)\n"
     ]
    }
   ],
   "source": [
    "x = np.arange(9*2*1*5).reshape(9, 2, 1, 5)\n",
    "y =  np.arange(3).reshape(3, 1)\n",
    "z = x + y\n",
    "print(z.shape)"
   ]
  },
  {
   "cell_type": "code",
   "execution_count": 34,
   "id": "89eca0b7",
   "metadata": {},
   "outputs": [
    {
     "name": "stdout",
     "output_type": "stream",
     "text": [
      "operands could not be broadcast together with shapes (9,2,1,5) (1,3) \n"
     ]
    }
   ],
   "source": [
    "x = np.arange(90).reshape(9, 2, 1, 5)\n",
    "y =  np.arange(3).reshape(1, 3)\n",
    "\n",
    "try: \n",
    "    z = x + y\n",
    "except ValueError as err:\n",
    "    print(err)"
   ]
  },
  {
   "cell_type": "markdown",
   "id": "39ab656d",
   "metadata": {},
   "source": [
    "### <font color=\"blue\"> NumPy Universal Functions </font>\n",
    "\n",
    "* Numpy provides a lot of mathematical functions, in the form of Universal functions.\n",
    "* To know more on Universal functions, refer this [link](https://numpy.org/doc/stable/reference/ufuncs.html)."
   ]
  },
  {
   "cell_type": "code",
   "execution_count": 35,
   "id": "4404dadb",
   "metadata": {},
   "outputs": [
    {
     "name": "stdout",
     "output_type": "stream",
     "text": [
      "[[0 1]\n",
      " [4 9]]\n",
      "\n",
      "[[0.         0.84147098]\n",
      " [0.90929743 0.14112001]]\n",
      "\n",
      "[[2 3]\n",
      " [4 5]]\n"
     ]
    }
   ],
   "source": [
    "x = np.array([[0,1], [2,3]])\n",
    "print(np.square(x), end='\\n\\n')\n",
    "print(np.sin(x), end=\"\\n\\n\")\n",
    "print(np.add(x, 2))"
   ]
  },
  {
   "cell_type": "markdown",
   "id": "d321a702",
   "metadata": {},
   "source": [
    "### <font color=\"blue\">NumPy Array Methods</font>\n",
    "\n",
    "* Many of the universal functions are available as methods of `ndarray` class.\n",
    "* By default `sum` method adds all array elements.\n",
    "* It is also possible to apply `sum` method on elements of a specific dimension, using `axis` argument."
   ]
  },
  {
   "cell_type": "code",
   "execution_count": 36,
   "id": "640ed146",
   "metadata": {
    "scrolled": false
   },
   "outputs": [
    {
     "name": "stdout",
     "output_type": "stream",
     "text": [
      "[[0 1]\n",
      " [2 3]]\n",
      "\n",
      "6\n",
      "\n",
      "[2 4]\n",
      "\n",
      "[1 5]\n",
      "[1 5]\n",
      "\n"
     ]
    }
   ],
   "source": [
    "# 1/-1 x 0 -> R x C\n",
    "x = np.array([[0,1], [2, 3]])\n",
    "print(x, end=\"\\n\\n\")\n",
    "print(x.sum(), end='\\n\\n')\n",
    "print(x.sum(axis=0), end='\\n\\n')\n",
    "print(x.sum(axis=1))\n",
    "print(x.sum(-1), end='\\n\\n')"
   ]
  },
  {
   "cell_type": "code",
   "execution_count": null,
   "id": "6c070f57",
   "metadata": {},
   "outputs": [],
   "source": []
  },
  {
   "cell_type": "code",
   "execution_count": 37,
   "id": "da9593f3",
   "metadata": {
    "scrolled": true
   },
   "outputs": [
    {
     "name": "stdout",
     "output_type": "stream",
     "text": [
      "[[ 7 15 11  8  7]\n",
      " [19 11 11  4  8]\n",
      " [ 3  2 12  6  2]]\n",
      "[1 0 2 0 1]\n"
     ]
    }
   ],
   "source": [
    "np.random.seed(42)\n",
    "x = np.random.randint(1, 20, 15).reshape(3, 5)\n",
    "print(x)\n",
    "\n",
    "# Return indices of the maximum values along the given axis.\n",
    "print(x.argmax(axis=0)) # column-wise"
   ]
  },
  {
   "cell_type": "markdown",
   "id": "68eb8ed5",
   "metadata": {},
   "source": [
    "### <font color=blue>Converting numpy.ndarray into list</font>\n",
    "\n",
    "* This can be achieved using `tolist()` method.\n",
    "* Return a copy of the array data as a (nested) Python list."
   ]
  },
  {
   "cell_type": "code",
   "execution_count": 38,
   "id": "d8a7f81e",
   "metadata": {},
   "outputs": [
    {
     "name": "stdout",
     "output_type": "stream",
     "text": [
      "[[5 1 6]\n",
      " [9 1 3]]\n",
      "<class 'list'>\n",
      "[[5, 1, 6], [9, 1, 3], 'Hello']\n"
     ]
    }
   ],
   "source": [
    "x = np.random.randint(1, 10, 6).reshape(2, 3)\n",
    "print(x)\n",
    "\n",
    "y = x.tolist()\n",
    "print(type(y))\n",
    "y.append(\"Hello\")\n",
    "print(y)"
   ]
  },
  {
   "cell_type": "markdown",
   "id": "63bc6f51",
   "metadata": {},
   "source": [
    "## <font color=\"#fe7401\">Indexing, Slicing, Iterating Numpy Arrays</font>\n",
    "\n",
    "* Slicing refers to extracting a portion of existing array.\n",
    "* This can be achieved with a slice object.\n",
    "* A slice object is of the form `[start:end:step]`. All three are optional.\n",
    "* Having only a single number inside square brackets refer to start index.\n",
    "* Two slice objects, one for each dimension, are required to slice a 2-D array. They are separated by a `comma (,)` and having only a single slice object inside square brackets refers to first dimension.\n",
    "* All elements of a **single dimension** can be referred with a `colon (:)`.\n",
    "* For slicing an `n` dimensional ndarray, n slice objects are required.\n",
    "* Having only a single slice object refers to first dimension."
   ]
  },
  {
   "cell_type": "code",
   "execution_count": 39,
   "id": "976116cf",
   "metadata": {},
   "outputs": [
    {
     "name": "stdout",
     "output_type": "stream",
     "text": [
      "10\n",
      "[10 15 20 25 30]\n",
      "[10 25]\n"
     ]
    }
   ],
   "source": [
    "x = np.array([5, 10, 15, 20, 25, 30, 35])\n",
    "print(x[1])  # Indexing\n",
    "print(x[1:6]) # Slicing\n",
    "print(x[1:6:3]) # Slicing"
   ]
  },
  {
   "cell_type": "code",
   "execution_count": 40,
   "id": "28343270",
   "metadata": {},
   "outputs": [
    {
     "name": "stdout",
     "output_type": "stream",
     "text": [
      "[[4 5]]\n",
      "[3 4 5]\n",
      "[1 4]\n",
      "[4 5]\n"
     ]
    }
   ],
   "source": [
    "y = np.array([[0, 1, 2],\n",
    "              [3, 4, 5]])\n",
    "print(y[1:2, 1:3]) \n",
    "print(y[1])   \n",
    "print(y[:, 1]) \n",
    "print(y[1][1:])"
   ]
  },
  {
   "cell_type": "code",
   "execution_count": 41,
   "id": "76f037d3",
   "metadata": {},
   "outputs": [
    {
     "name": "stdout",
     "output_type": "stream",
     "text": [
      "(3, 2, 2)\n",
      "[4 5]\n",
      "[[-5  5]\n",
      " [-9  9]]\n",
      "[[-7  7]\n",
      " [-9  9]]\n"
     ]
    }
   ],
   "source": [
    "z = np.array([[[-1, 1], [-2, 2]],\n",
    "              [[-4, 4], [-5, 5]],\n",
    "              [[-7, 7], [-9, 9]]])\n",
    "print(z.shape)\n",
    "print(z[1,:,1]) # index 1 element in row of index 1\n",
    "print(z[1:,1,:]) # From all outer rows except the first, select 1st index element (which itself is an array) completely.\n",
    "print(z[2]) # print 2nd index element"
   ]
  },
  {
   "cell_type": "markdown",
   "id": "7cc09ee4",
   "metadata": {},
   "source": [
    "### <font color=\"blue\">Iterating numpy Arrays</font>\n",
    "* `for` loop can be used to iterate over every dimensional element.\n",
    "* `nditer` method of numpy creates an iterator, which enable accessing each element one after the other."
   ]
  },
  {
   "cell_type": "code",
   "execution_count": 42,
   "id": "5a4f218a",
   "metadata": {},
   "outputs": [
    {
     "name": "stdout",
     "output_type": "stream",
     "text": [
      "Row : [-1  1]\n",
      "Row : [-2  2]\n"
     ]
    }
   ],
   "source": [
    "x = np.array([[-1, 1], [-2, 2]])\n",
    "for row in x:\n",
    "    print('Row :',row)"
   ]
  },
  {
   "cell_type": "code",
   "execution_count": 43,
   "id": "6f515d15",
   "metadata": {},
   "outputs": [
    {
     "name": "stdout",
     "output_type": "stream",
     "text": [
      "0\n",
      "1\n",
      "2\n",
      "3\n"
     ]
    }
   ],
   "source": [
    "x = np.array([[0,1], [2, 3]])\n",
    "for a in np.nditer(x):\n",
    "    print(a)"
   ]
  },
  {
   "cell_type": "markdown",
   "id": "ecbe3299",
   "metadata": {},
   "source": [
    "### <font color=blue>Boolean Indexing</font>\n",
    "* Checking if every element of an array satisfies a condition, results in a Boolean array.\n",
    "* This Boolean array can be used as index to filter elements that satisfy the condition."
   ]
  },
  {
   "cell_type": "code",
   "execution_count": 44,
   "id": "8f44fbac",
   "metadata": {},
   "outputs": [
    {
     "name": "stdout",
     "output_type": "stream",
     "text": [
      "[[0 1 2 3 4]\n",
      " [5 6 7 8 9]]\n",
      "[[ True False  True False  True]\n",
      " [False  True False  True False]]\n",
      "[0 2 4 6 8]\n"
     ]
    }
   ],
   "source": [
    "x = np.arange(10).reshape(2,5)\n",
    "print(x)\n",
    "\n",
    "condition = x % 2 == 0 \n",
    "print(condition)\n",
    "\n",
    "print(x[condition])"
   ]
  },
  {
   "cell_type": "markdown",
   "id": "27b6b92f",
   "metadata": {},
   "source": [
    "## <font color=#fe7401>QnA</font>\n",
    "\n",
    "1. Which of the following characters are used to represent an unordered list? \n",
    "    * All of the options (*, +, -)\n",
    "2. Which of the following NumPy method is used to simulate a binomial distribution?\n",
    "    * np.random.binomial\n",
    "3. What is the output of the following code?\n",
    "    ```\n",
    "    import numpy as np\n",
    "\n",
    "    x = np.arange(4).reshape(2,2)\n",
    "    y = np.vsplit(x,2)\n",
    "    print(y[0])\n",
    "    # Output: [[0 1]]\n",
    "    ```\n",
    "4. What is the output of the following code?\n",
    "    ```\n",
    "    import numpy as np\n",
    "\n",
    "    x = np.arange(12).reshape(3,4)\n",
    "    print(x[-1:,].shape)\n",
    "    # Output: (1, 4)\n",
    "    ```\n",
    "5. Array x is defined below. Determine the number of elements it contains in the second dimension?\n",
    "    ```\n",
    "    import numpy as np\n",
    "\n",
    "    x = np.arange(90).reshape(3, 15, 2)\n",
    "    ```\n",
    "    * 15\n",
    "6. What is the output of the following code?\n",
    "    ```\n",
    "    import numpy as np\n",
    "\n",
    "    y = np.array([3+4j, 0.4+7.8j])\n",
    "    print(y.dtype)\n",
    "    # Output: complex128\n",
    "    ```\n",
    "7. What is the output of the following code?\n",
    "    ```\n",
    "    import numpy as np\n",
    "\n",
    "    x = np.arange(30).reshape(5,6)\n",
    "    print(x.argmax(axis=1))\n",
    "    # Output: [5 5 5 5 5]\n",
    "    ```\n",
    "8. What is the output of the following code?\n",
    "    ```\n",
    "    import numpy as np\n",
    "\n",
    "    print(np.linspace(1, 10, 5))\n",
    "    print(np.arange(1, 10, 5))\n",
    "    # Output: [ 1.    3.25  5.5   7.75 10.  ]\n",
    "              [1 6]\n",
    "    ```\n",
    "9. What is the output of the following code?\n",
    "    ```\n",
    "    import numpy as np\n",
    "\n",
    "    z = np.eye(2) #returns identity matrix\n",
    "    print(z)\n",
    "    # Output: [[1. 0.]\n",
    "              [0. 1.]]\n",
    "    ```\n",
    "10. Which of the following method is used to read data from a text file?\n",
    "    * loadtxt\n",
    "11. Which of the following is true about NumPy array data elements?\n",
    "    * Data elements are of the same type and of fixed size\n",
    "12. What is the output of the following code?\n",
    "    ```\n",
    "    import numpy as np\n",
    "\n",
    "    x = np.arange(4).reshape(2,2)\n",
    "    print(x.tolist())\n",
    "    # Output: [[0, 1], [2, 3]]\n",
    "    ```\n",
    "13. What is the shape of the broadcasting array resulted from arrays with shapes (9, 2, 1, 5) and (3, 1)?\n",
    "    * Broadcasting is feasible\n",
    "14. What is the output of the following code?\n",
    "    ```\n",
    "    import numpy as np\n",
    "\n",
    "    x = np.arange(4).reshape(2,2)\n",
    "    y = np.arange(4, 8).reshape(2,2)\n",
    "\n",
    "    print(np.hstack((x,y)))\n",
    "    # Output: [[0 1 4 5]\n",
    "              [2 3 6 7]]\n",
    "    ```\n",
    "15. Which of the following attribute determines the number of dimensions of a ndarray?\n",
    "    * ndim\n",
    "16. Is broadcasting feasible between two arrays whose shapes are (5, 8, 1) and (4, 2)?\n",
    "    * No\n",
    "17. What is the output of the following code?\n",
    "    ```\n",
    "    import numpy as np\n",
    "\n",
    "    x = np.arange(4).reshape(2,2)\n",
    "    print(np.isfinite(x))   #Test element-wise for finiteness (not infinity and not Not a Number).\n",
    "    # Output: [[ True  True][ True  True]]\n",
    "    ```\n",
    "18. It is possible to embed code snippets in markdown.\n",
    "    * True\n",
    "19. What is the output of the following code?\n",
    "    ```\n",
    "    import numpy as np\n",
    "\n",
    "    print(np.array(([1, 2], (3,4))).shape)\n",
    "    # Output: (2, 2)\n",
    "    ```\n",
    "20. What is the output of the following code?\n",
    "    ```\n",
    "    import numpy as np\n",
    "\n",
    "    x = np.array([[0, 1], [1, 1], [2, 2]])\n",
    "    y = x.sum(-1)\n",
    "    print(x[y < 2, :])\n",
    "    # Output: [[0, 1]]\n",
    "    ```"
   ]
  }
 ],
 "metadata": {
  "kernelspec": {
   "display_name": "Python 3 (ipykernel)",
   "language": "python",
   "name": "python3"
  },
  "language_info": {
   "codemirror_mode": {
    "name": "ipython",
    "version": 3
   },
   "file_extension": ".py",
   "mimetype": "text/x-python",
   "name": "python",
   "nbconvert_exporter": "python",
   "pygments_lexer": "ipython3",
   "version": "3.10.5"
  }
 },
 "nbformat": 4,
 "nbformat_minor": 5
}
