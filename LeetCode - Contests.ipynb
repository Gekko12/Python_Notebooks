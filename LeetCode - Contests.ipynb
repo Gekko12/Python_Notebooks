{
 "cells": [
  {
   "cell_type": "markdown",
   "metadata": {},
   "source": [
    "# <font color=\"hotpink\"> LeetCode - Contests </font>"
   ]
  },
  {
   "cell_type": "markdown",
   "metadata": {},
   "source": [
    "## <font color=\"blue\">Weekly Contest 260 </font>"
   ]
  },
  {
   "cell_type": "markdown",
   "metadata": {},
   "source": [
    "## 5881. Maximum Difference Between Increasing Elements\n",
    "Given a 0-indexed integer array nums of size n, find the maximum difference between nums[i] and nums[j] (i.e., nums[j] - nums[i]), such that 0 <= i < j < n and nums[i] < nums[j].\n",
    "\n",
    "Return the maximum difference. If no such i and j exists, return -1.\n",
    "\n",
    "*Example 1:* <br>\n",
    "Input: nums = [7,1,5,4] <br>\n",
    "Output: 4 <br>\n",
    "Explanation: The maximum difference occurs with i = 1 and j = 2, nums[j] - nums[i] = 5 - 1 = 4. <br>\n",
    "Note that with i = 1 and j = 0, the difference nums[j] - nums[i] = 7 - 1 = 6, but i > j, so it is not valid.\n",
    "\n",
    "*Example 2:* <br>\n",
    "Input: nums = [9,4,3,2] <br>\n",
    "Output: -1 <br>\n",
    "Explanation: There is no i and j such that i < j and nums[i] < nums[j].\n",
    "\n",
    "*Example 3:* <br>\n",
    "Input: nums = [1,5,2,10] <br>\n",
    "Output: 9 <br>\n",
    "Explanation: The maximum difference occurs with i = 0 and j = 3, nums[j] - nums[i] = 10 - 1 = 9.\n",
    " \n",
    "*Constraints:*\n",
    "* n == nums.length\n",
    "* 2 <= n <= 1000\n",
    "* 1 <= nums[i] <= $10^9$"
   ]
  },
  {
   "cell_type": "code",
   "execution_count": 23,
   "metadata": {},
   "outputs": [
    {
     "name": "stdout",
     "output_type": "stream",
     "text": [
      "-1\n",
      "9\n"
     ]
    }
   ],
   "source": [
    "class Solution(object):\n",
    "    def maximumDifference(self, nums):\n",
    "        \"\"\"\n",
    "        :type nums: List[int]\n",
    "        :rtype: int\n",
    "        \"\"\"\n",
    "        len_ = len(nums)\n",
    "        res = -1\n",
    "\n",
    "        for i in range(len_-1):\n",
    "            differ = -1\n",
    "            \n",
    "            for j in range(i, len_):\n",
    "                if nums[i] < nums[j]:\n",
    "                    differ = nums[j] - nums[i]\n",
    "\n",
    "                if differ > res:\n",
    "                    res = differ\n",
    "\n",
    "        return res\n",
    "\n",
    "    \n",
    "    \n",
    "# main\n",
    "nums = [9,4,3,2]\n",
    "#nums = [7,1,5,4]\n",
    "print(Solution.maximumDifference(Solution, nums))\n",
    "\n",
    "nums = [1,5,2,10]\n",
    "obj = Solution()\n",
    "print(obj.maximumDifference(nums))"
   ]
  },
  {
   "cell_type": "markdown",
   "metadata": {},
   "source": [
    "## <font color=\"blue\">Biweekly Contest 62</font>"
   ]
  },
  {
   "cell_type": "markdown",
   "metadata": {},
   "source": [
    "## 5871. Convert 1D Array Into 2D Array\n",
    "You are given a 0-indexed 1-dimensional (1D) integer array original, and two integers, m and n. You are tasked with creating a 2-dimensional (2D) array with m rows and n columns using all the elements from original.\n",
    "\n",
    "The elements from indices 0 to n - 1 (inclusive) of original should form the first row of the constructed 2D array, the elements from indices n to 2 * n - 1 (inclusive) should form the second row of the constructed 2D array, and so on.\n",
    "\n",
    "Return an m x n 2D array constructed according to the above procedure, or an empty 2D array if it is impossible.\n",
    "\n",
    " \n",
    "\n",
    "*Example 1:*\n",
    "<img src=\"https://assets.leetcode.com/uploads/2021/08/26/image-20210826114243-1.png\" alt=\"ex1 img\" width=400 />\n",
    "Input: original = [1,2,3,4], m = 2, n = 2 <br>\n",
    "Output: [[1,2],[3,4]] <br>\n",
    "Explanation: <br>\n",
    "The constructed 2D array should contain 2 rows and 2 columns. <br>\n",
    "The first group of n=2 elements in original, [1,2], becomes the first row in the constructed 2D array. <br>\n",
    "The second group of n=2 elements in original, [3,4], becomes the second row in the constructed 2D array. <br>\n",
    "\n",
    "\n",
    "*Example 2:* <br>\n",
    "Input: original = [1,2,3], m = 1, n = 3 <br>\n",
    "Output: [[1,2,3]] <br>\n",
    "Explanation: <br>\n",
    "The constructed 2D array should contain 1 row and 3 columns. <br>\n",
    "Put all three elements in original into the first row of the constructed 2D array. <br>\n",
    "\n",
    "\n",
    "*Example 3:* <br>\n",
    "Input: original = [1,2], m = 1, n = 1 <br>\n",
    "Output: [] <br>\n",
    "Explanation: <br>\n",
    "There are 2 elements in original. <br>\n",
    "It is impossible to fit 2 elements in a 1x1 2D array, so return an empty 2D array.\n",
    "\n",
    "\n",
    "*Example 4:* <br>\n",
    "Input: original = [3], m = 1, n = 2 <br>\n",
    "Output: [] <br>\n",
    "Explanation: <br>\n",
    "There is 1 element in original. <br>\n",
    "It is impossible to make 1 element fill all the spots in a 1x2 2D array, so return an empty 2D array. <br>\n",
    " \n",
    "\n",
    "*Constraints:*\n",
    "* $1 <= original.length <= 5 * 10^4$\n",
    "* $1 <= original[i] <= 10^5$\n",
    "* $1 <= m, n <= 4 * 10^4$"
   ]
  },
  {
   "cell_type": "code",
   "execution_count": 20,
   "metadata": {},
   "outputs": [
    {
     "name": "stdout",
     "output_type": "stream",
     "text": [
      "[[1, 2, 3], [4, 5, 6]]\n"
     ]
    }
   ],
   "source": [
    "class Solution(object):\n",
    "    def construct2DArray(self, original, m, n):\n",
    "        \"\"\"\n",
    "        :type original: List[int]\n",
    "        :type m: int\n",
    "        :type n: int\n",
    "        :rtype: List[List[int]]\n",
    "        \"\"\"\n",
    "        len_ = len(original)\n",
    "        \n",
    "        if len_ != m * n:\n",
    "            return []\n",
    "        \n",
    "        res = []\n",
    "        for row in range(m):\n",
    "            low = row * n\n",
    "            upper = low + n\n",
    "            res.append(original[low : upper])\n",
    "        \n",
    "        return res\n",
    "\n",
    "\n",
    "    \n",
    "if __name__ == '__main__':\n",
    "    original = [1,2,3,4,5,6]\n",
    "    m = 2\n",
    "    n = 3\n",
    "    \n",
    "    obj = Solution()\n",
    "    print(obj.construct2DArray(original, m, n))"
   ]
  },
  {
   "cell_type": "markdown",
   "metadata": {},
   "source": [
    "## 2023. Number of Pairs of Strings With Concatenation Equal to Target\n",
    "Given an array of digit strings nums and a digit string target, return the number of pairs of indices (i, j) (where i != j) such that the concatenation of nums[i] + nums[j] equals target.\n",
    "\n",
    " ***\n",
    "*Example 1:* <br>\n",
    "Input: nums = [\"777\",\"7\",\"77\",\"77\"], target = \"7777\" <br>\n",
    "Output: 4 <br>\n",
    "Explanation: Valid pairs are: \n",
    "- (0, 1): \"777\" + \"7\"\n",
    "- (1, 0): \"7\" + \"777\"\n",
    "- (2, 3): \"77\" + \"77\" \n",
    "- (3, 2): \"77\" + \"77\"\n",
    "\n",
    "***\n",
    "*Example 2:* <br>\n",
    "Input: nums = [\"123\",\"4\",\"12\",\"34\"], target = \"1234\" <br>\n",
    "Output: 2 <br>\n",
    "Explanation: Valid pairs are: \n",
    "- (0, 1): \"123\" + \"4\" \n",
    "- (2, 3): \"12\" + \"34\" \n",
    "\n",
    "***\n",
    "*Example 3:* <br>\n",
    "Input: nums = [\"1\",\"1\",\"1\"], target = \"11\" <br>\n",
    "Output: 6 <br>\n",
    "Explanation: Valid pairs are: <br>\n",
    "- (0, 1): \"1\" + \"1\"\n",
    "- (1, 0): \"1\" + \"1\"\n",
    "- (0, 2): \"1\" + \"1\"\n",
    "- (2, 0): \"1\" + \"1\"\n",
    "- (1, 2): \"1\" + \"1\"\n",
    "- (2, 1): \"1\" + \"1\"\n",
    " \n",
    "***\n",
    "*Constraints:*\n",
    "* 2 <= nums.length <= 100\n",
    "* 1 <= nums[i].length <= 100\n",
    "* 2 <= target.length <= 100\n",
    "* nums[i] and target consist of digits.\n",
    "* nums[i] and target do not have leading zeros."
   ]
  },
  {
   "cell_type": "code",
   "execution_count": 31,
   "metadata": {},
   "outputs": [
    {
     "name": "stdout",
     "output_type": "stream",
     "text": [
      "2\n"
     ]
    }
   ],
   "source": [
    "class Solution(object):\n",
    "    def numOfPairs(self, nums, target):\n",
    "        \"\"\"\n",
    "        :type nums: List[str]\n",
    "        :type target: str\n",
    "        :rtype: int\n",
    "        \"\"\"\n",
    "        count = 0\n",
    "        len_ = len(nums)\n",
    "        \n",
    "        for i in range(len_):\n",
    "            for j in range(len_):\n",
    "                if i != j and nums[i]+nums[j] == target:\n",
    "                    count += 1\n",
    "        \n",
    "        return count\n",
    "    \n",
    "\n",
    "    \n",
    "# main\n",
    "obj = Solution()\n",
    "nums = [\"123\",\"4\",\"12\",\"34\"]\n",
    "target = \"1234\"\n",
    "\n",
    "print(obj.numOfPairs(nums, target))"
   ]
  },
  {
   "cell_type": "code",
   "execution_count": null,
   "metadata": {},
   "outputs": [],
   "source": []
  }
 ],
 "metadata": {
  "kernelspec": {
   "display_name": "Python 3",
   "language": "python",
   "name": "python3"
  },
  "language_info": {
   "codemirror_mode": {
    "name": "ipython",
    "version": 3
   },
   "file_extension": ".py",
   "mimetype": "text/x-python",
   "name": "python",
   "nbconvert_exporter": "python",
   "pygments_lexer": "ipython3",
   "version": "3.8.10"
  }
 },
 "nbformat": 4,
 "nbformat_minor": 4
}
