{
 "cells": [
  {
   "cell_type": "markdown",
   "metadata": {},
   "source": [
    "# <font color=\"hotpink\"> LeetCode - Contests </font>"
   ]
  },
  {
   "cell_type": "markdown",
   "metadata": {},
   "source": [
    "## <font color=\"blue\">Weekly Contest 260 </font>"
   ]
  },
  {
   "cell_type": "markdown",
   "metadata": {},
   "source": [
    "## 5881. Maximum Difference Between Increasing Elements\n",
    "Given a 0-indexed integer array nums of size n, find the maximum difference between nums[i] and nums[j] (i.e., nums[j] - nums[i]), such that 0 <= i < j < n and nums[i] < nums[j].\n",
    "\n",
    "Return the maximum difference. If no such i and j exists, return -1.\n",
    "\n",
    "*Example 1:* <br>\n",
    "Input: nums = [7,1,5,4] <br>\n",
    "Output: 4 <br>\n",
    "Explanation: The maximum difference occurs with i = 1 and j = 2, nums[j] - nums[i] = 5 - 1 = 4. <br>\n",
    "Note that with i = 1 and j = 0, the difference nums[j] - nums[i] = 7 - 1 = 6, but i > j, so it is not valid.\n",
    "\n",
    "*Example 2:* <br>\n",
    "Input: nums = [9,4,3,2] <br>\n",
    "Output: -1 <br>\n",
    "Explanation: There is no i and j such that i < j and nums[i] < nums[j].\n",
    "\n",
    "*Example 3:* <br>\n",
    "Input: nums = [1,5,2,10] <br>\n",
    "Output: 9 <br>\n",
    "Explanation: The maximum difference occurs with i = 0 and j = 3, nums[j] - nums[i] = 10 - 1 = 9.\n",
    " \n",
    "*Constraints:*\n",
    "* n == nums.length\n",
    "* 2 <= n <= 1000\n",
    "* 1 <= nums[i] <= $10^9$"
   ]
  },
  {
   "cell_type": "code",
   "execution_count": 23,
   "metadata": {},
   "outputs": [
    {
     "name": "stdout",
     "output_type": "stream",
     "text": [
      "-1\n",
      "9\n"
     ]
    }
   ],
   "source": [
    "class Solution(object):\n",
    "    def maximumDifference(self, nums):\n",
    "        \"\"\"\n",
    "        :type nums: List[int]\n",
    "        :rtype: int\n",
    "        \"\"\"\n",
    "        len_ = len(nums)\n",
    "        res = -1\n",
    "\n",
    "        for i in range(len_-1):\n",
    "            differ = -1\n",
    "            \n",
    "            for j in range(i, len_):\n",
    "                if nums[i] < nums[j]:\n",
    "                    differ = nums[j] - nums[i]\n",
    "\n",
    "                if differ > res:\n",
    "                    res = differ\n",
    "\n",
    "        return res\n",
    "\n",
    "    \n",
    "    \n",
    "# main\n",
    "nums = [9,4,3,2]\n",
    "#nums = [7,1,5,4]\n",
    "print(Solution.maximumDifference(Solution, nums))\n",
    "\n",
    "nums = [1,5,2,10]\n",
    "obj = Solution()\n",
    "print(obj.maximumDifference(nums))"
   ]
  },
  {
   "cell_type": "code",
   "execution_count": null,
   "metadata": {},
   "outputs": [],
   "source": []
  }
 ],
 "metadata": {
  "kernelspec": {
   "display_name": "Python 3",
   "language": "python",
   "name": "python3"
  },
  "language_info": {
   "codemirror_mode": {
    "name": "ipython",
    "version": 3
   },
   "file_extension": ".py",
   "mimetype": "text/x-python",
   "name": "python",
   "nbconvert_exporter": "python",
   "pygments_lexer": "ipython3",
   "version": "3.8.10"
  }
 },
 "nbformat": 4,
 "nbformat_minor": 4
}
