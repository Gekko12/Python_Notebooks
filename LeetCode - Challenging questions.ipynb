{
 "cells": [
  {
   "cell_type": "markdown",
   "metadata": {},
   "source": [
    "# <font color=\"hotpink\"> Not solved yet </font>"
   ]
  },
  {
   "cell_type": "markdown",
   "metadata": {},
   "source": [
    "## 174. Dungeon Game\n",
    "The demons had captured the princess and imprisoned her in the **bottom-right** corner of a dungeon. The dungeon consists of m x n rooms laid out in a 2D grid. Our valiant knight was initially positioned in the **top-left** room and must fight his way through dungeon to rescue the princess.\n",
    "\n",
    "The knight has an initial health point represented by a positive integer. If at any point his health point drops to 0 or below, he dies immediately.\n",
    "\n",
    "Some of the rooms are guarded by demons (represented by negative integers), so the knight loses health upon entering these rooms; other rooms are either empty (represented as 0) or contain magic orbs that increase the knight's health (represented by positive integers).\n",
    "\n",
    "To reach the princess as quickly as possible, the knight decides to move only **rightward** or **downward** in each step.\n",
    "\n",
    "Return the knight's minimum initial health so that he can rescue the princess.\n",
    "\n",
    "**Note** that any room can contain threats or power-ups, even the first room the knight enters and the bottom-right room where the princess is imprisoned.\n",
    "\n",
    " \n",
    "\n",
    "*Example 1:*\n",
    "<img src=\"https://assets.leetcode.com/uploads/2021/03/13/dungeon-grid-1.jpg\" alt=\"ex1 img\" width=200 />\n",
    "Input: dungeon = [[-2,-3,3],[-5,-10,1],[10,30,-5]]<br>\n",
    "Output: 7<br>\n",
    "Explanation: The initial health of the knight must be at least 7 if he follows the optimal path: RIGHT-> RIGHT -> DOWN -> DOWN.\n",
    "\n",
    "*Example 2:* <br>\n",
    "Input: dungeon = [[0]] <br>\n",
    "Output: 1 <br>\n",
    " \n",
    "*Constraints:*\n",
    "* m == dungeon.length\n",
    "* n == dungeon[i].length\n",
    "* 1 <= m, n <= 200\n",
    "* -1000 <= dungeon[i][j] <= 1000"
   ]
  },
  {
   "cell_type": "code",
   "execution_count": 1,
   "metadata": {},
   "outputs": [],
   "source": [
    "class Solution(object):\n",
    "    def calculateMinimumHP(self, d):\n",
    "        \"\"\"\n",
    "        :type dungeon: List[List[int]]\n",
    "        :rtype: int\n",
    "        \"\"\"\n",
    "       "
   ]
  }
 ],
 "metadata": {
  "kernelspec": {
   "display_name": "Python 3",
   "language": "python",
   "name": "python3"
  },
  "language_info": {
   "codemirror_mode": {
    "name": "ipython",
    "version": 3
   },
   "file_extension": ".py",
   "mimetype": "text/x-python",
   "name": "python",
   "nbconvert_exporter": "python",
   "pygments_lexer": "ipython3",
   "version": "3.8.10"
  }
 },
 "nbformat": 4,
 "nbformat_minor": 4
}
